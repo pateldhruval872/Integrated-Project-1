{
 "cells": [
  {
   "cell_type": "markdown",
   "metadata": {},
   "source": [
    "<div style=\"border:solid green 2px; padding: 20px\">\n",
    "    \n",
    "<b>Hello, Patel!</b> We're glad to see you in code-reviewer territory. You've done a great job on the project, but let's get to know each other and make it even better! We have our own atmosphere here and a few rules:\n",
    "\n",
    "\n",
    "1. I work as a code reviewer, and my main goal is not to point out your mistakes, but to share my experience and help you become a data analyst.\n",
    "2. We speak on a first-come-first-served basis.\n",
    "3. if you want to write or ask a question, don't be shy. Just choose your color for your comment.  \n",
    "4. this is a training project, you don't have to be afraid of making a mistake.  \n",
    "5. You have an unlimited number of attempts to pass the project.  \n",
    "6. Let's Go!\n",
    "\n",
    "\n",
    "---\n",
    "I'll be color-coding comments, please don't delete them:\n",
    "\n",
    "<div class=\"alert alert-block alert-danger\">✍\n",
    "    \n",
    "\n",
    "__Reviewer's comment №1__\n",
    "\n",
    "Needs fixing. The block requires some corrections. Work can't be accepted with the red comments.\n",
    "</div>\n",
    "    \n",
    "---\n",
    "\n",
    "<div class=\"alert alert-block alert-warning\">📝\n",
    "    \n",
    "\n",
    "__Reviewer's comment №1__\n",
    "\n",
    "\n",
    "Remarks. Some recommendations.\n",
    "</div>\n",
    "\n",
    "---\n",
    "\n",
    "<div class=\"alert alert-block alert-success\">✔️\n",
    "    \n",
    "\n",
    "__Reviewer's comment №1__\n",
    "\n",
    "Success. Everything is done succesfully.\n",
    "</div>\n",
    "    \n",
    "---\n",
    "    \n",
    "I suggest that we work on the project in dialogue: if you change something in the project or respond to my comments, write about it. It will be easier for me to track changes if you highlight your comments:   \n",
    "    \n",
    "<div class=\"alert alert-info\"> <b>Student сomments:</b> Student answer..</div>\n",
    "    \n",
    "All this will help to make the recheck of your project faster. If you have any questions about my comments, let me know, we'll figure it out together :)   \n",
    "    \n",
    "---"
   ]
  },
  {
   "cell_type": "markdown",
   "metadata": {},
   "source": [
    "# Predicting Video Game Success: Analyzing Trends and Patterns from 2016 Data\n",
    "\n"
   ]
  },
  {
   "cell_type": "markdown",
   "metadata": {},
   "source": [
    "The video game industry is a dynamic and rapidly evolving market, where understanding the factors that contribute to the success of a game can significantly influence strategic decisions. As a data scientist for Ice, an online store that sells video games globally, the objective of this project is to leverage historical data to identify patterns that determine whether a game is likely to succeed or not. This insight will be instrumental in predicting potential blockbuster games and planning targeted advertising campaigns.\n",
    "\n",
    "This project will utilize data from various sources, including user and expert reviews, game genres, platforms (e.g., Xbox, PlayStation), and sales history, with data available up to December 2016. Additionally, the dataset includes age ratings assigned by the Entertainment Software Rating Board (ESRB), which evaluates game content and assigns ratings such as Teen or Mature.\n",
    "\n",
    "By performing an in-depth exploratory data analysis (EDA) and applying predictive modeling techniques, the project aims to uncover critical trends and patterns that can forecast the success of video games. The insights gained from this analysis will help in planning effective marketing strategies for the upcoming year, ensuring that Ice stays ahead in the competitive market of video game sales."
   ]
  },
  {
   "cell_type": "markdown",
   "metadata": {},
   "source": [
    "<div class=\"alert alert-block alert-success\">✔️\n",
    "    \n",
    "\n",
    "__Reviewer's comment №1__\n",
    "\n",
    "An excellent practice is to describe the goal and main steps in your own words (a skill that will help a lot on a final project). "
   ]
  },
  {
   "cell_type": "markdown",
   "metadata": {},
   "source": []
  },
  {
   "cell_type": "markdown",
   "metadata": {},
   "source": [
    "# Step 1. Open the data file and study the general information\n",
    "\n"
   ]
  },
  {
   "cell_type": "code",
   "execution_count": 1,
   "metadata": {},
   "outputs": [],
   "source": [
    "import pandas as pd\n",
    "import matplotlib.pyplot as plt\n",
    "import seaborn as sns"
   ]
  },
  {
   "cell_type": "code",
   "execution_count": 2,
   "metadata": {},
   "outputs": [],
   "source": [
    "# Load the data\n",
    "games_dataset = pd.read_csv('/datasets/games.csv')"
   ]
  },
  {
   "cell_type": "code",
   "execution_count": 3,
   "metadata": {},
   "outputs": [
    {
     "name": "stdout",
     "output_type": "stream",
     "text": [
      "<class 'pandas.core.frame.DataFrame'>\n",
      "RangeIndex: 16715 entries, 0 to 16714\n",
      "Data columns (total 11 columns):\n",
      " #   Column           Non-Null Count  Dtype  \n",
      "---  ------           --------------  -----  \n",
      " 0   Name             16713 non-null  object \n",
      " 1   Platform         16715 non-null  object \n",
      " 2   Year_of_Release  16446 non-null  float64\n",
      " 3   Genre            16713 non-null  object \n",
      " 4   NA_sales         16715 non-null  float64\n",
      " 5   EU_sales         16715 non-null  float64\n",
      " 6   JP_sales         16715 non-null  float64\n",
      " 7   Other_sales      16715 non-null  float64\n",
      " 8   Critic_Score     8137 non-null   float64\n",
      " 9   User_Score       10014 non-null  object \n",
      " 10  Rating           9949 non-null   object \n",
      "dtypes: float64(6), object(5)\n",
      "memory usage: 1.4+ MB\n"
     ]
    }
   ],
   "source": [
    "games_dataset.info()"
   ]
  },
  {
   "cell_type": "code",
   "execution_count": 4,
   "metadata": {},
   "outputs": [
    {
     "data": {
      "text/html": [
       "<div>\n",
       "<style scoped>\n",
       "    .dataframe tbody tr th:only-of-type {\n",
       "        vertical-align: middle;\n",
       "    }\n",
       "\n",
       "    .dataframe tbody tr th {\n",
       "        vertical-align: top;\n",
       "    }\n",
       "\n",
       "    .dataframe thead th {\n",
       "        text-align: right;\n",
       "    }\n",
       "</style>\n",
       "<table border=\"1\" class=\"dataframe\">\n",
       "  <thead>\n",
       "    <tr style=\"text-align: right;\">\n",
       "      <th></th>\n",
       "      <th>Name</th>\n",
       "      <th>Platform</th>\n",
       "      <th>Year_of_Release</th>\n",
       "      <th>Genre</th>\n",
       "      <th>NA_sales</th>\n",
       "      <th>EU_sales</th>\n",
       "      <th>JP_sales</th>\n",
       "      <th>Other_sales</th>\n",
       "      <th>Critic_Score</th>\n",
       "      <th>User_Score</th>\n",
       "      <th>Rating</th>\n",
       "    </tr>\n",
       "  </thead>\n",
       "  <tbody>\n",
       "    <tr>\n",
       "      <th>0</th>\n",
       "      <td>Wii Sports</td>\n",
       "      <td>Wii</td>\n",
       "      <td>2006.0</td>\n",
       "      <td>Sports</td>\n",
       "      <td>41.36</td>\n",
       "      <td>28.96</td>\n",
       "      <td>3.77</td>\n",
       "      <td>8.45</td>\n",
       "      <td>76.0</td>\n",
       "      <td>8</td>\n",
       "      <td>E</td>\n",
       "    </tr>\n",
       "    <tr>\n",
       "      <th>1</th>\n",
       "      <td>Super Mario Bros.</td>\n",
       "      <td>NES</td>\n",
       "      <td>1985.0</td>\n",
       "      <td>Platform</td>\n",
       "      <td>29.08</td>\n",
       "      <td>3.58</td>\n",
       "      <td>6.81</td>\n",
       "      <td>0.77</td>\n",
       "      <td>NaN</td>\n",
       "      <td>NaN</td>\n",
       "      <td>NaN</td>\n",
       "    </tr>\n",
       "    <tr>\n",
       "      <th>2</th>\n",
       "      <td>Mario Kart Wii</td>\n",
       "      <td>Wii</td>\n",
       "      <td>2008.0</td>\n",
       "      <td>Racing</td>\n",
       "      <td>15.68</td>\n",
       "      <td>12.76</td>\n",
       "      <td>3.79</td>\n",
       "      <td>3.29</td>\n",
       "      <td>82.0</td>\n",
       "      <td>8.3</td>\n",
       "      <td>E</td>\n",
       "    </tr>\n",
       "    <tr>\n",
       "      <th>3</th>\n",
       "      <td>Wii Sports Resort</td>\n",
       "      <td>Wii</td>\n",
       "      <td>2009.0</td>\n",
       "      <td>Sports</td>\n",
       "      <td>15.61</td>\n",
       "      <td>10.93</td>\n",
       "      <td>3.28</td>\n",
       "      <td>2.95</td>\n",
       "      <td>80.0</td>\n",
       "      <td>8</td>\n",
       "      <td>E</td>\n",
       "    </tr>\n",
       "    <tr>\n",
       "      <th>4</th>\n",
       "      <td>Pokemon Red/Pokemon Blue</td>\n",
       "      <td>GB</td>\n",
       "      <td>1996.0</td>\n",
       "      <td>Role-Playing</td>\n",
       "      <td>11.27</td>\n",
       "      <td>8.89</td>\n",
       "      <td>10.22</td>\n",
       "      <td>1.00</td>\n",
       "      <td>NaN</td>\n",
       "      <td>NaN</td>\n",
       "      <td>NaN</td>\n",
       "    </tr>\n",
       "  </tbody>\n",
       "</table>\n",
       "</div>"
      ],
      "text/plain": [
       "                       Name Platform  Year_of_Release         Genre  NA_sales  \\\n",
       "0                Wii Sports      Wii           2006.0        Sports     41.36   \n",
       "1         Super Mario Bros.      NES           1985.0      Platform     29.08   \n",
       "2            Mario Kart Wii      Wii           2008.0        Racing     15.68   \n",
       "3         Wii Sports Resort      Wii           2009.0        Sports     15.61   \n",
       "4  Pokemon Red/Pokemon Blue       GB           1996.0  Role-Playing     11.27   \n",
       "\n",
       "   EU_sales  JP_sales  Other_sales  Critic_Score User_Score Rating  \n",
       "0     28.96      3.77         8.45          76.0          8      E  \n",
       "1      3.58      6.81         0.77           NaN        NaN    NaN  \n",
       "2     12.76      3.79         3.29          82.0        8.3      E  \n",
       "3     10.93      3.28         2.95          80.0          8      E  \n",
       "4      8.89     10.22         1.00           NaN        NaN    NaN  "
      ]
     },
     "execution_count": 4,
     "metadata": {},
     "output_type": "execute_result"
    }
   ],
   "source": [
    "# Display the first few rows of the dataframe\n",
    "games_dataset.head()"
   ]
  },
  {
   "cell_type": "markdown",
   "metadata": {},
   "source": [
    "# Step 2. Prepare the data\n"
   ]
  },
  {
   "cell_type": "code",
   "execution_count": 5,
   "metadata": {},
   "outputs": [
    {
     "data": {
      "text/plain": [
       "Index(['name', 'platform', 'year_of_release', 'genre', 'na_sales', 'eu_sales',\n",
       "       'jp_sales', 'other_sales', 'critic_score', 'user_score', 'rating'],\n",
       "      dtype='object')"
      ]
     },
     "execution_count": 5,
     "metadata": {},
     "output_type": "execute_result"
    }
   ],
   "source": [
    "#Replace the column names\n",
    "games_dataset.columns = games_dataset.columns.str.lower()\n",
    "games_dataset.columns"
   ]
  },
  {
   "cell_type": "markdown",
   "metadata": {},
   "source": [
    "***Convert the data to the required types:***\n",
    "\n",
    "- year_of_release: Convert to integer.\n",
    "- critic_score: Convert to integer.\n",
    "- user_score: Convert to float, handling 'TBD' values appropriately.\n",
    "- rating: Ensure consistent string format."
   ]
  },
  {
   "cell_type": "code",
   "execution_count": 6,
   "metadata": {},
   "outputs": [
    {
     "name": "stdout",
     "output_type": "stream",
     "text": [
      "<class 'pandas.core.frame.DataFrame'>\n",
      "RangeIndex: 16715 entries, 0 to 16714\n",
      "Data columns (total 11 columns):\n",
      " #   Column           Non-Null Count  Dtype  \n",
      "---  ------           --------------  -----  \n",
      " 0   name             16713 non-null  object \n",
      " 1   platform         16715 non-null  object \n",
      " 2   year_of_release  16715 non-null  int64  \n",
      " 3   genre            16713 non-null  object \n",
      " 4   na_sales         16715 non-null  float64\n",
      " 5   eu_sales         16715 non-null  float64\n",
      " 6   jp_sales         16715 non-null  float64\n",
      " 7   other_sales      16715 non-null  float64\n",
      " 8   critic_score     8137 non-null   float64\n",
      " 9   user_score       8760 non-null   float64\n",
      " 10  rating           16715 non-null  object \n",
      "dtypes: float64(6), int64(1), object(4)\n",
      "memory usage: 1.4+ MB\n"
     ]
    }
   ],
   "source": [
    "#Convert the data to the required types and fill the msiing value\n",
    "games_dataset['year_of_release'] = games_dataset['year_of_release'].fillna(games_dataset['year_of_release'].median()).astype(int)\n",
    "games_dataset['critic_score'] = games_dataset['critic_score'].replace('tbd', None).astype(float)\n",
    "games_dataset['user_score'] = games_dataset['user_score'].replace('tbd', None).astype(float)\n",
    "games_dataset['rating'] = games_dataset['rating'].fillna('Unknown')\n",
    "games_dataset.info()"
   ]
  },
  {
   "cell_type": "code",
   "execution_count": 7,
   "metadata": {},
   "outputs": [
    {
     "data": {
      "text/plain": [
       "0"
      ]
     },
     "execution_count": 7,
     "metadata": {},
     "output_type": "execute_result"
    }
   ],
   "source": [
    "#Check Duplicates\n",
    "games_dataset.duplicated().sum()"
   ]
  },
  {
   "cell_type": "markdown",
   "metadata": {},
   "source": [
    "<div class=\"alert alert-block alert-success\">✔️\n",
    "\n",
    "__Reviewer's comment №2__\n",
    "    \n",
    "Duplicate checking is the basis of data preprocessing"
   ]
  },
  {
   "cell_type": "markdown",
   "metadata": {},
   "source": [
    "<div class=\"alert alert-block alert-success\">✔️\n",
    "    \n",
    "\n",
    "__Reviewer's comment №1__\n",
    "\n",
    "That's right, tbd is the same in meaning as skip"
   ]
  },
  {
   "cell_type": "markdown",
   "metadata": {},
   "source": [
    "***Describe the columns where the data types have been changed and why:***\n",
    "\n",
    "- year_of_release: Converted to integer because years are whole numbers and it allows for easy comparison and filtering.\n",
    "- critic_score: Converted to float to handle decimal ratings and 'TBD' values, which indicate scores to be determined.\n",
    "- user_score: Converted to float to handle decimal ratings and 'TBD' values, which indicate scores to be determined."
   ]
  },
  {
   "cell_type": "markdown",
   "metadata": {},
   "source": [
    "***Dealing with missing values:***\n",
    "\n",
    "- year_of_release: Filled with 0 as placeholder; actual handling might depend on the specific analysis.\n",
    "- critic_score: Left as None for 'TBD' since it's to be determined and can't be accurately filled.\n",
    "- user_score: Left as None for 'TBD' since it's to be determined and can't be accurately filled.\n",
    "- rating: Left blank if missing, since ratings might be unknown or not applicable."
   ]
  },
  {
   "cell_type": "markdown",
   "metadata": {},
   "source": [
    "***Reasons for Missing Values:***\n",
    "\n",
    "- year_of_release: Possible data entry errors or unavailability of the release year.\n",
    "- critic_score/user_score: Game might not have been reviewed yet, pending reviews, or data entry errors.\n",
    "- rating: Game might not be rated yet, new game awaiting rating, or data entry errors."
   ]
  },
  {
   "cell_type": "markdown",
   "metadata": {},
   "source": [
    "**Handling 'TBD' values:**\n",
    "\n",
    "- user_score & critic_score: Replaced with None (NaN in pandas) since these scores are to be determined and cannot be accurately filled."
   ]
  },
  {
   "cell_type": "code",
   "execution_count": 8,
   "metadata": {},
   "outputs": [
    {
     "name": "stdout",
     "output_type": "stream",
     "text": [
      "<class 'pandas.core.frame.DataFrame'>\n",
      "Int64Index: 16713 entries, 0 to 16714\n",
      "Data columns (total 11 columns):\n",
      " #   Column           Non-Null Count  Dtype  \n",
      "---  ------           --------------  -----  \n",
      " 0   name             16713 non-null  object \n",
      " 1   platform         16713 non-null  object \n",
      " 2   year_of_release  16713 non-null  int64  \n",
      " 3   genre            16713 non-null  object \n",
      " 4   na_sales         16713 non-null  float64\n",
      " 5   eu_sales         16713 non-null  float64\n",
      " 6   jp_sales         16713 non-null  float64\n",
      " 7   other_sales      16713 non-null  float64\n",
      " 8   critic_score     8137 non-null   float64\n",
      " 9   user_score       8760 non-null   float64\n",
      " 10  rating           16713 non-null  object \n",
      "dtypes: float64(6), int64(1), object(4)\n",
      "memory usage: 1.5+ MB\n"
     ]
    }
   ],
   "source": [
    "games_dataset = games_dataset.dropna(subset=['name', 'genre'])\n",
    "games_dataset.info()"
   ]
  },
  {
   "cell_type": "markdown",
   "metadata": {},
   "source": [
    "<div class=\"alert alert-block alert-success\">✔️\n",
    "\n",
    "__Reviewer's comment №1__\n",
    "    \n",
    "Lines with gaps in the Name are best deleted. We know almost nothing about these games."
   ]
  },
  {
   "cell_type": "markdown",
   "metadata": {},
   "source": [
    "- Missing value handling in name column: Remove rows with missing names since they are essential identifiers for each game.\n",
    "- Missing value handling in genre column:  Remove rows with missing genres as genre is critical for categorical analysis.\n"
   ]
  },
  {
   "cell_type": "markdown",
   "metadata": {},
   "source": [
    "**Handling Missing Values in user_score Column**\n",
    "\n",
    "- we will impute missing user_score values with the median score, assuming that the distribution of scores is skewed and the median provides a better central tendency measure.\n"
   ]
  },
  {
   "cell_type": "code",
   "execution_count": 9,
   "metadata": {},
   "outputs": [
    {
     "name": "stdout",
     "output_type": "stream",
     "text": [
      "<class 'pandas.core.frame.DataFrame'>\n",
      "Int64Index: 16713 entries, 0 to 16714\n",
      "Data columns (total 11 columns):\n",
      " #   Column           Non-Null Count  Dtype  \n",
      "---  ------           --------------  -----  \n",
      " 0   name             16713 non-null  object \n",
      " 1   platform         16713 non-null  object \n",
      " 2   year_of_release  16713 non-null  int64  \n",
      " 3   genre            16713 non-null  object \n",
      " 4   na_sales         16713 non-null  float64\n",
      " 5   eu_sales         16713 non-null  float64\n",
      " 6   jp_sales         16713 non-null  float64\n",
      " 7   other_sales      16713 non-null  float64\n",
      " 8   critic_score     8137 non-null   float64\n",
      " 9   user_score       16713 non-null  float64\n",
      " 10  rating           16713 non-null  object \n",
      "dtypes: float64(6), int64(1), object(4)\n",
      "memory usage: 1.5+ MB\n"
     ]
    }
   ],
   "source": [
    "games_dataset['user_score'] = games_dataset['user_score'].fillna(games_dataset['user_score'].median())\n",
    "games_dataset.info()"
   ]
  },
  {
   "cell_type": "code",
   "execution_count": 10,
   "metadata": {},
   "outputs": [
    {
     "data": {
      "text/plain": [
       "count    16713.000000\n",
       "mean         0.533315\n",
       "std          1.548282\n",
       "min          0.000000\n",
       "25%          0.060000\n",
       "50%          0.170000\n",
       "75%          0.470000\n",
       "max         82.540000\n",
       "Name: total_sales, dtype: float64"
      ]
     },
     "execution_count": 10,
     "metadata": {},
     "output_type": "execute_result"
    }
   ],
   "source": [
    "games_dataset['total_sales'] = games_dataset[['na_sales', 'eu_sales', 'jp_sales', 'other_sales']].sum(axis=1)\n",
    "games_dataset.head()\n",
    "games_dataset['total_sales'].describe()"
   ]
  },
  {
   "cell_type": "markdown",
   "metadata": {},
   "source": [
    "## Intermediate Conclusion\n",
    "\n",
    "### Data Loading and Exploration\n",
    "The dataset has been successfully loaded and an initial exploration was performed to understand its structure and content. The dataset contains 16,715 entries with 11 columns, including information on game names, platforms, release years, genres, sales figures, critic and user scores, and ratings.\n",
    "\n",
    "### Data Cleaning and Preparation\n",
    "The following steps were taken to clean and prepare the data:\n",
    "\n",
    "- Column names were standardized to lowercase.\n",
    "- Data types were converted as necessary, and missing values were handled appropriately.\n",
    "- Rows with missing names and genres were removed as they are critical for analysis.\n",
    "- User scores with 'TBD' values were replaced with None, and missing values were imputed with the median score.\n",
    "- A new column for total sales was created by summing sales across different regions.\n",
    "\n",
    "Next, we will perform exploratory data analysis (EDA) to uncover patterns and trends in the data. This will include visualizations and statistical analyses to validate our hypotheses and guide the development of predictive models."
   ]
  },
  {
   "cell_type": "markdown",
   "metadata": {},
   "source": [
    "<div class=\"alert alert-block alert-success\">✔️\n",
    "\n",
    "__Reviewer's comment №2__\n",
    "    \n",
    "All right"
   ]
  },
  {
   "cell_type": "markdown",
   "metadata": {},
   "source": []
  },
  {
   "cell_type": "markdown",
   "metadata": {},
   "source": [
    "# Step 3. Analyze the data\n",
    "\n"
   ]
  },
  {
   "cell_type": "code",
   "execution_count": 11,
   "metadata": {},
   "outputs": [
    {
     "data": {
      "text/html": [
       "<div>\n",
       "<style scoped>\n",
       "    .dataframe tbody tr th:only-of-type {\n",
       "        vertical-align: middle;\n",
       "    }\n",
       "\n",
       "    .dataframe tbody tr th {\n",
       "        vertical-align: top;\n",
       "    }\n",
       "\n",
       "    .dataframe thead th {\n",
       "        text-align: right;\n",
       "    }\n",
       "</style>\n",
       "<table border=\"1\" class=\"dataframe\">\n",
       "  <thead>\n",
       "    <tr style=\"text-align: right;\">\n",
       "      <th></th>\n",
       "      <th>index</th>\n",
       "      <th>year_of_release</th>\n",
       "    </tr>\n",
       "  </thead>\n",
       "  <tbody>\n",
       "    <tr>\n",
       "      <th>0</th>\n",
       "      <td>1980</td>\n",
       "      <td>9</td>\n",
       "    </tr>\n",
       "    <tr>\n",
       "      <th>1</th>\n",
       "      <td>1981</td>\n",
       "      <td>46</td>\n",
       "    </tr>\n",
       "    <tr>\n",
       "      <th>2</th>\n",
       "      <td>1982</td>\n",
       "      <td>36</td>\n",
       "    </tr>\n",
       "    <tr>\n",
       "      <th>3</th>\n",
       "      <td>1983</td>\n",
       "      <td>17</td>\n",
       "    </tr>\n",
       "    <tr>\n",
       "      <th>4</th>\n",
       "      <td>1984</td>\n",
       "      <td>14</td>\n",
       "    </tr>\n",
       "    <tr>\n",
       "      <th>5</th>\n",
       "      <td>1985</td>\n",
       "      <td>14</td>\n",
       "    </tr>\n",
       "    <tr>\n",
       "      <th>6</th>\n",
       "      <td>1986</td>\n",
       "      <td>21</td>\n",
       "    </tr>\n",
       "    <tr>\n",
       "      <th>7</th>\n",
       "      <td>1987</td>\n",
       "      <td>16</td>\n",
       "    </tr>\n",
       "    <tr>\n",
       "      <th>8</th>\n",
       "      <td>1988</td>\n",
       "      <td>15</td>\n",
       "    </tr>\n",
       "    <tr>\n",
       "      <th>9</th>\n",
       "      <td>1989</td>\n",
       "      <td>17</td>\n",
       "    </tr>\n",
       "    <tr>\n",
       "      <th>10</th>\n",
       "      <td>1990</td>\n",
       "      <td>16</td>\n",
       "    </tr>\n",
       "    <tr>\n",
       "      <th>11</th>\n",
       "      <td>1991</td>\n",
       "      <td>41</td>\n",
       "    </tr>\n",
       "    <tr>\n",
       "      <th>12</th>\n",
       "      <td>1992</td>\n",
       "      <td>43</td>\n",
       "    </tr>\n",
       "    <tr>\n",
       "      <th>13</th>\n",
       "      <td>1993</td>\n",
       "      <td>60</td>\n",
       "    </tr>\n",
       "    <tr>\n",
       "      <th>14</th>\n",
       "      <td>1994</td>\n",
       "      <td>121</td>\n",
       "    </tr>\n",
       "    <tr>\n",
       "      <th>15</th>\n",
       "      <td>1995</td>\n",
       "      <td>219</td>\n",
       "    </tr>\n",
       "    <tr>\n",
       "      <th>16</th>\n",
       "      <td>1996</td>\n",
       "      <td>263</td>\n",
       "    </tr>\n",
       "    <tr>\n",
       "      <th>17</th>\n",
       "      <td>1997</td>\n",
       "      <td>289</td>\n",
       "    </tr>\n",
       "    <tr>\n",
       "      <th>18</th>\n",
       "      <td>1998</td>\n",
       "      <td>379</td>\n",
       "    </tr>\n",
       "    <tr>\n",
       "      <th>19</th>\n",
       "      <td>1999</td>\n",
       "      <td>338</td>\n",
       "    </tr>\n",
       "    <tr>\n",
       "      <th>20</th>\n",
       "      <td>2000</td>\n",
       "      <td>350</td>\n",
       "    </tr>\n",
       "    <tr>\n",
       "      <th>21</th>\n",
       "      <td>2001</td>\n",
       "      <td>482</td>\n",
       "    </tr>\n",
       "    <tr>\n",
       "      <th>22</th>\n",
       "      <td>2002</td>\n",
       "      <td>829</td>\n",
       "    </tr>\n",
       "    <tr>\n",
       "      <th>23</th>\n",
       "      <td>2003</td>\n",
       "      <td>775</td>\n",
       "    </tr>\n",
       "    <tr>\n",
       "      <th>24</th>\n",
       "      <td>2004</td>\n",
       "      <td>762</td>\n",
       "    </tr>\n",
       "    <tr>\n",
       "      <th>25</th>\n",
       "      <td>2005</td>\n",
       "      <td>939</td>\n",
       "    </tr>\n",
       "    <tr>\n",
       "      <th>26</th>\n",
       "      <td>2006</td>\n",
       "      <td>1006</td>\n",
       "    </tr>\n",
       "    <tr>\n",
       "      <th>27</th>\n",
       "      <td>2007</td>\n",
       "      <td>1466</td>\n",
       "    </tr>\n",
       "    <tr>\n",
       "      <th>28</th>\n",
       "      <td>2008</td>\n",
       "      <td>1427</td>\n",
       "    </tr>\n",
       "    <tr>\n",
       "      <th>29</th>\n",
       "      <td>2009</td>\n",
       "      <td>1426</td>\n",
       "    </tr>\n",
       "    <tr>\n",
       "      <th>30</th>\n",
       "      <td>2010</td>\n",
       "      <td>1255</td>\n",
       "    </tr>\n",
       "    <tr>\n",
       "      <th>31</th>\n",
       "      <td>2011</td>\n",
       "      <td>1136</td>\n",
       "    </tr>\n",
       "    <tr>\n",
       "      <th>32</th>\n",
       "      <td>2012</td>\n",
       "      <td>653</td>\n",
       "    </tr>\n",
       "    <tr>\n",
       "      <th>33</th>\n",
       "      <td>2013</td>\n",
       "      <td>544</td>\n",
       "    </tr>\n",
       "    <tr>\n",
       "      <th>34</th>\n",
       "      <td>2014</td>\n",
       "      <td>581</td>\n",
       "    </tr>\n",
       "    <tr>\n",
       "      <th>35</th>\n",
       "      <td>2015</td>\n",
       "      <td>606</td>\n",
       "    </tr>\n",
       "    <tr>\n",
       "      <th>36</th>\n",
       "      <td>2016</td>\n",
       "      <td>502</td>\n",
       "    </tr>\n",
       "  </tbody>\n",
       "</table>\n",
       "</div>"
      ],
      "text/plain": [
       "    index  year_of_release\n",
       "0    1980                9\n",
       "1    1981               46\n",
       "2    1982               36\n",
       "3    1983               17\n",
       "4    1984               14\n",
       "5    1985               14\n",
       "6    1986               21\n",
       "7    1987               16\n",
       "8    1988               15\n",
       "9    1989               17\n",
       "10   1990               16\n",
       "11   1991               41\n",
       "12   1992               43\n",
       "13   1993               60\n",
       "14   1994              121\n",
       "15   1995              219\n",
       "16   1996              263\n",
       "17   1997              289\n",
       "18   1998              379\n",
       "19   1999              338\n",
       "20   2000              350\n",
       "21   2001              482\n",
       "22   2002              829\n",
       "23   2003              775\n",
       "24   2004              762\n",
       "25   2005              939\n",
       "26   2006             1006\n",
       "27   2007             1466\n",
       "28   2008             1427\n",
       "29   2009             1426\n",
       "30   2010             1255\n",
       "31   2011             1136\n",
       "32   2012              653\n",
       "33   2013              544\n",
       "34   2014              581\n",
       "35   2015              606\n",
       "36   2016              502"
      ]
     },
     "execution_count": 11,
     "metadata": {},
     "output_type": "execute_result"
    }
   ],
   "source": [
    "#Look at how many games were released in different years. Is the data for every period significant?\n",
    "\n",
    "games_per_year = games_dataset['year_of_release'].value_counts().sort_index()\n",
    "games_per_year.reset_index()"
   ]
  },
  {
   "cell_type": "code",
   "execution_count": 12,
   "metadata": {},
   "outputs": [
    {
     "data": {
      "image/png": "[encoded data removed]",
      "text/plain": [
       "<Figure size 1200x600 with 1 Axes>"
      ]
     },
     "metadata": {},
     "output_type": "display_data"
    }
   ],
   "source": [
    "games_per_year.plot(kind='bar', title='Number of Games Released per Year', xlabel='Year of Release', ylabel='Number of Games', figsize=(12, 6))\n",
    "plt.show()"
   ]
  },
  {
   "attachments": {
    "image-3.png": {
     "image/png": "[encoded data removed]"
    },
    "image-4.png": {
     "image/png": "[encoded data removed]"
    }
   },
   "cell_type": "markdown",
   "metadata": {},
   "source": [
    "<div class=\"alert alert-block alert-warning\">📝\n",
    "\n",
    "__Reviewer's comment №1__\n",
    "    \n",
    "\n",
    "It would be nice to add visualizations. In order to build a graph, you need to group the data (in our case, the year of release and quantity)\n",
    "    \n",
    "![image-3.png](attachment:image-3.png)\n",
    "    \n",
    "---\n",
    "Next, using the sns library (it's powerful, and you can do anything with it). From the data in the grouped table, plot the graph. You can have it if you want =) The main thing is to play around with the arguments and figure it out. In future projects you will build powerful graphs, this skill will come in handy there    \n",
    "    \n",
    "![image-4.png](attachment:image-4.png)\n",
    "</div>"
   ]
  },
  {
   "cell_type": "markdown",
   "metadata": {},
   "source": []
  },
  {
   "cell_type": "markdown",
   "metadata": {},
   "source": [
    "**Based on the analysis and visualization:**\n",
    "\n",
    "- The early years (1980-1990) had relatively low numbers of game releases and can be considered less significant in terms of volume.\n",
    "- The period from 1991 to 2005 shows a significant growth in game releases, marking it as a period of expansion in the gaming industry.\n",
    "- The years from 2006 to 2011 represent the peak period with the highest number of game releases, making it the most significant period in the dataset.\n",
    "- From 2012 onwards, there is a decline in game releases, indicating a potential shift in the industry dynamics.\n",
    "\n",
    "Overall, the data for the period from 1991 to 2011 is the most significant in terms of the number of game releases, reflecting major trends and shifts in the gaming industry. The early years and the decline period also provide valuable insights but are less significant in terms of volume."
   ]
  },
  {
   "cell_type": "code",
   "execution_count": 13,
   "metadata": {},
   "outputs": [
    {
     "data": {
      "text/html": [
       "<div>\n",
       "<style scoped>\n",
       "    .dataframe tbody tr th:only-of-type {\n",
       "        vertical-align: middle;\n",
       "    }\n",
       "\n",
       "    .dataframe tbody tr th {\n",
       "        vertical-align: top;\n",
       "    }\n",
       "\n",
       "    .dataframe thead th {\n",
       "        text-align: right;\n",
       "    }\n",
       "</style>\n",
       "<table border=\"1\" class=\"dataframe\">\n",
       "  <thead>\n",
       "    <tr style=\"text-align: right;\">\n",
       "      <th></th>\n",
       "      <th>platform</th>\n",
       "      <th>total_sales</th>\n",
       "    </tr>\n",
       "  </thead>\n",
       "  <tbody>\n",
       "    <tr>\n",
       "      <th>16</th>\n",
       "      <td>PS2</td>\n",
       "      <td>1255.77</td>\n",
       "    </tr>\n",
       "    <tr>\n",
       "      <th>28</th>\n",
       "      <td>X360</td>\n",
       "      <td>971.42</td>\n",
       "    </tr>\n",
       "    <tr>\n",
       "      <th>17</th>\n",
       "      <td>PS3</td>\n",
       "      <td>939.65</td>\n",
       "    </tr>\n",
       "    <tr>\n",
       "      <th>26</th>\n",
       "      <td>Wii</td>\n",
       "      <td>907.51</td>\n",
       "    </tr>\n",
       "    <tr>\n",
       "      <th>4</th>\n",
       "      <td>DS</td>\n",
       "      <td>806.12</td>\n",
       "    </tr>\n",
       "    <tr>\n",
       "      <th>15</th>\n",
       "      <td>PS</td>\n",
       "      <td>730.86</td>\n",
       "    </tr>\n",
       "    <tr>\n",
       "      <th>6</th>\n",
       "      <td>GBA</td>\n",
       "      <td>317.85</td>\n",
       "    </tr>\n",
       "    <tr>\n",
       "      <th>18</th>\n",
       "      <td>PS4</td>\n",
       "      <td>314.14</td>\n",
       "    </tr>\n",
       "    <tr>\n",
       "      <th>19</th>\n",
       "      <td>PSP</td>\n",
       "      <td>294.05</td>\n",
       "    </tr>\n",
       "    <tr>\n",
       "      <th>13</th>\n",
       "      <td>PC</td>\n",
       "      <td>259.52</td>\n",
       "    </tr>\n",
       "    <tr>\n",
       "      <th>2</th>\n",
       "      <td>3DS</td>\n",
       "      <td>259.00</td>\n",
       "    </tr>\n",
       "    <tr>\n",
       "      <th>29</th>\n",
       "      <td>XB</td>\n",
       "      <td>257.74</td>\n",
       "    </tr>\n",
       "    <tr>\n",
       "      <th>5</th>\n",
       "      <td>GB</td>\n",
       "      <td>255.46</td>\n",
       "    </tr>\n",
       "    <tr>\n",
       "      <th>11</th>\n",
       "      <td>NES</td>\n",
       "      <td>251.05</td>\n",
       "    </tr>\n",
       "    <tr>\n",
       "      <th>10</th>\n",
       "      <td>N64</td>\n",
       "      <td>218.68</td>\n",
       "    </tr>\n",
       "    <tr>\n",
       "      <th>23</th>\n",
       "      <td>SNES</td>\n",
       "      <td>200.04</td>\n",
       "    </tr>\n",
       "    <tr>\n",
       "      <th>7</th>\n",
       "      <td>GC</td>\n",
       "      <td>198.93</td>\n",
       "    </tr>\n",
       "    <tr>\n",
       "      <th>30</th>\n",
       "      <td>XOne</td>\n",
       "      <td>159.32</td>\n",
       "    </tr>\n",
       "  </tbody>\n",
       "</table>\n",
       "</div>"
      ],
      "text/plain": [
       "   platform  total_sales\n",
       "16      PS2      1255.77\n",
       "28     X360       971.42\n",
       "17      PS3       939.65\n",
       "26      Wii       907.51\n",
       "4        DS       806.12\n",
       "15       PS       730.86\n",
       "6       GBA       317.85\n",
       "18      PS4       314.14\n",
       "19      PSP       294.05\n",
       "13       PC       259.52\n",
       "2       3DS       259.00\n",
       "29       XB       257.74\n",
       "5        GB       255.46\n",
       "11      NES       251.05\n",
       "10      N64       218.68\n",
       "23     SNES       200.04\n",
       "7        GC       198.93\n",
       "30     XOne       159.32"
      ]
     },
     "execution_count": 13,
     "metadata": {},
     "output_type": "execute_result"
    }
   ],
   "source": [
    "platform_sales = games_dataset.groupby('platform')['total_sales'].sum().reset_index().sort_values('total_sales', ascending=False)\n",
    "top_platforms = platform_sales[platform_sales['total_sales'] > 100.0]\n",
    "top_platforms"
   ]
  },
  {
   "cell_type": "code",
   "execution_count": 14,
   "metadata": {},
   "outputs": [],
   "source": [
    "platform_sales = games_dataset.groupby('platform')['total_sales'].sum().sort_values(ascending=False)\n",
    "top_platforms = platform_sales[platform_sales > 100.0].index\n"
   ]
  },
  {
   "cell_type": "code",
   "execution_count": 15,
   "metadata": {},
   "outputs": [
    {
     "data": {
      "text/html": [
       "<div>\n",
       "<style scoped>\n",
       "    .dataframe tbody tr th:only-of-type {\n",
       "        vertical-align: middle;\n",
       "    }\n",
       "\n",
       "    .dataframe tbody tr th {\n",
       "        vertical-align: top;\n",
       "    }\n",
       "\n",
       "    .dataframe thead th {\n",
       "        text-align: right;\n",
       "    }\n",
       "</style>\n",
       "<table border=\"1\" class=\"dataframe\">\n",
       "  <thead>\n",
       "    <tr style=\"text-align: right;\">\n",
       "      <th>platform</th>\n",
       "      <th>3DS</th>\n",
       "      <th>DS</th>\n",
       "      <th>GB</th>\n",
       "      <th>GBA</th>\n",
       "      <th>GC</th>\n",
       "      <th>N64</th>\n",
       "      <th>NES</th>\n",
       "      <th>PC</th>\n",
       "      <th>PS</th>\n",
       "      <th>PS2</th>\n",
       "      <th>PS3</th>\n",
       "      <th>PS4</th>\n",
       "      <th>PSP</th>\n",
       "      <th>SNES</th>\n",
       "      <th>Wii</th>\n",
       "      <th>X360</th>\n",
       "      <th>XB</th>\n",
       "      <th>XOne</th>\n",
       "    </tr>\n",
       "    <tr>\n",
       "      <th>year_of_release</th>\n",
       "      <th></th>\n",
       "      <th></th>\n",
       "      <th></th>\n",
       "      <th></th>\n",
       "      <th></th>\n",
       "      <th></th>\n",
       "      <th></th>\n",
       "      <th></th>\n",
       "      <th></th>\n",
       "      <th></th>\n",
       "      <th></th>\n",
       "      <th></th>\n",
       "      <th></th>\n",
       "      <th></th>\n",
       "      <th></th>\n",
       "      <th></th>\n",
       "      <th></th>\n",
       "      <th></th>\n",
       "    </tr>\n",
       "  </thead>\n",
       "  <tbody>\n",
       "    <tr>\n",
       "      <th>1983</th>\n",
       "      <td>NaN</td>\n",
       "      <td>NaN</td>\n",
       "      <td>NaN</td>\n",
       "      <td>NaN</td>\n",
       "      <td>NaN</td>\n",
       "      <td>NaN</td>\n",
       "      <td>10.96</td>\n",
       "      <td>NaN</td>\n",
       "      <td>NaN</td>\n",
       "      <td>NaN</td>\n",
       "      <td>NaN</td>\n",
       "      <td>NaN</td>\n",
       "      <td>NaN</td>\n",
       "      <td>NaN</td>\n",
       "      <td>NaN</td>\n",
       "      <td>NaN</td>\n",
       "      <td>NaN</td>\n",
       "      <td>NaN</td>\n",
       "    </tr>\n",
       "    <tr>\n",
       "      <th>1984</th>\n",
       "      <td>NaN</td>\n",
       "      <td>NaN</td>\n",
       "      <td>NaN</td>\n",
       "      <td>NaN</td>\n",
       "      <td>NaN</td>\n",
       "      <td>NaN</td>\n",
       "      <td>50.08</td>\n",
       "      <td>NaN</td>\n",
       "      <td>NaN</td>\n",
       "      <td>NaN</td>\n",
       "      <td>NaN</td>\n",
       "      <td>NaN</td>\n",
       "      <td>NaN</td>\n",
       "      <td>NaN</td>\n",
       "      <td>NaN</td>\n",
       "      <td>NaN</td>\n",
       "      <td>NaN</td>\n",
       "      <td>NaN</td>\n",
       "    </tr>\n",
       "    <tr>\n",
       "      <th>1985</th>\n",
       "      <td>NaN</td>\n",
       "      <td>0.02</td>\n",
       "      <td>NaN</td>\n",
       "      <td>NaN</td>\n",
       "      <td>NaN</td>\n",
       "      <td>NaN</td>\n",
       "      <td>53.44</td>\n",
       "      <td>0.04</td>\n",
       "      <td>NaN</td>\n",
       "      <td>NaN</td>\n",
       "      <td>NaN</td>\n",
       "      <td>NaN</td>\n",
       "      <td>NaN</td>\n",
       "      <td>NaN</td>\n",
       "      <td>NaN</td>\n",
       "      <td>NaN</td>\n",
       "      <td>NaN</td>\n",
       "      <td>NaN</td>\n",
       "    </tr>\n",
       "    <tr>\n",
       "      <th>1986</th>\n",
       "      <td>NaN</td>\n",
       "      <td>NaN</td>\n",
       "      <td>NaN</td>\n",
       "      <td>NaN</td>\n",
       "      <td>NaN</td>\n",
       "      <td>NaN</td>\n",
       "      <td>36.41</td>\n",
       "      <td>NaN</td>\n",
       "      <td>NaN</td>\n",
       "      <td>NaN</td>\n",
       "      <td>NaN</td>\n",
       "      <td>NaN</td>\n",
       "      <td>NaN</td>\n",
       "      <td>NaN</td>\n",
       "      <td>NaN</td>\n",
       "      <td>NaN</td>\n",
       "      <td>NaN</td>\n",
       "      <td>NaN</td>\n",
       "    </tr>\n",
       "    <tr>\n",
       "      <th>1987</th>\n",
       "      <td>NaN</td>\n",
       "      <td>NaN</td>\n",
       "      <td>NaN</td>\n",
       "      <td>NaN</td>\n",
       "      <td>NaN</td>\n",
       "      <td>NaN</td>\n",
       "      <td>19.76</td>\n",
       "      <td>NaN</td>\n",
       "      <td>NaN</td>\n",
       "      <td>NaN</td>\n",
       "      <td>NaN</td>\n",
       "      <td>NaN</td>\n",
       "      <td>NaN</td>\n",
       "      <td>NaN</td>\n",
       "      <td>NaN</td>\n",
       "      <td>NaN</td>\n",
       "      <td>NaN</td>\n",
       "      <td>NaN</td>\n",
       "    </tr>\n",
       "    <tr>\n",
       "      <th>1988</th>\n",
       "      <td>NaN</td>\n",
       "      <td>NaN</td>\n",
       "      <td>1.43</td>\n",
       "      <td>NaN</td>\n",
       "      <td>NaN</td>\n",
       "      <td>NaN</td>\n",
       "      <td>45.01</td>\n",
       "      <td>0.03</td>\n",
       "      <td>NaN</td>\n",
       "      <td>NaN</td>\n",
       "      <td>NaN</td>\n",
       "      <td>NaN</td>\n",
       "      <td>NaN</td>\n",
       "      <td>NaN</td>\n",
       "      <td>NaN</td>\n",
       "      <td>NaN</td>\n",
       "      <td>NaN</td>\n",
       "      <td>NaN</td>\n",
       "    </tr>\n",
       "    <tr>\n",
       "      <th>1989</th>\n",
       "      <td>NaN</td>\n",
       "      <td>NaN</td>\n",
       "      <td>64.97</td>\n",
       "      <td>NaN</td>\n",
       "      <td>NaN</td>\n",
       "      <td>NaN</td>\n",
       "      <td>7.85</td>\n",
       "      <td>NaN</td>\n",
       "      <td>NaN</td>\n",
       "      <td>NaN</td>\n",
       "      <td>NaN</td>\n",
       "      <td>NaN</td>\n",
       "      <td>NaN</td>\n",
       "      <td>NaN</td>\n",
       "      <td>NaN</td>\n",
       "      <td>NaN</td>\n",
       "      <td>NaN</td>\n",
       "      <td>NaN</td>\n",
       "    </tr>\n",
       "    <tr>\n",
       "      <th>1990</th>\n",
       "      <td>NaN</td>\n",
       "      <td>NaN</td>\n",
       "      <td>4.89</td>\n",
       "      <td>NaN</td>\n",
       "      <td>NaN</td>\n",
       "      <td>NaN</td>\n",
       "      <td>15.73</td>\n",
       "      <td>NaN</td>\n",
       "      <td>NaN</td>\n",
       "      <td>NaN</td>\n",
       "      <td>NaN</td>\n",
       "      <td>NaN</td>\n",
       "      <td>NaN</td>\n",
       "      <td>26.15</td>\n",
       "      <td>NaN</td>\n",
       "      <td>NaN</td>\n",
       "      <td>NaN</td>\n",
       "      <td>NaN</td>\n",
       "    </tr>\n",
       "    <tr>\n",
       "      <th>1991</th>\n",
       "      <td>NaN</td>\n",
       "      <td>NaN</td>\n",
       "      <td>5.57</td>\n",
       "      <td>NaN</td>\n",
       "      <td>NaN</td>\n",
       "      <td>NaN</td>\n",
       "      <td>6.11</td>\n",
       "      <td>NaN</td>\n",
       "      <td>NaN</td>\n",
       "      <td>NaN</td>\n",
       "      <td>NaN</td>\n",
       "      <td>NaN</td>\n",
       "      <td>NaN</td>\n",
       "      <td>16.22</td>\n",
       "      <td>NaN</td>\n",
       "      <td>NaN</td>\n",
       "      <td>NaN</td>\n",
       "      <td>NaN</td>\n",
       "    </tr>\n",
       "    <tr>\n",
       "      <th>1992</th>\n",
       "      <td>NaN</td>\n",
       "      <td>NaN</td>\n",
       "      <td>25.49</td>\n",
       "      <td>NaN</td>\n",
       "      <td>NaN</td>\n",
       "      <td>NaN</td>\n",
       "      <td>1.98</td>\n",
       "      <td>3.03</td>\n",
       "      <td>NaN</td>\n",
       "      <td>NaN</td>\n",
       "      <td>NaN</td>\n",
       "      <td>NaN</td>\n",
       "      <td>NaN</td>\n",
       "      <td>32.98</td>\n",
       "      <td>NaN</td>\n",
       "      <td>NaN</td>\n",
       "      <td>NaN</td>\n",
       "      <td>NaN</td>\n",
       "    </tr>\n",
       "    <tr>\n",
       "      <th>1993</th>\n",
       "      <td>NaN</td>\n",
       "      <td>NaN</td>\n",
       "      <td>NaN</td>\n",
       "      <td>NaN</td>\n",
       "      <td>NaN</td>\n",
       "      <td>NaN</td>\n",
       "      <td>3.61</td>\n",
       "      <td>NaN</td>\n",
       "      <td>NaN</td>\n",
       "      <td>NaN</td>\n",
       "      <td>NaN</td>\n",
       "      <td>NaN</td>\n",
       "      <td>NaN</td>\n",
       "      <td>40.02</td>\n",
       "      <td>NaN</td>\n",
       "      <td>NaN</td>\n",
       "      <td>NaN</td>\n",
       "      <td>NaN</td>\n",
       "    </tr>\n",
       "    <tr>\n",
       "      <th>1994</th>\n",
       "      <td>NaN</td>\n",
       "      <td>NaN</td>\n",
       "      <td>12.18</td>\n",
       "      <td>NaN</td>\n",
       "      <td>NaN</td>\n",
       "      <td>NaN</td>\n",
       "      <td>0.11</td>\n",
       "      <td>12.87</td>\n",
       "      <td>6.03</td>\n",
       "      <td>NaN</td>\n",
       "      <td>NaN</td>\n",
       "      <td>NaN</td>\n",
       "      <td>NaN</td>\n",
       "      <td>35.08</td>\n",
       "      <td>NaN</td>\n",
       "      <td>NaN</td>\n",
       "      <td>NaN</td>\n",
       "      <td>NaN</td>\n",
       "    </tr>\n",
       "    <tr>\n",
       "      <th>1995</th>\n",
       "      <td>NaN</td>\n",
       "      <td>NaN</td>\n",
       "      <td>3.60</td>\n",
       "      <td>NaN</td>\n",
       "      <td>NaN</td>\n",
       "      <td>NaN</td>\n",
       "      <td>NaN</td>\n",
       "      <td>4.22</td>\n",
       "      <td>35.96</td>\n",
       "      <td>NaN</td>\n",
       "      <td>NaN</td>\n",
       "      <td>NaN</td>\n",
       "      <td>NaN</td>\n",
       "      <td>32.20</td>\n",
       "      <td>NaN</td>\n",
       "      <td>NaN</td>\n",
       "      <td>NaN</td>\n",
       "      <td>NaN</td>\n",
       "    </tr>\n",
       "    <tr>\n",
       "      <th>1996</th>\n",
       "      <td>NaN</td>\n",
       "      <td>NaN</td>\n",
       "      <td>36.03</td>\n",
       "      <td>NaN</td>\n",
       "      <td>NaN</td>\n",
       "      <td>34.10</td>\n",
       "      <td>NaN</td>\n",
       "      <td>10.58</td>\n",
       "      <td>94.70</td>\n",
       "      <td>NaN</td>\n",
       "      <td>NaN</td>\n",
       "      <td>NaN</td>\n",
       "      <td>NaN</td>\n",
       "      <td>15.92</td>\n",
       "      <td>NaN</td>\n",
       "      <td>NaN</td>\n",
       "      <td>NaN</td>\n",
       "      <td>NaN</td>\n",
       "    </tr>\n",
       "    <tr>\n",
       "      <th>1997</th>\n",
       "      <td>NaN</td>\n",
       "      <td>NaN</td>\n",
       "      <td>6.37</td>\n",
       "      <td>NaN</td>\n",
       "      <td>NaN</td>\n",
       "      <td>39.50</td>\n",
       "      <td>NaN</td>\n",
       "      <td>11.27</td>\n",
       "      <td>136.17</td>\n",
       "      <td>NaN</td>\n",
       "      <td>NaN</td>\n",
       "      <td>NaN</td>\n",
       "      <td>NaN</td>\n",
       "      <td>0.99</td>\n",
       "      <td>NaN</td>\n",
       "      <td>NaN</td>\n",
       "      <td>NaN</td>\n",
       "      <td>NaN</td>\n",
       "    </tr>\n",
       "    <tr>\n",
       "      <th>1998</th>\n",
       "      <td>NaN</td>\n",
       "      <td>NaN</td>\n",
       "      <td>26.90</td>\n",
       "      <td>NaN</td>\n",
       "      <td>NaN</td>\n",
       "      <td>49.24</td>\n",
       "      <td>NaN</td>\n",
       "      <td>3.26</td>\n",
       "      <td>169.49</td>\n",
       "      <td>NaN</td>\n",
       "      <td>NaN</td>\n",
       "      <td>NaN</td>\n",
       "      <td>NaN</td>\n",
       "      <td>0.22</td>\n",
       "      <td>NaN</td>\n",
       "      <td>NaN</td>\n",
       "      <td>NaN</td>\n",
       "      <td>NaN</td>\n",
       "    </tr>\n",
       "    <tr>\n",
       "      <th>1999</th>\n",
       "      <td>NaN</td>\n",
       "      <td>NaN</td>\n",
       "      <td>38.00</td>\n",
       "      <td>NaN</td>\n",
       "      <td>NaN</td>\n",
       "      <td>57.87</td>\n",
       "      <td>NaN</td>\n",
       "      <td>4.74</td>\n",
       "      <td>144.53</td>\n",
       "      <td>NaN</td>\n",
       "      <td>NaN</td>\n",
       "      <td>NaN</td>\n",
       "      <td>NaN</td>\n",
       "      <td>0.26</td>\n",
       "      <td>NaN</td>\n",
       "      <td>NaN</td>\n",
       "      <td>NaN</td>\n",
       "      <td>NaN</td>\n",
       "    </tr>\n",
       "    <tr>\n",
       "      <th>2000</th>\n",
       "      <td>NaN</td>\n",
       "      <td>NaN</td>\n",
       "      <td>19.76</td>\n",
       "      <td>0.07</td>\n",
       "      <td>NaN</td>\n",
       "      <td>33.97</td>\n",
       "      <td>NaN</td>\n",
       "      <td>4.66</td>\n",
       "      <td>96.37</td>\n",
       "      <td>39.17</td>\n",
       "      <td>NaN</td>\n",
       "      <td>NaN</td>\n",
       "      <td>NaN</td>\n",
       "      <td>NaN</td>\n",
       "      <td>NaN</td>\n",
       "      <td>NaN</td>\n",
       "      <td>0.99</td>\n",
       "      <td>NaN</td>\n",
       "    </tr>\n",
       "    <tr>\n",
       "      <th>2001</th>\n",
       "      <td>NaN</td>\n",
       "      <td>NaN</td>\n",
       "      <td>9.24</td>\n",
       "      <td>61.53</td>\n",
       "      <td>26.34</td>\n",
       "      <td>3.25</td>\n",
       "      <td>NaN</td>\n",
       "      <td>5.47</td>\n",
       "      <td>35.59</td>\n",
       "      <td>166.43</td>\n",
       "      <td>NaN</td>\n",
       "      <td>NaN</td>\n",
       "      <td>NaN</td>\n",
       "      <td>NaN</td>\n",
       "      <td>NaN</td>\n",
       "      <td>NaN</td>\n",
       "      <td>22.26</td>\n",
       "      <td>NaN</td>\n",
       "    </tr>\n",
       "    <tr>\n",
       "      <th>2002</th>\n",
       "      <td>NaN</td>\n",
       "      <td>NaN</td>\n",
       "      <td>NaN</td>\n",
       "      <td>74.16</td>\n",
       "      <td>51.81</td>\n",
       "      <td>0.08</td>\n",
       "      <td>NaN</td>\n",
       "      <td>8.57</td>\n",
       "      <td>6.67</td>\n",
       "      <td>205.38</td>\n",
       "      <td>NaN</td>\n",
       "      <td>NaN</td>\n",
       "      <td>NaN</td>\n",
       "      <td>NaN</td>\n",
       "      <td>NaN</td>\n",
       "      <td>NaN</td>\n",
       "      <td>48.01</td>\n",
       "      <td>NaN</td>\n",
       "    </tr>\n",
       "    <tr>\n",
       "      <th>2003</th>\n",
       "      <td>NaN</td>\n",
       "      <td>NaN</td>\n",
       "      <td>NaN</td>\n",
       "      <td>56.67</td>\n",
       "      <td>50.61</td>\n",
       "      <td>NaN</td>\n",
       "      <td>NaN</td>\n",
       "      <td>8.84</td>\n",
       "      <td>2.07</td>\n",
       "      <td>184.31</td>\n",
       "      <td>NaN</td>\n",
       "      <td>NaN</td>\n",
       "      <td>NaN</td>\n",
       "      <td>NaN</td>\n",
       "      <td>NaN</td>\n",
       "      <td>NaN</td>\n",
       "      <td>55.04</td>\n",
       "      <td>NaN</td>\n",
       "    </tr>\n",
       "    <tr>\n",
       "      <th>2004</th>\n",
       "      <td>NaN</td>\n",
       "      <td>17.27</td>\n",
       "      <td>NaN</td>\n",
       "      <td>77.91</td>\n",
       "      <td>28.82</td>\n",
       "      <td>NaN</td>\n",
       "      <td>NaN</td>\n",
       "      <td>10.39</td>\n",
       "      <td>NaN</td>\n",
       "      <td>211.81</td>\n",
       "      <td>NaN</td>\n",
       "      <td>NaN</td>\n",
       "      <td>7.06</td>\n",
       "      <td>NaN</td>\n",
       "      <td>NaN</td>\n",
       "      <td>NaN</td>\n",
       "      <td>65.42</td>\n",
       "      <td>NaN</td>\n",
       "    </tr>\n",
       "    <tr>\n",
       "      <th>2005</th>\n",
       "      <td>NaN</td>\n",
       "      <td>130.14</td>\n",
       "      <td>NaN</td>\n",
       "      <td>33.86</td>\n",
       "      <td>27.62</td>\n",
       "      <td>NaN</td>\n",
       "      <td>NaN</td>\n",
       "      <td>4.37</td>\n",
       "      <td>NaN</td>\n",
       "      <td>160.66</td>\n",
       "      <td>NaN</td>\n",
       "      <td>NaN</td>\n",
       "      <td>43.84</td>\n",
       "      <td>NaN</td>\n",
       "      <td>NaN</td>\n",
       "      <td>8.25</td>\n",
       "      <td>49.08</td>\n",
       "      <td>NaN</td>\n",
       "    </tr>\n",
       "    <tr>\n",
       "      <th>2006</th>\n",
       "      <td>NaN</td>\n",
       "      <td>119.81</td>\n",
       "      <td>NaN</td>\n",
       "      <td>5.28</td>\n",
       "      <td>11.26</td>\n",
       "      <td>NaN</td>\n",
       "      <td>NaN</td>\n",
       "      <td>2.85</td>\n",
       "      <td>NaN</td>\n",
       "      <td>103.42</td>\n",
       "      <td>20.96</td>\n",
       "      <td>NaN</td>\n",
       "      <td>55.32</td>\n",
       "      <td>NaN</td>\n",
       "      <td>137.15</td>\n",
       "      <td>51.62</td>\n",
       "      <td>10.04</td>\n",
       "      <td>NaN</td>\n",
       "    </tr>\n",
       "    <tr>\n",
       "      <th>2007</th>\n",
       "      <td>1.19</td>\n",
       "      <td>150.28</td>\n",
       "      <td>1.03</td>\n",
       "      <td>8.37</td>\n",
       "      <td>2.47</td>\n",
       "      <td>0.67</td>\n",
       "      <td>NaN</td>\n",
       "      <td>13.04</td>\n",
       "      <td>3.28</td>\n",
       "      <td>98.20</td>\n",
       "      <td>81.50</td>\n",
       "      <td>NaN</td>\n",
       "      <td>51.45</td>\n",
       "      <td>NaN</td>\n",
       "      <td>169.10</td>\n",
       "      <td>105.59</td>\n",
       "      <td>6.72</td>\n",
       "      <td>NaN</td>\n",
       "    </tr>\n",
       "    <tr>\n",
       "      <th>2008</th>\n",
       "      <td>NaN</td>\n",
       "      <td>145.31</td>\n",
       "      <td>NaN</td>\n",
       "      <td>NaN</td>\n",
       "      <td>NaN</td>\n",
       "      <td>NaN</td>\n",
       "      <td>NaN</td>\n",
       "      <td>12.42</td>\n",
       "      <td>NaN</td>\n",
       "      <td>53.90</td>\n",
       "      <td>118.52</td>\n",
       "      <td>NaN</td>\n",
       "      <td>34.55</td>\n",
       "      <td>NaN</td>\n",
       "      <td>171.32</td>\n",
       "      <td>135.26</td>\n",
       "      <td>0.18</td>\n",
       "      <td>NaN</td>\n",
       "    </tr>\n",
       "    <tr>\n",
       "      <th>2009</th>\n",
       "      <td>NaN</td>\n",
       "      <td>119.54</td>\n",
       "      <td>NaN</td>\n",
       "      <td>NaN</td>\n",
       "      <td>NaN</td>\n",
       "      <td>NaN</td>\n",
       "      <td>NaN</td>\n",
       "      <td>16.91</td>\n",
       "      <td>NaN</td>\n",
       "      <td>26.40</td>\n",
       "      <td>130.93</td>\n",
       "      <td>NaN</td>\n",
       "      <td>37.78</td>\n",
       "      <td>NaN</td>\n",
       "      <td>206.97</td>\n",
       "      <td>120.29</td>\n",
       "      <td>NaN</td>\n",
       "      <td>NaN</td>\n",
       "    </tr>\n",
       "    <tr>\n",
       "      <th>2010</th>\n",
       "      <td>NaN</td>\n",
       "      <td>85.02</td>\n",
       "      <td>NaN</td>\n",
       "      <td>NaN</td>\n",
       "      <td>NaN</td>\n",
       "      <td>NaN</td>\n",
       "      <td>NaN</td>\n",
       "      <td>24.28</td>\n",
       "      <td>NaN</td>\n",
       "      <td>5.64</td>\n",
       "      <td>142.17</td>\n",
       "      <td>NaN</td>\n",
       "      <td>35.04</td>\n",
       "      <td>NaN</td>\n",
       "      <td>127.95</td>\n",
       "      <td>170.03</td>\n",
       "      <td>NaN</td>\n",
       "      <td>NaN</td>\n",
       "    </tr>\n",
       "    <tr>\n",
       "      <th>2011</th>\n",
       "      <td>63.20</td>\n",
       "      <td>26.18</td>\n",
       "      <td>NaN</td>\n",
       "      <td>NaN</td>\n",
       "      <td>NaN</td>\n",
       "      <td>NaN</td>\n",
       "      <td>NaN</td>\n",
       "      <td>35.03</td>\n",
       "      <td>NaN</td>\n",
       "      <td>0.45</td>\n",
       "      <td>156.78</td>\n",
       "      <td>NaN</td>\n",
       "      <td>17.82</td>\n",
       "      <td>NaN</td>\n",
       "      <td>59.65</td>\n",
       "      <td>143.84</td>\n",
       "      <td>NaN</td>\n",
       "      <td>NaN</td>\n",
       "    </tr>\n",
       "    <tr>\n",
       "      <th>2012</th>\n",
       "      <td>51.36</td>\n",
       "      <td>11.01</td>\n",
       "      <td>NaN</td>\n",
       "      <td>NaN</td>\n",
       "      <td>NaN</td>\n",
       "      <td>NaN</td>\n",
       "      <td>NaN</td>\n",
       "      <td>23.22</td>\n",
       "      <td>NaN</td>\n",
       "      <td>NaN</td>\n",
       "      <td>107.36</td>\n",
       "      <td>NaN</td>\n",
       "      <td>7.69</td>\n",
       "      <td>NaN</td>\n",
       "      <td>21.71</td>\n",
       "      <td>99.74</td>\n",
       "      <td>NaN</td>\n",
       "      <td>NaN</td>\n",
       "    </tr>\n",
       "    <tr>\n",
       "      <th>2013</th>\n",
       "      <td>56.57</td>\n",
       "      <td>1.54</td>\n",
       "      <td>NaN</td>\n",
       "      <td>NaN</td>\n",
       "      <td>NaN</td>\n",
       "      <td>NaN</td>\n",
       "      <td>NaN</td>\n",
       "      <td>12.38</td>\n",
       "      <td>NaN</td>\n",
       "      <td>NaN</td>\n",
       "      <td>113.25</td>\n",
       "      <td>25.99</td>\n",
       "      <td>3.14</td>\n",
       "      <td>NaN</td>\n",
       "      <td>8.59</td>\n",
       "      <td>88.58</td>\n",
       "      <td>NaN</td>\n",
       "      <td>18.96</td>\n",
       "    </tr>\n",
       "    <tr>\n",
       "      <th>2014</th>\n",
       "      <td>43.76</td>\n",
       "      <td>NaN</td>\n",
       "      <td>NaN</td>\n",
       "      <td>NaN</td>\n",
       "      <td>NaN</td>\n",
       "      <td>NaN</td>\n",
       "      <td>NaN</td>\n",
       "      <td>13.28</td>\n",
       "      <td>NaN</td>\n",
       "      <td>NaN</td>\n",
       "      <td>47.76</td>\n",
       "      <td>100.00</td>\n",
       "      <td>0.24</td>\n",
       "      <td>NaN</td>\n",
       "      <td>3.75</td>\n",
       "      <td>34.74</td>\n",
       "      <td>NaN</td>\n",
       "      <td>54.07</td>\n",
       "    </tr>\n",
       "    <tr>\n",
       "      <th>2015</th>\n",
       "      <td>27.78</td>\n",
       "      <td>NaN</td>\n",
       "      <td>NaN</td>\n",
       "      <td>NaN</td>\n",
       "      <td>NaN</td>\n",
       "      <td>NaN</td>\n",
       "      <td>NaN</td>\n",
       "      <td>8.52</td>\n",
       "      <td>NaN</td>\n",
       "      <td>NaN</td>\n",
       "      <td>16.82</td>\n",
       "      <td>118.90</td>\n",
       "      <td>0.12</td>\n",
       "      <td>NaN</td>\n",
       "      <td>1.14</td>\n",
       "      <td>11.96</td>\n",
       "      <td>NaN</td>\n",
       "      <td>60.14</td>\n",
       "    </tr>\n",
       "    <tr>\n",
       "      <th>2016</th>\n",
       "      <td>15.14</td>\n",
       "      <td>NaN</td>\n",
       "      <td>NaN</td>\n",
       "      <td>NaN</td>\n",
       "      <td>NaN</td>\n",
       "      <td>NaN</td>\n",
       "      <td>NaN</td>\n",
       "      <td>5.25</td>\n",
       "      <td>NaN</td>\n",
       "      <td>NaN</td>\n",
       "      <td>3.60</td>\n",
       "      <td>69.25</td>\n",
       "      <td>NaN</td>\n",
       "      <td>NaN</td>\n",
       "      <td>0.18</td>\n",
       "      <td>1.52</td>\n",
       "      <td>NaN</td>\n",
       "      <td>26.15</td>\n",
       "    </tr>\n",
       "  </tbody>\n",
       "</table>\n",
       "</div>"
      ],
      "text/plain": [
       "platform           3DS      DS     GB    GBA     GC    N64    NES     PC  \\\n",
       "year_of_release                                                            \n",
       "1983               NaN     NaN    NaN    NaN    NaN    NaN  10.96    NaN   \n",
       "1984               NaN     NaN    NaN    NaN    NaN    NaN  50.08    NaN   \n",
       "1985               NaN    0.02    NaN    NaN    NaN    NaN  53.44   0.04   \n",
       "1986               NaN     NaN    NaN    NaN    NaN    NaN  36.41    NaN   \n",
       "1987               NaN     NaN    NaN    NaN    NaN    NaN  19.76    NaN   \n",
       "1988               NaN     NaN   1.43    NaN    NaN    NaN  45.01   0.03   \n",
       "1989               NaN     NaN  64.97    NaN    NaN    NaN   7.85    NaN   \n",
       "1990               NaN     NaN   4.89    NaN    NaN    NaN  15.73    NaN   \n",
       "1991               NaN     NaN   5.57    NaN    NaN    NaN   6.11    NaN   \n",
       "1992               NaN     NaN  25.49    NaN    NaN    NaN   1.98   3.03   \n",
       "1993               NaN     NaN    NaN    NaN    NaN    NaN   3.61    NaN   \n",
       "1994               NaN     NaN  12.18    NaN    NaN    NaN   0.11  12.87   \n",
       "1995               NaN     NaN   3.60    NaN    NaN    NaN    NaN   4.22   \n",
       "1996               NaN     NaN  36.03    NaN    NaN  34.10    NaN  10.58   \n",
       "1997               NaN     NaN   6.37    NaN    NaN  39.50    NaN  11.27   \n",
       "1998               NaN     NaN  26.90    NaN    NaN  49.24    NaN   3.26   \n",
       "1999               NaN     NaN  38.00    NaN    NaN  57.87    NaN   4.74   \n",
       "2000               NaN     NaN  19.76   0.07    NaN  33.97    NaN   4.66   \n",
       "2001               NaN     NaN   9.24  61.53  26.34   3.25    NaN   5.47   \n",
       "2002               NaN     NaN    NaN  74.16  51.81   0.08    NaN   8.57   \n",
       "2003               NaN     NaN    NaN  56.67  50.61    NaN    NaN   8.84   \n",
       "2004               NaN   17.27    NaN  77.91  28.82    NaN    NaN  10.39   \n",
       "2005               NaN  130.14    NaN  33.86  27.62    NaN    NaN   4.37   \n",
       "2006               NaN  119.81    NaN   5.28  11.26    NaN    NaN   2.85   \n",
       "2007              1.19  150.28   1.03   8.37   2.47   0.67    NaN  13.04   \n",
       "2008               NaN  145.31    NaN    NaN    NaN    NaN    NaN  12.42   \n",
       "2009               NaN  119.54    NaN    NaN    NaN    NaN    NaN  16.91   \n",
       "2010               NaN   85.02    NaN    NaN    NaN    NaN    NaN  24.28   \n",
       "2011             63.20   26.18    NaN    NaN    NaN    NaN    NaN  35.03   \n",
       "2012             51.36   11.01    NaN    NaN    NaN    NaN    NaN  23.22   \n",
       "2013             56.57    1.54    NaN    NaN    NaN    NaN    NaN  12.38   \n",
       "2014             43.76     NaN    NaN    NaN    NaN    NaN    NaN  13.28   \n",
       "2015             27.78     NaN    NaN    NaN    NaN    NaN    NaN   8.52   \n",
       "2016             15.14     NaN    NaN    NaN    NaN    NaN    NaN   5.25   \n",
       "\n",
       "platform             PS     PS2     PS3     PS4    PSP   SNES     Wii    X360  \\\n",
       "year_of_release                                                                 \n",
       "1983                NaN     NaN     NaN     NaN    NaN    NaN     NaN     NaN   \n",
       "1984                NaN     NaN     NaN     NaN    NaN    NaN     NaN     NaN   \n",
       "1985                NaN     NaN     NaN     NaN    NaN    NaN     NaN     NaN   \n",
       "1986                NaN     NaN     NaN     NaN    NaN    NaN     NaN     NaN   \n",
       "1987                NaN     NaN     NaN     NaN    NaN    NaN     NaN     NaN   \n",
       "1988                NaN     NaN     NaN     NaN    NaN    NaN     NaN     NaN   \n",
       "1989                NaN     NaN     NaN     NaN    NaN    NaN     NaN     NaN   \n",
       "1990                NaN     NaN     NaN     NaN    NaN  26.15     NaN     NaN   \n",
       "1991                NaN     NaN     NaN     NaN    NaN  16.22     NaN     NaN   \n",
       "1992                NaN     NaN     NaN     NaN    NaN  32.98     NaN     NaN   \n",
       "1993                NaN     NaN     NaN     NaN    NaN  40.02     NaN     NaN   \n",
       "1994               6.03     NaN     NaN     NaN    NaN  35.08     NaN     NaN   \n",
       "1995              35.96     NaN     NaN     NaN    NaN  32.20     NaN     NaN   \n",
       "1996              94.70     NaN     NaN     NaN    NaN  15.92     NaN     NaN   \n",
       "1997             136.17     NaN     NaN     NaN    NaN   0.99     NaN     NaN   \n",
       "1998             169.49     NaN     NaN     NaN    NaN   0.22     NaN     NaN   \n",
       "1999             144.53     NaN     NaN     NaN    NaN   0.26     NaN     NaN   \n",
       "2000              96.37   39.17     NaN     NaN    NaN    NaN     NaN     NaN   \n",
       "2001              35.59  166.43     NaN     NaN    NaN    NaN     NaN     NaN   \n",
       "2002               6.67  205.38     NaN     NaN    NaN    NaN     NaN     NaN   \n",
       "2003               2.07  184.31     NaN     NaN    NaN    NaN     NaN     NaN   \n",
       "2004                NaN  211.81     NaN     NaN   7.06    NaN     NaN     NaN   \n",
       "2005                NaN  160.66     NaN     NaN  43.84    NaN     NaN    8.25   \n",
       "2006                NaN  103.42   20.96     NaN  55.32    NaN  137.15   51.62   \n",
       "2007               3.28   98.20   81.50     NaN  51.45    NaN  169.10  105.59   \n",
       "2008                NaN   53.90  118.52     NaN  34.55    NaN  171.32  135.26   \n",
       "2009                NaN   26.40  130.93     NaN  37.78    NaN  206.97  120.29   \n",
       "2010                NaN    5.64  142.17     NaN  35.04    NaN  127.95  170.03   \n",
       "2011                NaN    0.45  156.78     NaN  17.82    NaN   59.65  143.84   \n",
       "2012                NaN     NaN  107.36     NaN   7.69    NaN   21.71   99.74   \n",
       "2013                NaN     NaN  113.25   25.99   3.14    NaN    8.59   88.58   \n",
       "2014                NaN     NaN   47.76  100.00   0.24    NaN    3.75   34.74   \n",
       "2015                NaN     NaN   16.82  118.90   0.12    NaN    1.14   11.96   \n",
       "2016                NaN     NaN    3.60   69.25    NaN    NaN    0.18    1.52   \n",
       "\n",
       "platform            XB   XOne  \n",
       "year_of_release                \n",
       "1983               NaN    NaN  \n",
       "1984               NaN    NaN  \n",
       "1985               NaN    NaN  \n",
       "1986               NaN    NaN  \n",
       "1987               NaN    NaN  \n",
       "1988               NaN    NaN  \n",
       "1989               NaN    NaN  \n",
       "1990               NaN    NaN  \n",
       "1991               NaN    NaN  \n",
       "1992               NaN    NaN  \n",
       "1993               NaN    NaN  \n",
       "1994               NaN    NaN  \n",
       "1995               NaN    NaN  \n",
       "1996               NaN    NaN  \n",
       "1997               NaN    NaN  \n",
       "1998               NaN    NaN  \n",
       "1999               NaN    NaN  \n",
       "2000              0.99    NaN  \n",
       "2001             22.26    NaN  \n",
       "2002             48.01    NaN  \n",
       "2003             55.04    NaN  \n",
       "2004             65.42    NaN  \n",
       "2005             49.08    NaN  \n",
       "2006             10.04    NaN  \n",
       "2007              6.72    NaN  \n",
       "2008              0.18    NaN  \n",
       "2009               NaN    NaN  \n",
       "2010               NaN    NaN  \n",
       "2011               NaN    NaN  \n",
       "2012               NaN    NaN  \n",
       "2013               NaN  18.96  \n",
       "2014               NaN  54.07  \n",
       "2015               NaN  60.14  \n",
       "2016               NaN  26.15  "
      ]
     },
     "execution_count": 15,
     "metadata": {},
     "output_type": "execute_result"
    }
   ],
   "source": [
    "top_platform_total_sales_per_year = games_dataset[games_dataset['platform'].isin(top_platforms)].groupby(['year_of_release', 'platform'])['total_sales'].sum().unstack()\n",
    "top_platform_total_sales_per_year"
   ]
  },
  {
   "cell_type": "code",
   "execution_count": 16,
   "metadata": {},
   "outputs": [
    {
     "name": "stdout",
     "output_type": "stream",
     "text": [
      "The following are the platforms which were once famous and now have zero sales: \n",
      "\n",
      " ['NES' 'GB' 'DS' 'PS2' 'SNES' 'GBA' 'N64' 'PS' 'XB' '2600' 'PSP' 'GC'\n",
      " 'GEN' 'DC' 'SAT' 'SCD' 'WS']\n"
     ]
    }
   ],
   "source": [
    "#Find platforms that used to be popular but now have zero sales.\n",
    "year_2016 = games_dataset[games_dataset['year_of_release'] == 2016]['platform'].unique()\n",
    "pop_to_zero = games_dataset[(games_dataset['total_sales']>0.5) & (games_dataset['platform'].isin(year_2016) == False)]\n",
    "print('The following are the platforms which were once famous and now have zero sales: \\n\\n', pop_to_zero['platform'].unique())"
   ]
  },
  {
   "cell_type": "code",
   "execution_count": 17,
   "metadata": {},
   "outputs": [
    {
     "data": {
      "text/html": [
       "<div>\n",
       "<style scoped>\n",
       "    .dataframe tbody tr th:only-of-type {\n",
       "        vertical-align: middle;\n",
       "    }\n",
       "\n",
       "    .dataframe tbody tr th {\n",
       "        vertical-align: top;\n",
       "    }\n",
       "\n",
       "    .dataframe thead th {\n",
       "        text-align: right;\n",
       "    }\n",
       "</style>\n",
       "<table border=\"1\" class=\"dataframe\">\n",
       "  <thead>\n",
       "    <tr style=\"text-align: right;\">\n",
       "      <th></th>\n",
       "      <th>platform</th>\n",
       "      <th>min_sales_year</th>\n",
       "      <th>min_sales</th>\n",
       "    </tr>\n",
       "  </thead>\n",
       "  <tbody>\n",
       "    <tr>\n",
       "      <th>4</th>\n",
       "      <td>2600</td>\n",
       "      <td>1984</td>\n",
       "      <td>0.27</td>\n",
       "    </tr>\n",
       "    <tr>\n",
       "      <th>11</th>\n",
       "      <td>3DO</td>\n",
       "      <td>1994</td>\n",
       "      <td>0.02</td>\n",
       "    </tr>\n",
       "    <tr>\n",
       "      <th>13</th>\n",
       "      <td>3DS</td>\n",
       "      <td>2007</td>\n",
       "      <td>1.19</td>\n",
       "    </tr>\n",
       "    <tr>\n",
       "      <th>25</th>\n",
       "      <td>DC</td>\n",
       "      <td>2007</td>\n",
       "      <td>0.02</td>\n",
       "    </tr>\n",
       "    <tr>\n",
       "      <th>27</th>\n",
       "      <td>DS</td>\n",
       "      <td>1985</td>\n",
       "      <td>0.02</td>\n",
       "    </tr>\n",
       "    <tr>\n",
       "      <th>51</th>\n",
       "      <td>GB</td>\n",
       "      <td>2007</td>\n",
       "      <td>1.03</td>\n",
       "    </tr>\n",
       "    <tr>\n",
       "      <th>52</th>\n",
       "      <td>GBA</td>\n",
       "      <td>2000</td>\n",
       "      <td>0.07</td>\n",
       "    </tr>\n",
       "    <tr>\n",
       "      <th>66</th>\n",
       "      <td>GC</td>\n",
       "      <td>2007</td>\n",
       "      <td>2.47</td>\n",
       "    </tr>\n",
       "    <tr>\n",
       "      <th>70</th>\n",
       "      <td>GEN</td>\n",
       "      <td>1993</td>\n",
       "      <td>0.65</td>\n",
       "    </tr>\n",
       "    <tr>\n",
       "      <th>72</th>\n",
       "      <td>GG</td>\n",
       "      <td>1992</td>\n",
       "      <td>0.04</td>\n",
       "    </tr>\n",
       "    <tr>\n",
       "      <th>79</th>\n",
       "      <td>N64</td>\n",
       "      <td>2002</td>\n",
       "      <td>0.08</td>\n",
       "    </tr>\n",
       "    <tr>\n",
       "      <th>92</th>\n",
       "      <td>NES</td>\n",
       "      <td>1994</td>\n",
       "      <td>0.11</td>\n",
       "    </tr>\n",
       "    <tr>\n",
       "      <th>96</th>\n",
       "      <td>NG</td>\n",
       "      <td>1996</td>\n",
       "      <td>0.10</td>\n",
       "    </tr>\n",
       "    <tr>\n",
       "      <th>98</th>\n",
       "      <td>PC</td>\n",
       "      <td>1988</td>\n",
       "      <td>0.03</td>\n",
       "    </tr>\n",
       "    <tr>\n",
       "      <th>123</th>\n",
       "      <td>PCFX</td>\n",
       "      <td>1996</td>\n",
       "      <td>0.03</td>\n",
       "    </tr>\n",
       "    <tr>\n",
       "      <th>133</th>\n",
       "      <td>PS</td>\n",
       "      <td>2003</td>\n",
       "      <td>2.07</td>\n",
       "    </tr>\n",
       "    <tr>\n",
       "      <th>146</th>\n",
       "      <td>PS2</td>\n",
       "      <td>2011</td>\n",
       "      <td>0.45</td>\n",
       "    </tr>\n",
       "    <tr>\n",
       "      <th>157</th>\n",
       "      <td>PS3</td>\n",
       "      <td>2016</td>\n",
       "      <td>3.60</td>\n",
       "    </tr>\n",
       "    <tr>\n",
       "      <th>158</th>\n",
       "      <td>PS4</td>\n",
       "      <td>2013</td>\n",
       "      <td>25.99</td>\n",
       "    </tr>\n",
       "    <tr>\n",
       "      <th>173</th>\n",
       "      <td>PSP</td>\n",
       "      <td>2015</td>\n",
       "      <td>0.12</td>\n",
       "    </tr>\n",
       "    <tr>\n",
       "      <th>174</th>\n",
       "      <td>PSV</td>\n",
       "      <td>2007</td>\n",
       "      <td>0.26</td>\n",
       "    </tr>\n",
       "    <tr>\n",
       "      <th>186</th>\n",
       "      <td>SAT</td>\n",
       "      <td>1999</td>\n",
       "      <td>0.09</td>\n",
       "    </tr>\n",
       "    <tr>\n",
       "      <th>188</th>\n",
       "      <td>SCD</td>\n",
       "      <td>1994</td>\n",
       "      <td>0.36</td>\n",
       "    </tr>\n",
       "    <tr>\n",
       "      <th>197</th>\n",
       "      <td>SNES</td>\n",
       "      <td>1998</td>\n",
       "      <td>0.22</td>\n",
       "    </tr>\n",
       "    <tr>\n",
       "      <th>199</th>\n",
       "      <td>TG16</td>\n",
       "      <td>1995</td>\n",
       "      <td>0.16</td>\n",
       "    </tr>\n",
       "    <tr>\n",
       "      <th>202</th>\n",
       "      <td>WS</td>\n",
       "      <td>2001</td>\n",
       "      <td>0.28</td>\n",
       "    </tr>\n",
       "    <tr>\n",
       "      <th>213</th>\n",
       "      <td>Wii</td>\n",
       "      <td>2016</td>\n",
       "      <td>0.18</td>\n",
       "    </tr>\n",
       "    <tr>\n",
       "      <th>218</th>\n",
       "      <td>WiiU</td>\n",
       "      <td>2016</td>\n",
       "      <td>4.60</td>\n",
       "    </tr>\n",
       "    <tr>\n",
       "      <th>230</th>\n",
       "      <td>X360</td>\n",
       "      <td>2016</td>\n",
       "      <td>1.52</td>\n",
       "    </tr>\n",
       "    <tr>\n",
       "      <th>239</th>\n",
       "      <td>XB</td>\n",
       "      <td>2008</td>\n",
       "      <td>0.18</td>\n",
       "    </tr>\n",
       "    <tr>\n",
       "      <th>240</th>\n",
       "      <td>XOne</td>\n",
       "      <td>2013</td>\n",
       "      <td>18.96</td>\n",
       "    </tr>\n",
       "  </tbody>\n",
       "</table>\n",
       "</div>"
      ],
      "text/plain": [
       "    platform  min_sales_year  min_sales\n",
       "4       2600            1984       0.27\n",
       "11       3DO            1994       0.02\n",
       "13       3DS            2007       1.19\n",
       "25        DC            2007       0.02\n",
       "27        DS            1985       0.02\n",
       "51        GB            2007       1.03\n",
       "52       GBA            2000       0.07\n",
       "66        GC            2007       2.47\n",
       "70       GEN            1993       0.65\n",
       "72        GG            1992       0.04\n",
       "79       N64            2002       0.08\n",
       "92       NES            1994       0.11\n",
       "96        NG            1996       0.10\n",
       "98        PC            1988       0.03\n",
       "123     PCFX            1996       0.03\n",
       "133       PS            2003       2.07\n",
       "146      PS2            2011       0.45\n",
       "157      PS3            2016       3.60\n",
       "158      PS4            2013      25.99\n",
       "173      PSP            2015       0.12\n",
       "174      PSV            2007       0.26\n",
       "186      SAT            1999       0.09\n",
       "188      SCD            1994       0.36\n",
       "197     SNES            1998       0.22\n",
       "199     TG16            1995       0.16\n",
       "202       WS            2001       0.28\n",
       "213      Wii            2016       0.18\n",
       "218     WiiU            2016       4.60\n",
       "230     X360            2016       1.52\n",
       "239       XB            2008       0.18\n",
       "240     XOne            2013      18.96"
      ]
     },
     "execution_count": 17,
     "metadata": {},
     "output_type": "execute_result"
    }
   ],
   "source": [
    "platform_sales_per_year = games_dataset.groupby(['platform', 'year_of_release'])['total_sales'].sum().reset_index()\n",
    "platform_max_sales_year = platform_sales_per_year.loc[platform_sales_per_year.groupby('platform')['total_sales'].idxmax()]\n",
    "platform_max_sales_year = platform_max_sales_year.rename(columns= { 'year_of_release' : 'max_sales_year', 'total_sales': 'max_sales'})\n",
    "platform_min_sales_year = platform_sales_per_year.loc[platform_sales_per_year.groupby('platform')['total_sales'].idxmin()]\n",
    "platform_min_sales_year = platform_min_sales_year.rename(columns= { 'year_of_release' : 'min_sales_year', 'total_sales': 'min_sales'})\n",
    "platform_min_sales_year"
   ]
  },
  {
   "cell_type": "code",
   "execution_count": 18,
   "metadata": {},
   "outputs": [
    {
     "name": "stdout",
     "output_type": "stream",
     "text": [
      "It does take for new platforms to appear 3.65 years and old ones to fade 5.29 years\n"
     ]
    }
   ],
   "source": [
    "platforms_lifespan = games_dataset.groupby('platform')['year_of_release'].agg(['min', 'max'])\n",
    "platforms_lifespan['lifespan'] = platforms_lifespan['max'] - platforms_lifespan['min']\n",
    "platforms_lifespan.sort_values('lifespan', ascending=False)\n",
    "platforms_lifespan_with_max_sales = platform_max_sales_year.merge(platforms_lifespan, on='platform')\n",
    "comine_platforms_lifespan = platform_min_sales_year.merge(platforms_lifespan_with_max_sales, on='platform')\n",
    "comine_platforms_lifespan['duration_to_appear'] = comine_platforms_lifespan['max_sales_year'] - comine_platforms_lifespan['min']\n",
    "comine_platforms_lifespan['duration_to_fade'] = comine_platforms_lifespan['max'] - comine_platforms_lifespan['max_sales_year']\n",
    "print(f\"It does take for new platforms to appear {comine_platforms_lifespan['duration_to_appear'].mean():.2f} years and old ones to fade {comine_platforms_lifespan['duration_to_fade'].mean():.2f} years\")\n"
   ]
  },
  {
   "cell_type": "code",
   "execution_count": 19,
   "metadata": {},
   "outputs": [
    {
     "data": {
      "text/html": [
       "<div>\n",
       "<style scoped>\n",
       "    .dataframe tbody tr th:only-of-type {\n",
       "        vertical-align: middle;\n",
       "    }\n",
       "\n",
       "    .dataframe tbody tr th {\n",
       "        vertical-align: top;\n",
       "    }\n",
       "\n",
       "    .dataframe thead th {\n",
       "        text-align: right;\n",
       "    }\n",
       "</style>\n",
       "<table border=\"1\" class=\"dataframe\">\n",
       "  <thead>\n",
       "    <tr style=\"text-align: right;\">\n",
       "      <th></th>\n",
       "      <th>name</th>\n",
       "      <th>platform</th>\n",
       "      <th>year_of_release</th>\n",
       "      <th>genre</th>\n",
       "      <th>na_sales</th>\n",
       "      <th>eu_sales</th>\n",
       "      <th>jp_sales</th>\n",
       "      <th>other_sales</th>\n",
       "      <th>critic_score</th>\n",
       "      <th>user_score</th>\n",
       "      <th>rating</th>\n",
       "      <th>total_sales</th>\n",
       "    </tr>\n",
       "  </thead>\n",
       "  <tbody>\n",
       "    <tr>\n",
       "      <th>31</th>\n",
       "      <td>Call of Duty: Black Ops 3</td>\n",
       "      <td>PS4</td>\n",
       "      <td>2015</td>\n",
       "      <td>Shooter</td>\n",
       "      <td>6.03</td>\n",
       "      <td>5.86</td>\n",
       "      <td>0.36</td>\n",
       "      <td>2.38</td>\n",
       "      <td>NaN</td>\n",
       "      <td>7.5</td>\n",
       "      <td>Unknown</td>\n",
       "      <td>14.63</td>\n",
       "    </tr>\n",
       "    <tr>\n",
       "      <th>42</th>\n",
       "      <td>Grand Theft Auto V</td>\n",
       "      <td>PS4</td>\n",
       "      <td>2014</td>\n",
       "      <td>Action</td>\n",
       "      <td>3.96</td>\n",
       "      <td>6.31</td>\n",
       "      <td>0.38</td>\n",
       "      <td>1.97</td>\n",
       "      <td>97.0</td>\n",
       "      <td>8.3</td>\n",
       "      <td>M</td>\n",
       "      <td>12.62</td>\n",
       "    </tr>\n",
       "    <tr>\n",
       "      <th>47</th>\n",
       "      <td>Pokemon Omega Ruby/Pokemon Alpha Sapphire</td>\n",
       "      <td>3DS</td>\n",
       "      <td>2014</td>\n",
       "      <td>Role-Playing</td>\n",
       "      <td>4.35</td>\n",
       "      <td>3.49</td>\n",
       "      <td>3.10</td>\n",
       "      <td>0.74</td>\n",
       "      <td>NaN</td>\n",
       "      <td>7.5</td>\n",
       "      <td>Unknown</td>\n",
       "      <td>11.68</td>\n",
       "    </tr>\n",
       "    <tr>\n",
       "      <th>77</th>\n",
       "      <td>FIFA 16</td>\n",
       "      <td>PS4</td>\n",
       "      <td>2015</td>\n",
       "      <td>Sports</td>\n",
       "      <td>1.12</td>\n",
       "      <td>6.12</td>\n",
       "      <td>0.06</td>\n",
       "      <td>1.28</td>\n",
       "      <td>82.0</td>\n",
       "      <td>4.3</td>\n",
       "      <td>E</td>\n",
       "      <td>8.58</td>\n",
       "    </tr>\n",
       "    <tr>\n",
       "      <th>87</th>\n",
       "      <td>Star Wars Battlefront (2015)</td>\n",
       "      <td>PS4</td>\n",
       "      <td>2015</td>\n",
       "      <td>Shooter</td>\n",
       "      <td>2.99</td>\n",
       "      <td>3.49</td>\n",
       "      <td>0.22</td>\n",
       "      <td>1.28</td>\n",
       "      <td>NaN</td>\n",
       "      <td>7.5</td>\n",
       "      <td>Unknown</td>\n",
       "      <td>7.98</td>\n",
       "    </tr>\n",
       "    <tr>\n",
       "      <th>...</th>\n",
       "      <td>...</td>\n",
       "      <td>...</td>\n",
       "      <td>...</td>\n",
       "      <td>...</td>\n",
       "      <td>...</td>\n",
       "      <td>...</td>\n",
       "      <td>...</td>\n",
       "      <td>...</td>\n",
       "      <td>...</td>\n",
       "      <td>...</td>\n",
       "      <td>...</td>\n",
       "      <td>...</td>\n",
       "    </tr>\n",
       "    <tr>\n",
       "      <th>16703</th>\n",
       "      <td>Strawberry Nauts</td>\n",
       "      <td>PSV</td>\n",
       "      <td>2016</td>\n",
       "      <td>Adventure</td>\n",
       "      <td>0.00</td>\n",
       "      <td>0.00</td>\n",
       "      <td>0.01</td>\n",
       "      <td>0.00</td>\n",
       "      <td>NaN</td>\n",
       "      <td>7.5</td>\n",
       "      <td>Unknown</td>\n",
       "      <td>0.01</td>\n",
       "    </tr>\n",
       "    <tr>\n",
       "      <th>16707</th>\n",
       "      <td>Aiyoku no Eustia</td>\n",
       "      <td>PSV</td>\n",
       "      <td>2014</td>\n",
       "      <td>Misc</td>\n",
       "      <td>0.00</td>\n",
       "      <td>0.00</td>\n",
       "      <td>0.01</td>\n",
       "      <td>0.00</td>\n",
       "      <td>NaN</td>\n",
       "      <td>7.5</td>\n",
       "      <td>Unknown</td>\n",
       "      <td>0.01</td>\n",
       "    </tr>\n",
       "    <tr>\n",
       "      <th>16710</th>\n",
       "      <td>Samurai Warriors: Sanada Maru</td>\n",
       "      <td>PS3</td>\n",
       "      <td>2016</td>\n",
       "      <td>Action</td>\n",
       "      <td>0.00</td>\n",
       "      <td>0.00</td>\n",
       "      <td>0.01</td>\n",
       "      <td>0.00</td>\n",
       "      <td>NaN</td>\n",
       "      <td>7.5</td>\n",
       "      <td>Unknown</td>\n",
       "      <td>0.01</td>\n",
       "    </tr>\n",
       "    <tr>\n",
       "      <th>16712</th>\n",
       "      <td>Haitaka no Psychedelica</td>\n",
       "      <td>PSV</td>\n",
       "      <td>2016</td>\n",
       "      <td>Adventure</td>\n",
       "      <td>0.00</td>\n",
       "      <td>0.00</td>\n",
       "      <td>0.01</td>\n",
       "      <td>0.00</td>\n",
       "      <td>NaN</td>\n",
       "      <td>7.5</td>\n",
       "      <td>Unknown</td>\n",
       "      <td>0.01</td>\n",
       "    </tr>\n",
       "    <tr>\n",
       "      <th>16714</th>\n",
       "      <td>Winning Post 8 2016</td>\n",
       "      <td>PSV</td>\n",
       "      <td>2016</td>\n",
       "      <td>Simulation</td>\n",
       "      <td>0.00</td>\n",
       "      <td>0.00</td>\n",
       "      <td>0.01</td>\n",
       "      <td>0.00</td>\n",
       "      <td>NaN</td>\n",
       "      <td>7.5</td>\n",
       "      <td>Unknown</td>\n",
       "      <td>0.01</td>\n",
       "    </tr>\n",
       "  </tbody>\n",
       "</table>\n",
       "<p>1689 rows × 12 columns</p>\n",
       "</div>"
      ],
      "text/plain": [
       "                                            name platform  year_of_release  \\\n",
       "31                     Call of Duty: Black Ops 3      PS4             2015   \n",
       "42                            Grand Theft Auto V      PS4             2014   \n",
       "47     Pokemon Omega Ruby/Pokemon Alpha Sapphire      3DS             2014   \n",
       "77                                       FIFA 16      PS4             2015   \n",
       "87                  Star Wars Battlefront (2015)      PS4             2015   \n",
       "...                                          ...      ...              ...   \n",
       "16703                           Strawberry Nauts      PSV             2016   \n",
       "16707                           Aiyoku no Eustia      PSV             2014   \n",
       "16710              Samurai Warriors: Sanada Maru      PS3             2016   \n",
       "16712                    Haitaka no Psychedelica      PSV             2016   \n",
       "16714                        Winning Post 8 2016      PSV             2016   \n",
       "\n",
       "              genre  na_sales  eu_sales  jp_sales  other_sales  critic_score  \\\n",
       "31          Shooter      6.03      5.86      0.36         2.38           NaN   \n",
       "42           Action      3.96      6.31      0.38         1.97          97.0   \n",
       "47     Role-Playing      4.35      3.49      3.10         0.74           NaN   \n",
       "77           Sports      1.12      6.12      0.06         1.28          82.0   \n",
       "87          Shooter      2.99      3.49      0.22         1.28           NaN   \n",
       "...             ...       ...       ...       ...          ...           ...   \n",
       "16703     Adventure      0.00      0.00      0.01         0.00           NaN   \n",
       "16707          Misc      0.00      0.00      0.01         0.00           NaN   \n",
       "16710        Action      0.00      0.00      0.01         0.00           NaN   \n",
       "16712     Adventure      0.00      0.00      0.01         0.00           NaN   \n",
       "16714    Simulation      0.00      0.00      0.01         0.00           NaN   \n",
       "\n",
       "       user_score   rating  total_sales  \n",
       "31            7.5  Unknown        14.63  \n",
       "42            8.3        M        12.62  \n",
       "47            7.5  Unknown        11.68  \n",
       "77            4.3        E         8.58  \n",
       "87            7.5  Unknown         7.98  \n",
       "...           ...      ...          ...  \n",
       "16703         7.5  Unknown         0.01  \n",
       "16707         7.5  Unknown         0.01  \n",
       "16710         7.5  Unknown         0.01  \n",
       "16712         7.5  Unknown         0.01  \n",
       "16714         7.5  Unknown         0.01  \n",
       "\n",
       "[1689 rows x 12 columns]"
      ]
     },
     "execution_count": 19,
     "metadata": {},
     "output_type": "execute_result"
    }
   ],
   "source": [
    "#Determine what period you should take data for. To do so, look at your answers to the previous questions. \n",
    "#The data should allow you to build a model for 2017.\n",
    "relevant_period = games_dataset[(games_dataset['year_of_release'] >= 2014) & (games_dataset['year_of_release'] <= 2016)]\n",
    "relevant_period"
   ]
  },
  {
   "cell_type": "markdown",
   "metadata": {},
   "source": [
    "For building a model in 2017, we should focus on data from the 2014 to 2016 onwards, as this period captures the lifecycle of recent platforms."
   ]
  },
  {
   "cell_type": "code",
   "execution_count": 20,
   "metadata": {},
   "outputs": [
    {
     "data": {
      "image/png": "[encoded data removed]",
      "text/plain": [
       "<Figure size 1200x600 with 1 Axes>"
      ]
     },
     "metadata": {},
     "output_type": "display_data"
    },
    {
     "data": {
      "image/png": "[encoded data removed]",
      "text/plain": [
       "<Figure size 1200x600 with 1 Axes>"
      ]
     },
     "metadata": {},
     "output_type": "display_data"
    }
   ],
   "source": [
    "#Which platforms are leading in sales? \n",
    "leading_platforms = relevant_period.groupby('platform')['total_sales'].sum().sort_values(ascending= False)\n",
    "#Which ones are growing or shrinking?\n",
    "growing_platforms = relevant_period.groupby('platform')['total_sales'].mean().sort_values(ascending= False)\n",
    "leading_platforms.plot(kind='bar', title='Leading Platforms From 2014 to 2016', xlabel='Platforms', ylabel='Total Sales', figsize=(12,6))\n",
    "plt.show()\n",
    "growing_platforms.plot(kind='bar', title='Growing Platforms From 2014 to 2016', xlabel='Platforms', ylabel='Total Sales', figsize=(12,6))\n",
    "plt.show()\n"
   ]
  },
  {
   "cell_type": "markdown",
   "metadata": {},
   "source": [
    "The PS2's leading position underscores its historical significance in the gaming industry, while the X360, PS3, Wii, and DS also showcase strong market performances. Mid-tier platforms maintain a steady presence, and older or niche platforms see expected declines in sales figures. This chart highlights the competitive and evolving nature of the gaming console market."
   ]
  },
  {
   "cell_type": "markdown",
   "metadata": {},
   "source": [
    "The Game Boy (GB) stands out as the most successful growing platform, highlighting its historical impact and continued relevance in the gaming industry.Platforms like PS4, X360, PS3, Wii, and XOne demonstrate strong market growth, reflecting their popularity and competitive features.Mid-range platforms such as 2600, PS2, WiiU, N64, PS, and 3DS maintain steady growth, indicating a loyal user base and consistent market performance.Platforms with lower growth, including XB, PSP, WS, DC, PC, and PSV, may cater to niche markets or face stronger competition from leading platforms."
   ]
  },
  {
   "cell_type": "code",
   "execution_count": 21,
   "metadata": {
    "scrolled": false
   },
   "outputs": [
    {
     "data": {
      "image/png": "[encoded data removed]",
      "text/plain": [
       "<Figure size 1400x800 with 1 Axes>"
      ]
     },
     "metadata": {},
     "output_type": "display_data"
    }
   ],
   "source": [
    "#Build a box plot for the global sales of all games, broken down by platform. \n",
    "#Are the differences in sales significant?\n",
    "plt.figure(figsize=(14, 8))\n",
    "sns.boxplot(data=top_platform_total_sales_per_year, palette='Set3')\n",
    "plt.title('Global Sales Distribution by Platform')\n",
    "plt.xlabel('Platform')\n",
    "plt.ylabel('Total Sales')\n",
    "plt.grid(True)\n",
    "plt.xticks(rotation=45)\n",
    "plt.show()"
   ]
  },
  {
   "cell_type": "markdown",
   "metadata": {},
   "source": [
    "<div class=\"alert alert-block alert-success\">✔️\n",
    "\n",
    "__Reviewer's comment №2__\n",
    "    \n",
    "Well done"
   ]
  },
  {
   "cell_type": "markdown",
   "metadata": {},
   "source": [
    "**Global Sales Distribution by Platform**\n",
    "\n",
    "The box plot illustrates the distribution of global sales across different platforms. Key insights include:\n",
    "\n",
    "- **Wide Distribution:** Platforms like PS2, Wii, X360, and PS3 have a wide distribution of sales, with several high-performing outliers.\n",
    "- **Consistent Performers:** Platforms like the DS and PSP show a more consistent distribution with fewer extreme outliers.\n",
    "- **Older Platforms:** NES, SNES, and other older platforms have lower median sales and fewer outliers."
   ]
  },
  {
   "cell_type": "code",
   "execution_count": 22,
   "metadata": {},
   "outputs": [
    {
     "data": {
      "text/plain": [
       "platform\n",
       "GB      2.606735\n",
       "NES     2.561735\n",
       "GEN     1.050000\n",
       "SNES    0.836987\n",
       "PS4     0.801378\n",
       "X360    0.769746\n",
       "2600    0.729173\n",
       "PS3     0.705973\n",
       "Wii     0.687508\n",
       "N64     0.685517\n",
       "XOne    0.645020\n",
       "PS      0.610576\n",
       "PS2     0.581106\n",
       "WiiU    0.559116\n",
       "3DS     0.498077\n",
       "GBA     0.386679\n",
       "DS      0.374765\n",
       "GC      0.357788\n",
       "XB      0.312791\n",
       "SCD     0.310000\n",
       "DC      0.306731\n",
       "PC      0.266448\n",
       "PSP     0.243218\n",
       "WS      0.236667\n",
       "SAT     0.194162\n",
       "PSV     0.125744\n",
       "NG      0.120000\n",
       "TG16    0.080000\n",
       "GG      0.040000\n",
       "3DO     0.033333\n",
       "PCFX    0.030000\n",
       "Name: total_sales, dtype: float64"
      ]
     },
     "execution_count": 22,
     "metadata": {},
     "output_type": "execute_result"
    }
   ],
   "source": [
    "#Average sales on various platforms\n",
    "average_sales = games_dataset.groupby('platform')['total_sales'].mean().sort_values(ascending=False)\n",
    "average_sales"
   ]
  },
  {
   "cell_type": "markdown",
   "metadata": {},
   "source": [
    "**Average Sales by Platform**\n",
    "- The platforms with the highest average global sales per game are:\n",
    "\n",
    "    - GB: 2.61 million units per game\n",
    "    - NES: 2.56 million units per game\n",
    "    - GEN: 1.06 million units per game\n",
    "    - SNES: 0.84 million units per game\n",
    "    - PS4: 0.80 million units per game"
   ]
  },
  {
   "cell_type": "code",
   "execution_count": 23,
   "metadata": {},
   "outputs": [
    {
     "data": {
      "image/png": "[encoded data removed]",
      "text/plain": [
       "<Figure size 1200x600 with 1 Axes>"
      ]
     },
     "metadata": {},
     "output_type": "display_data"
    }
   ],
   "source": [
    "# Impact of reviews on sales for PS3\n",
    "ps2_data = games_dataset[games_dataset['platform']=='PS2']\n",
    "plt.figure(figsize=(12, 6))\n",
    "plt.scatter(ps2_data['user_score'], ps2_data['total_sales'], alpha = 0.5, label='User Score')\n",
    "plt.scatter(ps2_data['critic_score'], ps2_data['total_sales'], alpha = 0.5, label='Critic Score')\n",
    "plt.title('Impact of Reviews on Sales for PS3')\n",
    "plt.xlabel('Score')\n",
    "plt.ylabel('Total Sales')\n",
    "plt.legend()\n",
    "plt.show()"
   ]
  },
  {
   "cell_type": "code",
   "execution_count": 24,
   "metadata": {},
   "outputs": [
    {
     "name": "stdout",
     "output_type": "stream",
     "text": [
      "Correlation matrix for PS3 reviews and sales:\n",
      "              user_score  critic_score  total_sales\n",
      "user_score      1.000000      0.524783     0.172161\n",
      "critic_score    0.524783      1.000000     0.395435\n",
      "total_sales     0.172161      0.395435     1.000000\n"
     ]
    }
   ],
   "source": [
    "# Correlation between reviews and sales for PS3\n",
    "correlation_matrix_ps2 = ps2_data[['user_score', 'critic_score', 'total_sales']].corr()\n",
    "print(\"Correlation matrix for PS3 reviews and sales:\")\n",
    "print(correlation_matrix_ps2)"
   ]
  },
  {
   "cell_type": "markdown",
   "metadata": {},
   "source": [
    "**Impact of Reviews on Sales for PS2:**\n",
    "\n",
    "- The scatter plot shows the relationship between user and critic scores and total sales for PS2\n",
    "games.\n",
    "- The correlation matrix indicates a moderate positive correlation between critic scores and sales (0.3), while the user scores have a weaker correlation with sales (0.17)."
   ]
  },
  {
   "cell_type": "markdown",
   "metadata": {},
   "source": [
    "<div class=\"alert alert-block alert-success\">✔️\n",
    "    \n",
    "\n",
    "__Reviewer's comment №2__\n",
    "\n",
    "\n",
    "Thank you. I agree with you"
   ]
  },
  {
   "cell_type": "markdown",
   "metadata": {},
   "source": [
    "**User and Critic Reviews:**\n",
    "\n",
    "- Critic reviews have a more significant impact on sales compared to user reviews for PS3 games.\n",
    "- This insight can help prioritize professional reviews in marketing strategies."
   ]
  },
  {
   "cell_type": "code",
   "execution_count": 25,
   "metadata": {},
   "outputs": [
    {
     "name": "stdout",
     "output_type": "stream",
     "text": [
      "Average Sales by Genre:\n",
      "           genre  total_sales\n",
      "0       Platform     0.932173\n",
      "1        Shooter     0.795503\n",
      "2   Role-Playing     0.623872\n",
      "3         Racing     0.583403\n",
      "4         Sports     0.566980\n",
      "5       Fighting     0.527126\n",
      "6         Action     0.517711\n",
      "7           Misc     0.458577\n",
      "8     Simulation     0.446701\n",
      "9         Puzzle     0.418224\n",
      "10      Strategy     0.255095\n",
      "11     Adventure     0.182341\n",
      "\n",
      "Median Sales by Genre:\n",
      "           genre  total_sales\n",
      "0       Platform         0.27\n",
      "1        Shooter         0.24\n",
      "2         Sports         0.22\n",
      "3       Fighting         0.21\n",
      "4         Action         0.19\n",
      "5         Racing         0.19\n",
      "6   Role-Playing         0.18\n",
      "7           Misc         0.16\n",
      "8     Simulation         0.15\n",
      "9         Puzzle         0.11\n",
      "10      Strategy         0.10\n",
      "11     Adventure         0.05\n"
     ]
    },
    {
     "data": {
      "image/png": "[encoded data removed]",
      "text/plain": [
       "<Figure size 1600x800 with 1 Axes>"
      ]
     },
     "metadata": {},
     "output_type": "display_data"
    }
   ],
   "source": [
    "# Calculate average and median sales by genre\n",
    "average_sales_by_genre = games_dataset.groupby('genre')['total_sales'].mean().sort_values(ascending=False).reset_index()\n",
    "median_sales_by_genre = games_dataset.groupby('genre')['total_sales'].median().sort_values(ascending=False).reset_index()\n",
    "\n",
    "# Display the average and median sales by genre\n",
    "print(\"Average Sales by Genre:\")\n",
    "print(average_sales_by_genre)\n",
    "print(\"\\nMedian Sales by Genre:\")\n",
    "print(median_sales_by_genre)\n",
    "\n",
    "# Boxplot for sales distribution by genre\n",
    "plt.figure(figsize=(16, 8))\n",
    "sns.boxplot(x='genre', y='total_sales', data=games_dataset, palette='Set3')\n",
    "plt.title('Sales Distribution by Genre')\n",
    "plt.xlabel('Genre')\n",
    "plt.ylabel('Total Sales (in millions)')\n",
    "plt.ylim(0, 5)\n",
    "plt.xticks(rotation=45)\n",
    "plt.show()"
   ]
  },
  {
   "cell_type": "markdown",
   "metadata": {},
   "source": [
    "<div class=\"alert alert-block alert-success\">✔️\n",
    "    \n",
    "\n",
    "__Reviewer's comment №2__\n",
    "\n",
    "    \n",
    "Brilliant    "
   ]
  },
  {
   "cell_type": "markdown",
   "metadata": {},
   "source": [
    "**Summary** \n",
    "\n",
    "- High Performers: Platform, Shooter, and Sports genres are consistently high performers, both in terms of average and median sales. These genres have many games that perform well, with several achieving very high sales.\n",
    "\n",
    "- Moderate Performers: Role-Playing, Racing, and Action genres show good performance with moderate median sales and several high outliers.\n",
    "\n",
    "- Lower Performers: Puzzle, Miscellaneous, Simulation, Adventure, and Strategy genres generally have lower median sales, indicating they are less consistently profitable."
   ]
  },
  {
   "cell_type": "markdown",
   "metadata": {},
   "source": [
    "# Step 4. Create a user profile for each region\n",
    "\n"
   ]
  },
  {
   "cell_type": "code",
   "execution_count": 26,
   "metadata": {},
   "outputs": [
    {
     "name": "stdout",
     "output_type": "stream",
     "text": [
      "Region: NA_SALES\n",
      "Top Platforms:\n",
      "platform\n",
      "X360    602.47\n",
      "PS2     583.84\n",
      "Wii     496.90\n",
      "PS3     393.49\n",
      "DS      382.40\n",
      "Name: na_sales, dtype: float64\n",
      "Top Genres:\n",
      "genre\n",
      "Action      879.01\n",
      "Sports      684.43\n",
      "Shooter     592.24\n",
      "Platform    445.50\n",
      "Misc        407.27\n",
      "Name: na_sales, dtype: float64\n",
      "\n",
      "\n"
     ]
    },
    {
     "data": {
      "image/png": "[encoded data removed]",
      "text/plain": [
       "<Figure size 1500x600 with 2 Axes>"
      ]
     },
     "metadata": {},
     "output_type": "display_data"
    },
    {
     "name": "stdout",
     "output_type": "stream",
     "text": [
      "Region: EU_SALES\n",
      "Top Platforms:\n",
      "platform\n",
      "PS2     339.29\n",
      "PS3     330.29\n",
      "X360    270.76\n",
      "Wii     262.21\n",
      "PS      213.61\n",
      "Name: eu_sales, dtype: float64\n",
      "Top Genres:\n",
      "genre\n",
      "Action     519.13\n",
      "Sports     376.79\n",
      "Shooter    317.34\n",
      "Racing     236.51\n",
      "Misc       212.74\n",
      "Name: eu_sales, dtype: float64\n",
      "\n",
      "\n"
     ]
    },
    {
     "data": {
      "image/png": "[encoded data removed]",
      "text/plain": [
       "<Figure size 1500x600 with 2 Axes>"
      ]
     },
     "metadata": {},
     "output_type": "display_data"
    },
    {
     "name": "stdout",
     "output_type": "stream",
     "text": [
      "Region: JP_SALES\n",
      "Top Platforms:\n",
      "platform\n",
      "DS      175.57\n",
      "PS      139.82\n",
      "PS2     139.20\n",
      "SNES    116.55\n",
      "3DS     100.67\n",
      "Name: jp_sales, dtype: float64\n",
      "Top Genres:\n",
      "genre\n",
      "Role-Playing    355.41\n",
      "Action          161.43\n",
      "Sports          135.54\n",
      "Platform        130.83\n",
      "Misc            108.11\n",
      "Name: jp_sales, dtype: float64\n",
      "\n",
      "\n"
     ]
    },
    {
     "data": {
      "image/png": "[encoded data removed]",
      "text/plain": [
       "<Figure size 1500x600 with 2 Axes>"
      ]
     },
     "metadata": {},
     "output_type": "display_data"
    }
   ],
   "source": [
    "# Create user profiles for each region\n",
    "regions = ['na_sales', 'eu_sales', 'jp_sales']\n",
    "\n",
    "region_profiles = {}\n",
    "for region in regions:\n",
    "    top_platforms = games_dataset.groupby('platform')[region].sum().sort_values(ascending=False).head(5)\n",
    "    top_genres = games_dataset.groupby('genre')[region].sum().sort_values(ascending=False).head(5)\n",
    "    region_profiles[region] = {'top_platforms': top_platforms, 'top_genres': top_genres}\n",
    "    \n",
    "# Function to create bar charts for platforms and genres\n",
    "def plot_top_platforms_genres(region_name, platforms, genres):\n",
    "    fig, ax = plt.subplots(1, 2, figsize=(15, 6))\n",
    "\n",
    "    # Plot top platforms\n",
    "    platforms.plot(kind='bar', ax=ax[0], color='skyblue')\n",
    "    ax[0].set_title(f'Top Platforms in {region_name}')\n",
    "    ax[0].set_xlabel('Platform')\n",
    "    ax[0].set_ylabel('Total Sales (in millions)')\n",
    "    \n",
    "    # Plot top genres\n",
    "    genres.plot(kind='bar', ax=ax[1], color='lightgreen')\n",
    "    ax[1].set_title(f'Top Genres in {region_name}')\n",
    "    ax[1].set_xlabel('Genre')\n",
    "    ax[1].set_ylabel('Total Sales (in millions)')\n",
    "    \n",
    "    plt.tight_layout()\n",
    "    plt.show()\n",
    "\n",
    "# Display the user profiles for each region\n",
    "for region, profile in region_profiles.items():\n",
    "    print(f\"Region: {region.upper()}\")\n",
    "    print(\"Top Platforms:\")\n",
    "    print(profile['top_platforms'])\n",
    "    print(\"Top Genres:\")\n",
    "    print(profile['top_genres'])\n",
    "    print(\"\\n\")\n",
    "    \n",
    "    plot_top_platforms_genres(region.upper(), profile['top_platforms'], profile['top_genres'])\n"
   ]
  },
  {
   "cell_type": "markdown",
   "metadata": {},
   "source": [
    "**Variations in Market Shares from Region to Region**\n",
    "\n",
    "1. Top Platforms:\n",
    "\n",
    "    - North America:\n",
    "\n",
    "        - The Xbox 360 leads the market, followed closely by the PlayStation 2 and Wii.\n",
    "        - Nintendo DS is also quite popular in this region.\n",
    "        \n",
    "    - Europe:\n",
    "\n",
    "        - The PlayStation 2 and PlayStation 3 dominate the market, indicating a stronger preference for PlayStation           consoles.\n",
    "        - Xbox 360 and Wii have significant shares but are less dominant compared to North America.\n",
    "        - The original PlayStation also maintains a notable presence.\n",
    "        \n",
    "    - Japan:\n",
    "\n",
    "        - Nintendo platforms are more dominant, with the DS and 3DS leading the market.\n",
    "        - The Super Nintendo Entertainment System (SNES) and PlayStation (PS) are also significant, indicating a             preference for older consoles.\n",
    "        - The role-playing genre has a major influence on platform popularity.\n",
    "        \n",
    "2. Top Genres:\n",
    "\n",
    "    - North America:\n",
    "\n",
    "        - Action and Sports genres are the most popular, followed by Shooter and Platform games.\n",
    "        - Miscellaneous games also have a considerable market share.\n",
    "\n",
    "    - Europe:\n",
    "\n",
    "        - Action and Sports genres are again the most popular, followed by Shooter and Racing games.\n",
    "        - Miscellaneous games hold a similar market share to North America.\n",
    "        \n",
    "    - Japan:\n",
    "\n",
    "        - Role-Playing games dominate the market, significantly more than in North America and Europe.\n",
    "        - Action, Sports, and Platform genres are also popular but to a lesser extent.\n",
    "        - Miscellaneous games have a presence but are not as dominant.\n",
    "\n"
   ]
  },
  {
   "cell_type": "markdown",
   "metadata": {},
   "source": []
  },
  {
   "cell_type": "code",
   "execution_count": 27,
   "metadata": {},
   "outputs": [
    {
     "data": {
      "image/png": "[encoded data removed]",
      "text/plain": [
       "<Figure size 1200x800 with 1 Axes>"
      ]
     },
     "metadata": {},
     "output_type": "display_data"
    },
    {
     "data": {
      "text/html": [
       "<div>\n",
       "<style scoped>\n",
       "    .dataframe tbody tr th:only-of-type {\n",
       "        vertical-align: middle;\n",
       "    }\n",
       "\n",
       "    .dataframe tbody tr th {\n",
       "        vertical-align: top;\n",
       "    }\n",
       "\n",
       "    .dataframe thead th {\n",
       "        text-align: right;\n",
       "    }\n",
       "</style>\n",
       "<table border=\"1\" class=\"dataframe\">\n",
       "  <thead>\n",
       "    <tr style=\"text-align: right;\">\n",
       "      <th></th>\n",
       "      <th>na_sales</th>\n",
       "      <th>eu_sales</th>\n",
       "      <th>jp_sales</th>\n",
       "    </tr>\n",
       "    <tr>\n",
       "      <th>rating</th>\n",
       "      <th></th>\n",
       "      <th></th>\n",
       "      <th></th>\n",
       "    </tr>\n",
       "  </thead>\n",
       "  <tbody>\n",
       "    <tr>\n",
       "      <th>AO</th>\n",
       "      <td>1.26</td>\n",
       "      <td>0.61</td>\n",
       "      <td>0.00</td>\n",
       "    </tr>\n",
       "    <tr>\n",
       "      <th>E</th>\n",
       "      <td>1292.99</td>\n",
       "      <td>710.25</td>\n",
       "      <td>198.11</td>\n",
       "    </tr>\n",
       "    <tr>\n",
       "      <th>E10+</th>\n",
       "      <td>353.32</td>\n",
       "      <td>188.52</td>\n",
       "      <td>40.20</td>\n",
       "    </tr>\n",
       "    <tr>\n",
       "      <th>EC</th>\n",
       "      <td>1.53</td>\n",
       "      <td>0.11</td>\n",
       "      <td>0.00</td>\n",
       "    </tr>\n",
       "    <tr>\n",
       "      <th>K-A</th>\n",
       "      <td>2.56</td>\n",
       "      <td>0.27</td>\n",
       "      <td>1.46</td>\n",
       "    </tr>\n",
       "    <tr>\n",
       "      <th>M</th>\n",
       "      <td>748.48</td>\n",
       "      <td>483.97</td>\n",
       "      <td>64.24</td>\n",
       "    </tr>\n",
       "    <tr>\n",
       "      <th>RP</th>\n",
       "      <td>0.00</td>\n",
       "      <td>0.08</td>\n",
       "      <td>0.00</td>\n",
       "    </tr>\n",
       "    <tr>\n",
       "      <th>T</th>\n",
       "      <td>759.75</td>\n",
       "      <td>427.03</td>\n",
       "      <td>151.40</td>\n",
       "    </tr>\n",
       "    <tr>\n",
       "      <th>Unknown</th>\n",
       "      <td>1240.68</td>\n",
       "      <td>613.30</td>\n",
       "      <td>841.93</td>\n",
       "    </tr>\n",
       "  </tbody>\n",
       "</table>\n",
       "</div>"
      ],
      "text/plain": [
       "         na_sales  eu_sales  jp_sales\n",
       "rating                               \n",
       "AO           1.26      0.61      0.00\n",
       "E         1292.99    710.25    198.11\n",
       "E10+       353.32    188.52     40.20\n",
       "EC           1.53      0.11      0.00\n",
       "K-A          2.56      0.27      1.46\n",
       "M          748.48    483.97     64.24\n",
       "RP           0.00      0.08      0.00\n",
       "T          759.75    427.03    151.40\n",
       "Unknown   1240.68    613.30    841.93"
      ]
     },
     "execution_count": 27,
     "metadata": {},
     "output_type": "execute_result"
    }
   ],
   "source": [
    "esrb_sales = games_dataset.groupby('rating')[regions].sum()\n",
    "# Visualize the results\n",
    "esrb_sales.plot(kind='bar', figsize=(12, 8))\n",
    "plt.title('Sales by ESRB Rating in Different Regions')\n",
    "plt.xlabel('ESRB Rating')\n",
    "plt.ylabel('Total Sales (in millions)')\n",
    "plt.xticks(rotation=0)\n",
    "plt.legend(['NA Sales', 'EU Sales', 'JP Sales'])\n",
    "plt.show()\n",
    "\n",
    "# Display the sales by ESRB rating\n",
    "esrb_sales"
   ]
  },
  {
   "cell_type": "markdown",
   "metadata": {},
   "source": [
    "**Impact of ESRB Ratings:**\n",
    "\n",
    "The bar chart and sales data indicate the impact of different ESRB ratings on sales in North America, Europe, and Japan:\n",
    "\n",
    "- E (Everyone):\n",
    "    - Highest sales across all regions, indicating a strong preference for family-friendly games.\n",
    "- T (Teen) and M (Mature):\n",
    "    - Significant sales, particularly in North America and Europe.\n",
    "- E10+ (Everyone 10+):\n",
    "    - Moderate sales, indicating a preference for slightly more mature content than E-rated games.\n",
    "- AO (Adults Only) and EC (Early Childhood):\n",
    "    - Very low sales, indicating niche markets.\n",
    "- Unknown:\n",
    "    - High sales in all regions, particularly in Japan, suggesting a significant number of games with unrated or missing rating information."
   ]
  },
  {
   "cell_type": "markdown",
   "metadata": {},
   "source": [
    "**Summary of ESRB Ratings Impact**\n",
    "\n",
    "- North America: E-rated games dominate, followed by M and T ratings.\n",
    "- Europe: Similar pattern with E-rated games leading, followed by T and M ratings.\n",
    "- Japan: E-rated games lead, but the Unknown category shows a significant presence, followed by Role-Playing games."
   ]
  },
  {
   "cell_type": "markdown",
   "metadata": {},
   "source": [
    "# Step 5. Test the following hypotheses:\n",
    "\n"
   ]
  },
  {
   "cell_type": "markdown",
   "metadata": {},
   "source": [
    "<div class=\"alert alert-block alert-success\">✔️\n",
    "    \n",
    "\n",
    "__Reviewer's comment №1__\n",
    "\n",
    "Correct interpretation of the Null and Alternative hypotheses"
   ]
  },
  {
   "cell_type": "code",
   "execution_count": 28,
   "metadata": {},
   "outputs": [
    {
     "name": "stdout",
     "output_type": "stream",
     "text": [
      "Hypothesis 1 - t-statistic: -3.92, p-value: 0.00\n",
      "Hypothesis 2 - t-statistic:1.13, p-value: 0.26\n"
     ]
    }
   ],
   "source": [
    "from scipy import stats\n",
    "\n",
    "# Hypothesis 1: Average user ratings of the Xbox One and PC platforms are the same\n",
    "xbox_one_ratings = games_dataset[games_dataset['platform'] == 'XOne']['user_score']\n",
    "pc_ratings = games_dataset[games_dataset['platform'] == 'PC']['user_score']\n",
    "\n",
    "t_stat1, p_val1 = stats.ttest_ind(xbox_one_ratings.dropna(), pc_ratings.dropna())\n",
    "print(f\"Hypothesis 1 - t-statistic: {t_stat1:.2f}, p-value: {p_val1:.2f}\")\n",
    "\n",
    "# Hypothesis 2: Average user ratings for the Action and Sports genres are different\n",
    "action_ratings = games_dataset[games_dataset['genre'] == 'Action']['user_score']\n",
    "sports_ratings = games_dataset[games_dataset['genre'] == 'Sports']['user_score']\n",
    "\n",
    "t_stat2, p_val2 = stats.ttest_ind(action_ratings.dropna(), sports_ratings.dropna())\n",
    "print(f\"Hypothesis 2 - t-statistic:{t_stat2:.2f}, p-value: {p_val2:.2f}\")\n"
   ]
  },
  {
   "cell_type": "markdown",
   "metadata": {},
   "source": [
    "**Hypothesis Testing Results**\n",
    "\n",
    "**1. Hypothesis 1:** Average user ratings of the Xbox One and PC platforms are the same.\n",
    "\n",
    "    - t-statistic: -3.92\n",
    "    - p-value: 0.00\n",
    "\n",
    "- **Interpretation:** The p-value is much lower than the commonly used significance level of 0.05. Therefore, we reject the null hypothesis and conclude that there is a significant difference between the average user ratings of the Xbox One and PC platforms.\n",
    "\n",
    "**2. Hypothesis 2:** Average user ratings for the Action and Sports genres are different.\n",
    "\n",
    "    - t-statistic: 1.13\n",
    "    - p-value: 0.26\n",
    "    \n",
    "- **Interpretation:** The p-value is higher than the significance level of 0.05. Therefore, we fail to reject the null hypothesis and conclude that there is no significant difference between the average user ratings for the Action and Sports genres."
   ]
  },
  {
   "cell_type": "markdown",
   "metadata": {},
   "source": [
    "**Formulation of Hypotheses**\n",
    "\n",
    "**1. Hypothesis 1:** Average user ratings of the Xbox One and PC platforms are the same.\n",
    "\n",
    "- **Null Hypothesis (H0):** The average user ratings for Xbox One and PC platforms are equal.\n",
    "\n",
    " \n",
    "- **Alternative Hypothesis (H1):** The average user ratings for Xbox One and PC platforms are not equal.\n",
    "\n",
    " \n",
    "- **Reasoning:** This hypothesis aims to test whether there is a statistically significant difference between the user ratings of games on Xbox One and PC platforms. By comparing the means, we can determine if user preferences and experiences differ across these platforms.\n",
    "\n",
    "**2. Hypothesis 2:** Average user ratings for the Action and Sports genres are different.\n",
    "\n",
    "\n",
    "- **Null Hypothesis (H0):** The average user ratings for Action and Sports genres are equal.\n",
    "\n",
    "\n",
    "- **Alternative Hypothesis (H1):** The average user ratings for Action and Sports genres are not equal.\n",
    "\n",
    "\n",
    "- **Reasoning:** This hypothesis tests whether there is a significant difference in user ratings between Action and Sports games. By comparing the means, we can assess if the genre impacts user satisfaction and ratings.\n",
    "\n",
    "**Significance Level**\n",
    "- Chosen Significance Level (α): 0.05 (5%)\n",
    "\n",
    "**Reasoning:**\n",
    "\n",
    "- The 0.05 significance level is commonly used in statistical hypothesis testing as it represents a good balance between Type I and Type II errors.\n",
    "- **Type I Error:** Rejecting the null hypothesis when it is true (false positive). By setting 𝛼 to 0.05, we accept a 5% chance of making this error.\n",
    "- **Type II Error:** Failing to reject the null hypothesis when it is false (false negative). While alpha = 0.05 does not directly control the Type II error, it is widely accepted as a standard threshold in many fields.\n",
    "\n",
    "Using a significance level of 0.05 ensures that we have a reasonable threshold for detecting true differences without being overly stringent, which could result in missing meaningful differences (higher Type II error rate)."
   ]
  },
  {
   "cell_type": "markdown",
   "metadata": {},
   "source": [
    "# General Conclusion\n",
    "\n",
    "The video game industry, characterized by its rapid evolution and diverse market dynamics, requires a deep understanding of the factors driving game success. This project, which analyzed data from various sources up to December 2016, provides crucial insights into the trends and patterns that influence the success of video games. The key findings from this analysis highlight the importance of platforms, genres, reviews, and regional preferences in shaping game sales.\n",
    "\n",
    "**Key Findings**\n",
    "\n",
    "1. Release Trends:\n",
    "\n",
    "- The number of game releases peaked around 2007-2009, with a subsequent decline, indicating changes in industry trends and potential shifts in market focus.\n",
    "\n",
    "2. Top Platforms:\n",
    "\n",
    "- The PlayStation 2 (PS2), Xbox 360 (X360), PlayStation 3 (PS3), Wii, and Nintendo DS (DS) emerged as the top platforms in terms of total sales. These platforms have significantly influenced the gaming market during their prime years.\n",
    "\n",
    "3. Sales Trends:\n",
    "\n",
    "- Platforms such as PS2, X360, and Wii experienced significant sales peaks, showcasing their popularity and impact on the market. These platforms also displayed wide variability in game success, with several high-performing outliers.\n",
    "\n",
    "4. Genre Performance:\n",
    "\n",
    "- High-performing genres include Platform, Shooter, and Sports, which consistently show high average and median sales. Role-Playing, Racing, and Action genres also perform well, while Puzzle, Miscellaneous, Simulation, Adventure, and Strategy genres have lower and less consistent sales.\n",
    "\n",
    "5. Regional Preferences:\n",
    "\n",
    "- North America: Strong preference for Xbox 360, with Action and Sports genres being the most popular.\n",
    "- Europe: Favor PlayStation consoles, with Action and Sports genres leading.\n",
    "- Japan: Dominated by Nintendo platforms, especially the DS, with Role-Playing games being the most popular genre.\n",
    "\n",
    "6. Impact of Reviews:\n",
    "\n",
    "- Critic reviews have a more significant impact on sales compared to user reviews, particularly for platforms like PS3. This suggests that professional opinions are crucial in driving game sales.\n",
    "\n",
    "7. ESRB Ratings:\n",
    "\n",
    "- E-rated games (Everyone) dominate sales across all regions, indicating a strong market preference for family-friendly content. T (Teen) and M (Mature) ratings also have significant sales, particularly in North America and Europe."
   ]
  },
  {
   "cell_type": "markdown",
   "metadata": {},
   "source": []
  },
  {
   "cell_type": "markdown",
   "metadata": {},
   "source": [
    "<div class=\"alert alert-block alert-success\">✔️\n",
    "    \n",
    "\n",
    "__Reviewer's comment №2__\n",
    "\n",
    "\n",
    "Otherwise it's great😊. Your project is begging for github =)   \n",
    "    \n",
    "Congratulations on the successful completion of the project 😊👍\n",
    "And I wish you success in new works 😊"
   ]
  }
 ],
 "metadata": {
  "ExecuteTimeLog": [
   {
    "duration": 327,
    "start_time": "2024-07-24T16:26:15.187Z"
   },
   {
    "duration": 443,
    "start_time": "2024-07-24T16:26:51.357Z"
   },
   {
    "duration": 778,
    "start_time": "2024-07-24T16:27:38.526Z"
   },
   {
    "duration": 131,
    "start_time": "2024-07-24T16:27:55.124Z"
   },
   {
    "duration": 55,
    "start_time": "2024-07-24T16:28:07.550Z"
   },
   {
    "duration": 40,
    "start_time": "2024-07-24T16:28:32.500Z"
   },
   {
    "duration": 20,
    "start_time": "2024-07-24T16:28:43.920Z"
   },
   {
    "duration": 23,
    "start_time": "2024-07-24T16:32:21.389Z"
   },
   {
    "duration": 18,
    "start_time": "2024-07-24T16:32:26.498Z"
   },
   {
    "duration": 3,
    "start_time": "2024-07-24T16:33:05.350Z"
   },
   {
    "duration": 37,
    "start_time": "2024-07-24T16:33:05.552Z"
   },
   {
    "duration": 21,
    "start_time": "2024-07-24T16:33:06.038Z"
   },
   {
    "duration": 36,
    "start_time": "2024-07-24T16:33:15.546Z"
   },
   {
    "duration": 20,
    "start_time": "2024-07-24T16:33:15.860Z"
   },
   {
    "duration": 18,
    "start_time": "2024-07-24T16:33:17.288Z"
   },
   {
    "duration": 21,
    "start_time": "2024-07-24T16:34:24.086Z"
   },
   {
    "duration": 5,
    "start_time": "2024-07-24T16:34:41.464Z"
   },
   {
    "duration": 7,
    "start_time": "2024-07-24T16:35:04.893Z"
   },
   {
    "duration": 1122,
    "start_time": "2024-07-24T16:48:34.566Z"
   },
   {
    "duration": 96,
    "start_time": "2024-07-24T16:48:38.264Z"
   },
   {
    "duration": 27,
    "start_time": "2024-07-24T16:50:33.997Z"
   },
   {
    "duration": 26,
    "start_time": "2024-07-24T16:50:39.520Z"
   },
   {
    "duration": 26,
    "start_time": "2024-07-24T16:50:44.933Z"
   },
   {
    "duration": 11,
    "start_time": "2024-07-24T16:50:50.611Z"
   },
   {
    "duration": 10,
    "start_time": "2024-07-24T16:53:03.203Z"
   },
   {
    "duration": 24,
    "start_time": "2024-07-24T16:53:15.420Z"
   },
   {
    "duration": 25,
    "start_time": "2024-07-24T16:56:12.878Z"
   },
   {
    "duration": 447,
    "start_time": "2024-07-24T16:56:43.241Z"
   },
   {
    "duration": 39,
    "start_time": "2024-07-24T16:56:44.190Z"
   },
   {
    "duration": 20,
    "start_time": "2024-07-24T16:56:44.617Z"
   },
   {
    "duration": 26,
    "start_time": "2024-07-24T16:56:45.142Z"
   },
   {
    "duration": 8,
    "start_time": "2024-07-24T16:56:45.827Z"
   },
   {
    "duration": 30,
    "start_time": "2024-07-24T16:56:47.039Z"
   },
   {
    "duration": 25,
    "start_time": "2024-07-24T16:58:48.359Z"
   },
   {
    "duration": 22,
    "start_time": "2024-07-24T16:59:06.893Z"
   },
   {
    "duration": 24,
    "start_time": "2024-07-24T17:00:47.624Z"
   },
   {
    "duration": 1000,
    "start_time": "2024-07-24T17:01:47.409Z"
   },
   {
    "duration": 86,
    "start_time": "2024-07-24T17:02:01.434Z"
   },
   {
    "duration": 3,
    "start_time": "2024-07-24T17:02:10.306Z"
   },
   {
    "duration": 36,
    "start_time": "2024-07-24T17:02:10.637Z"
   },
   {
    "duration": 18,
    "start_time": "2024-07-24T17:02:10.877Z"
   },
   {
    "duration": 19,
    "start_time": "2024-07-24T17:02:11.190Z"
   },
   {
    "duration": 6,
    "start_time": "2024-07-24T17:02:11.578Z"
   },
   {
    "duration": 26,
    "start_time": "2024-07-24T17:02:11.984Z"
   },
   {
    "duration": 78,
    "start_time": "2024-07-24T17:02:12.806Z"
   },
   {
    "duration": 76,
    "start_time": "2024-07-24T17:02:34.367Z"
   },
   {
    "duration": 79,
    "start_time": "2024-07-24T17:03:40.726Z"
   },
   {
    "duration": 466,
    "start_time": "2024-07-24T17:04:03.035Z"
   },
   {
    "duration": 38,
    "start_time": "2024-07-24T17:04:03.941Z"
   },
   {
    "duration": 20,
    "start_time": "2024-07-24T17:04:04.423Z"
   },
   {
    "duration": 25,
    "start_time": "2024-07-24T17:04:04.919Z"
   },
   {
    "duration": 6,
    "start_time": "2024-07-24T17:04:05.377Z"
   },
   {
    "duration": 26,
    "start_time": "2024-07-24T17:04:05.841Z"
   },
   {
    "duration": 6,
    "start_time": "2024-07-24T17:04:21.289Z"
   },
   {
    "duration": 6,
    "start_time": "2024-07-24T17:04:34.598Z"
   },
   {
    "duration": 18,
    "start_time": "2024-07-24T17:04:45.829Z"
   },
   {
    "duration": 8,
    "start_time": "2024-07-24T17:05:59.591Z"
   },
   {
    "duration": 6,
    "start_time": "2024-07-24T17:06:03.531Z"
   },
   {
    "duration": 332,
    "start_time": "2024-07-24T17:06:14.359Z"
   },
   {
    "duration": 9,
    "start_time": "2024-07-24T17:06:20.063Z"
   },
   {
    "duration": 338,
    "start_time": "2024-07-24T17:08:33.134Z"
   },
   {
    "duration": 19,
    "start_time": "2024-07-24T17:08:41.132Z"
   },
   {
    "duration": 23,
    "start_time": "2024-07-24T17:10:58.694Z"
   },
   {
    "duration": 25,
    "start_time": "2024-07-24T17:25:27.308Z"
   },
   {
    "duration": 19,
    "start_time": "2024-07-24T17:25:33.332Z"
   },
   {
    "duration": 6,
    "start_time": "2024-07-24T17:25:41.916Z"
   },
   {
    "duration": 17,
    "start_time": "2024-07-24T17:25:57.307Z"
   },
   {
    "duration": 823,
    "start_time": "2024-07-24T17:29:52.871Z"
   },
   {
    "duration": 7,
    "start_time": "2024-07-24T17:30:36.232Z"
   },
   {
    "duration": 24,
    "start_time": "2024-07-24T17:30:58.087Z"
   },
   {
    "duration": 6,
    "start_time": "2024-07-24T18:20:43.650Z"
   },
   {
    "duration": 9,
    "start_time": "2024-07-24T18:20:51.147Z"
   },
   {
    "duration": 8,
    "start_time": "2024-07-24T18:21:18.982Z"
   },
   {
    "duration": 20,
    "start_time": "2024-07-24T18:22:31.570Z"
   },
   {
    "duration": 8,
    "start_time": "2024-07-24T18:22:38.826Z"
   },
   {
    "duration": 22,
    "start_time": "2024-07-24T18:26:03.091Z"
   },
   {
    "duration": 441,
    "start_time": "2024-07-24T18:26:13.847Z"
   },
   {
    "duration": 42,
    "start_time": "2024-07-24T18:26:14.291Z"
   },
   {
    "duration": 19,
    "start_time": "2024-07-24T18:26:14.478Z"
   },
   {
    "duration": 25,
    "start_time": "2024-07-24T18:26:15.178Z"
   },
   {
    "duration": 6,
    "start_time": "2024-07-24T18:26:15.903Z"
   },
   {
    "duration": 28,
    "start_time": "2024-07-24T18:26:16.647Z"
   },
   {
    "duration": 25,
    "start_time": "2024-07-24T18:26:18.420Z"
   },
   {
    "duration": 19,
    "start_time": "2024-07-24T18:26:19.569Z"
   },
   {
    "duration": 21,
    "start_time": "2024-07-24T18:26:20.049Z"
   },
   {
    "duration": 8,
    "start_time": "2024-07-24T18:26:22.647Z"
   },
   {
    "duration": 394,
    "start_time": "2024-07-24T18:27:18.738Z"
   },
   {
    "duration": 0,
    "start_time": "2024-07-24T18:27:19.134Z"
   },
   {
    "duration": 18,
    "start_time": "2024-07-24T18:27:19.306Z"
   },
   {
    "duration": 19,
    "start_time": "2024-07-24T18:27:19.505Z"
   },
   {
    "duration": 7,
    "start_time": "2024-07-24T18:27:19.869Z"
   },
   {
    "duration": 22,
    "start_time": "2024-07-24T18:27:20.181Z"
   },
   {
    "duration": 23,
    "start_time": "2024-07-24T18:27:20.923Z"
   },
   {
    "duration": 17,
    "start_time": "2024-07-24T18:27:21.320Z"
   },
   {
    "duration": 21,
    "start_time": "2024-07-24T18:27:21.465Z"
   },
   {
    "duration": 8,
    "start_time": "2024-07-24T18:27:21.762Z"
   },
   {
    "duration": 4315,
    "start_time": "2024-07-24T18:29:40.616Z"
   },
   {
    "duration": 466,
    "start_time": "2024-07-24T18:29:51.100Z"
   },
   {
    "duration": 455,
    "start_time": "2024-07-24T18:30:12.390Z"
   },
   {
    "duration": 38,
    "start_time": "2024-07-24T18:34:26.803Z"
   },
   {
    "duration": 24,
    "start_time": "2024-07-24T18:34:33.194Z"
   },
   {
    "duration": 784,
    "start_time": "2024-07-24T18:34:38.369Z"
   },
   {
    "duration": 7,
    "start_time": "2024-07-24T18:34:51.673Z"
   },
   {
    "duration": 11,
    "start_time": "2024-07-24T18:35:00.991Z"
   },
   {
    "duration": 11,
    "start_time": "2024-07-24T18:44:28.243Z"
   },
   {
    "duration": 11,
    "start_time": "2024-07-24T18:44:52.939Z"
   },
   {
    "duration": 24,
    "start_time": "2024-07-24T18:47:28.197Z"
   },
   {
    "duration": 13,
    "start_time": "2024-07-24T18:47:40.342Z"
   },
   {
    "duration": 24,
    "start_time": "2024-07-24T18:47:55.938Z"
   },
   {
    "duration": 11,
    "start_time": "2024-07-24T18:50:16.569Z"
   },
   {
    "duration": 355,
    "start_time": "2024-07-24T18:53:17.272Z"
   },
   {
    "duration": 365,
    "start_time": "2024-07-24T18:53:27.408Z"
   },
   {
    "duration": 336,
    "start_time": "2024-07-24T18:53:34.010Z"
   },
   {
    "duration": 833,
    "start_time": "2024-07-24T18:54:02.157Z"
   },
   {
    "duration": 0,
    "start_time": "2024-07-24T18:54:02.993Z"
   },
   {
    "duration": 0,
    "start_time": "2024-07-24T18:54:02.994Z"
   },
   {
    "duration": 0,
    "start_time": "2024-07-24T18:54:02.996Z"
   },
   {
    "duration": 0,
    "start_time": "2024-07-24T18:54:02.998Z"
   },
   {
    "duration": 27,
    "start_time": "2024-07-24T18:54:03.785Z"
   },
   {
    "duration": 22,
    "start_time": "2024-07-24T18:54:04.838Z"
   },
   {
    "duration": 817,
    "start_time": "2024-07-24T18:54:47.981Z"
   },
   {
    "duration": 106,
    "start_time": "2024-07-24T18:54:51.277Z"
   },
   {
    "duration": 19,
    "start_time": "2024-07-24T18:54:51.608Z"
   },
   {
    "duration": 22,
    "start_time": "2024-07-24T18:54:51.922Z"
   },
   {
    "duration": 1253,
    "start_time": "2024-07-24T18:55:00.368Z"
   },
   {
    "duration": 37,
    "start_time": "2024-07-24T18:55:01.627Z"
   },
   {
    "duration": 20,
    "start_time": "2024-07-24T18:55:01.666Z"
   },
   {
    "duration": 22,
    "start_time": "2024-07-24T18:55:01.956Z"
   },
   {
    "duration": 7,
    "start_time": "2024-07-24T18:55:02.775Z"
   },
   {
    "duration": 26,
    "start_time": "2024-07-24T18:55:03.642Z"
   },
   {
    "duration": 26,
    "start_time": "2024-07-24T18:55:05.214Z"
   },
   {
    "duration": 18,
    "start_time": "2024-07-24T18:55:06.193Z"
   },
   {
    "duration": 22,
    "start_time": "2024-07-24T18:55:06.602Z"
   },
   {
    "duration": 11,
    "start_time": "2024-07-24T18:55:07.363Z"
   },
   {
    "duration": 506,
    "start_time": "2024-07-24T18:55:08.020Z"
   },
   {
    "duration": 11,
    "start_time": "2024-07-24T18:55:12.382Z"
   },
   {
    "duration": 15,
    "start_time": "2024-07-24T18:55:19.243Z"
   },
   {
    "duration": 740,
    "start_time": "2024-07-24T18:55:19.655Z"
   },
   {
    "duration": 75,
    "start_time": "2024-07-24T18:55:31.594Z"
   },
   {
    "duration": 4,
    "start_time": "2024-07-24T18:55:58.879Z"
   },
   {
    "duration": 40,
    "start_time": "2024-07-24T18:55:59.491Z"
   },
   {
    "duration": 18,
    "start_time": "2024-07-24T18:55:59.727Z"
   },
   {
    "duration": 18,
    "start_time": "2024-07-24T18:55:59.916Z"
   },
   {
    "duration": 8,
    "start_time": "2024-07-24T18:56:00.217Z"
   },
   {
    "duration": 27,
    "start_time": "2024-07-24T18:56:00.870Z"
   },
   {
    "duration": 23,
    "start_time": "2024-07-24T18:56:01.276Z"
   },
   {
    "duration": 19,
    "start_time": "2024-07-24T18:56:01.527Z"
   },
   {
    "duration": 27,
    "start_time": "2024-07-24T18:56:01.610Z"
   },
   {
    "duration": 9,
    "start_time": "2024-07-24T18:56:01.776Z"
   },
   {
    "duration": 511,
    "start_time": "2024-07-24T18:56:01.865Z"
   },
   {
    "duration": 14,
    "start_time": "2024-07-24T18:56:02.380Z"
   },
   {
    "duration": 14,
    "start_time": "2024-07-24T18:56:02.636Z"
   },
   {
    "duration": 74,
    "start_time": "2024-07-24T18:56:03.280Z"
   },
   {
    "duration": 12,
    "start_time": "2024-07-24T18:56:25.704Z"
   },
   {
    "duration": 10,
    "start_time": "2024-07-24T18:56:38.492Z"
   },
   {
    "duration": 25,
    "start_time": "2024-07-24T18:56:39.474Z"
   },
   {
    "duration": 363,
    "start_time": "2024-07-24T18:56:39.868Z"
   },
   {
    "duration": 322,
    "start_time": "2024-07-24T18:57:12.896Z"
   },
   {
    "duration": 539,
    "start_time": "2024-07-24T18:57:26.754Z"
   },
   {
    "duration": 10,
    "start_time": "2024-07-24T19:00:46.639Z"
   },
   {
    "duration": 40,
    "start_time": "2024-07-24T19:00:49.105Z"
   },
   {
    "duration": 397,
    "start_time": "2024-07-24T19:00:49.720Z"
   },
   {
    "duration": 32,
    "start_time": "2024-07-24T19:02:04.162Z"
   },
   {
    "duration": 31,
    "start_time": "2024-07-24T19:02:48.365Z"
   },
   {
    "duration": 10,
    "start_time": "2024-07-24T19:05:39.558Z"
   },
   {
    "duration": 236,
    "start_time": "2024-07-24T19:05:43.797Z"
   },
   {
    "duration": 152,
    "start_time": "2024-07-24T19:06:04.945Z"
   },
   {
    "duration": 646,
    "start_time": "2024-07-24T19:08:28.099Z"
   },
   {
    "duration": 142,
    "start_time": "2024-07-24T19:08:43.466Z"
   },
   {
    "duration": 11,
    "start_time": "2024-07-24T19:09:21.963Z"
   },
   {
    "duration": 32,
    "start_time": "2024-07-24T19:09:33.160Z"
   },
   {
    "duration": 10,
    "start_time": "2024-07-24T19:09:40.439Z"
   },
   {
    "duration": 11,
    "start_time": "2024-07-24T19:10:05.675Z"
   },
   {
    "duration": 31,
    "start_time": "2024-07-24T19:10:13.587Z"
   },
   {
    "duration": 331,
    "start_time": "2024-07-24T19:10:14.198Z"
   },
   {
    "duration": 27,
    "start_time": "2024-07-24T19:36:49.939Z"
   },
   {
    "duration": 9,
    "start_time": "2024-07-24T19:37:13.695Z"
   },
   {
    "duration": 16,
    "start_time": "2024-07-24T19:37:57.983Z"
   },
   {
    "duration": 10,
    "start_time": "2024-07-24T19:39:57.586Z"
   },
   {
    "duration": 14,
    "start_time": "2024-07-24T19:40:21.099Z"
   },
   {
    "duration": 21,
    "start_time": "2024-07-24T19:40:36.979Z"
   },
   {
    "duration": 4,
    "start_time": "2024-07-24T19:41:54.935Z"
   },
   {
    "duration": 23,
    "start_time": "2024-07-24T19:42:25.866Z"
   },
   {
    "duration": 6,
    "start_time": "2024-07-24T19:42:30.228Z"
   },
   {
    "duration": 5,
    "start_time": "2024-07-24T19:43:32.356Z"
   },
   {
    "duration": 4,
    "start_time": "2024-07-24T19:43:35.967Z"
   },
   {
    "duration": 7,
    "start_time": "2024-07-24T19:43:42.014Z"
   },
   {
    "duration": 19,
    "start_time": "2024-07-24T19:46:08.781Z"
   },
   {
    "duration": 24,
    "start_time": "2024-07-24T19:46:22.575Z"
   },
   {
    "duration": 39,
    "start_time": "2024-07-24T19:50:06.334Z"
   },
   {
    "duration": 30,
    "start_time": "2024-07-24T19:50:22.660Z"
   },
   {
    "duration": 10,
    "start_time": "2024-07-24T19:51:35.619Z"
   },
   {
    "duration": 8,
    "start_time": "2024-07-24T19:51:41.154Z"
   },
   {
    "duration": 14,
    "start_time": "2024-07-24T19:51:55.265Z"
   },
   {
    "duration": 74,
    "start_time": "2024-07-24T19:52:15.224Z"
   },
   {
    "duration": 7,
    "start_time": "2024-07-24T19:58:58.816Z"
   },
   {
    "duration": 7,
    "start_time": "2024-07-24T19:59:04.339Z"
   },
   {
    "duration": 734,
    "start_time": "2024-07-24T19:59:14.333Z"
   },
   {
    "duration": 11,
    "start_time": "2024-07-24T20:01:43.359Z"
   },
   {
    "duration": 30,
    "start_time": "2024-07-24T20:01:52.104Z"
   },
   {
    "duration": 29,
    "start_time": "2024-07-24T20:01:56.603Z"
   },
   {
    "duration": 16,
    "start_time": "2024-07-24T20:01:59.860Z"
   },
   {
    "duration": 39,
    "start_time": "2024-07-24T20:03:14.101Z"
   },
   {
    "duration": 47,
    "start_time": "2024-07-24T20:04:22.316Z"
   },
   {
    "duration": 22,
    "start_time": "2024-07-24T20:04:31.071Z"
   },
   {
    "duration": 94,
    "start_time": "2024-07-24T20:05:19.702Z"
   },
   {
    "duration": 15,
    "start_time": "2024-07-24T20:33:00.317Z"
   },
   {
    "duration": 486,
    "start_time": "2024-07-24T20:33:09.113Z"
   },
   {
    "duration": 316,
    "start_time": "2024-07-24T20:35:38.997Z"
   },
   {
    "duration": 85,
    "start_time": "2024-07-24T20:35:51.854Z"
   },
   {
    "duration": 84,
    "start_time": "2024-07-24T20:35:58.987Z"
   },
   {
    "duration": 89,
    "start_time": "2024-07-24T20:36:49.747Z"
   },
   {
    "duration": 90,
    "start_time": "2024-07-24T20:37:27.660Z"
   },
   {
    "duration": 93,
    "start_time": "2024-07-24T20:38:05.333Z"
   },
   {
    "duration": 12,
    "start_time": "2024-07-24T20:38:11.139Z"
   },
   {
    "duration": 35,
    "start_time": "2024-07-24T20:39:29.486Z"
   },
   {
    "duration": 19,
    "start_time": "2024-07-24T20:39:48.372Z"
   },
   {
    "duration": 11,
    "start_time": "2024-07-24T20:58:46.236Z"
   },
   {
    "duration": 29,
    "start_time": "2024-07-24T20:58:55.099Z"
   },
   {
    "duration": 17,
    "start_time": "2024-07-24T20:59:06.893Z"
   },
   {
    "duration": 32,
    "start_time": "2024-07-24T21:00:58.394Z"
   },
   {
    "duration": 31,
    "start_time": "2024-07-24T21:01:17.055Z"
   },
   {
    "duration": 1253,
    "start_time": "2024-07-24T21:01:31.545Z"
   },
   {
    "duration": 48,
    "start_time": "2024-07-24T21:01:32.802Z"
   },
   {
    "duration": 20,
    "start_time": "2024-07-24T21:01:32.852Z"
   },
   {
    "duration": 22,
    "start_time": "2024-07-24T21:01:32.879Z"
   },
   {
    "duration": 6,
    "start_time": "2024-07-24T21:01:32.927Z"
   },
   {
    "duration": 26,
    "start_time": "2024-07-24T21:01:32.937Z"
   },
   {
    "duration": 25,
    "start_time": "2024-07-24T21:01:32.967Z"
   },
   {
    "duration": 18,
    "start_time": "2024-07-24T21:01:33.027Z"
   },
   {
    "duration": 25,
    "start_time": "2024-07-24T21:01:33.047Z"
   },
   {
    "duration": 15,
    "start_time": "2024-07-24T21:01:33.075Z"
   },
   {
    "duration": 512,
    "start_time": "2024-07-24T21:01:33.128Z"
   },
   {
    "duration": 18,
    "start_time": "2024-07-24T21:01:33.646Z"
   },
   {
    "duration": 485,
    "start_time": "2024-07-24T21:01:33.667Z"
   },
   {
    "duration": 0,
    "start_time": "2024-07-24T21:01:34.155Z"
   },
   {
    "duration": 0,
    "start_time": "2024-07-24T21:01:34.158Z"
   },
   {
    "duration": 0,
    "start_time": "2024-07-24T21:01:34.160Z"
   },
   {
    "duration": 13,
    "start_time": "2024-07-24T21:01:39.455Z"
   },
   {
    "duration": 5,
    "start_time": "2024-07-24T21:02:21.768Z"
   },
   {
    "duration": 236,
    "start_time": "2024-07-24T21:02:28.595Z"
   },
   {
    "duration": 12,
    "start_time": "2024-07-24T21:02:35.432Z"
   },
   {
    "duration": 39,
    "start_time": "2024-07-24T21:02:40.723Z"
   },
   {
    "duration": 19,
    "start_time": "2024-07-24T21:02:59.927Z"
   },
   {
    "duration": 35,
    "start_time": "2024-07-24T21:03:46.356Z"
   },
   {
    "duration": 33,
    "start_time": "2024-07-24T21:04:03.401Z"
   },
   {
    "duration": 689,
    "start_time": "2024-07-24T21:04:26.316Z"
   },
   {
    "duration": 84,
    "start_time": "2024-07-24T21:04:30.587Z"
   },
   {
    "duration": 12,
    "start_time": "2024-07-24T21:04:53.627Z"
   },
   {
    "duration": 13,
    "start_time": "2024-07-24T21:05:04.534Z"
   },
   {
    "duration": 12,
    "start_time": "2024-07-24T21:05:14.861Z"
   },
   {
    "duration": 14,
    "start_time": "2024-07-24T21:05:15.244Z"
   },
   {
    "duration": 287,
    "start_time": "2024-07-24T21:05:16.031Z"
   },
   {
    "duration": 1337,
    "start_time": "2024-07-24T21:05:30.831Z"
   },
   {
    "duration": 39,
    "start_time": "2024-07-24T21:05:32.171Z"
   },
   {
    "duration": 22,
    "start_time": "2024-07-24T21:05:32.225Z"
   },
   {
    "duration": 27,
    "start_time": "2024-07-24T21:05:32.251Z"
   },
   {
    "duration": 44,
    "start_time": "2024-07-24T21:05:32.282Z"
   },
   {
    "duration": 29,
    "start_time": "2024-07-24T21:05:32.329Z"
   },
   {
    "duration": 25,
    "start_time": "2024-07-24T21:05:32.362Z"
   },
   {
    "duration": 18,
    "start_time": "2024-07-24T21:05:32.893Z"
   },
   {
    "duration": 22,
    "start_time": "2024-07-24T21:05:33.242Z"
   },
   {
    "duration": 14,
    "start_time": "2024-07-24T21:05:34.643Z"
   },
   {
    "duration": 491,
    "start_time": "2024-07-24T21:05:35.279Z"
   },
   {
    "duration": 17,
    "start_time": "2024-07-24T21:05:36.714Z"
   },
   {
    "duration": 11,
    "start_time": "2024-07-24T21:05:37.242Z"
   },
   {
    "duration": 13,
    "start_time": "2024-07-24T21:05:37.711Z"
   },
   {
    "duration": 748,
    "start_time": "2024-07-24T21:05:38.363Z"
   },
   {
    "duration": 10,
    "start_time": "2024-07-24T21:06:07.117Z"
   },
   {
    "duration": 13,
    "start_time": "2024-07-24T21:06:08.611Z"
   },
   {
    "duration": 12,
    "start_time": "2024-07-24T21:06:12.456Z"
   },
   {
    "duration": 7,
    "start_time": "2024-07-24T21:06:23.004Z"
   },
   {
    "duration": 69,
    "start_time": "2024-07-24T21:06:24.342Z"
   },
   {
    "duration": 541,
    "start_time": "2024-07-24T21:15:36.322Z"
   },
   {
    "duration": 6,
    "start_time": "2024-07-24T21:19:20.079Z"
   },
   {
    "duration": 8,
    "start_time": "2024-07-24T21:19:25.149Z"
   },
   {
    "duration": 880,
    "start_time": "2024-07-24T21:25:26.036Z"
   },
   {
    "duration": 39,
    "start_time": "2024-07-24T21:25:50.289Z"
   },
   {
    "duration": 12,
    "start_time": "2024-07-24T21:26:11.597Z"
   },
   {
    "duration": 11,
    "start_time": "2024-07-24T21:27:25.398Z"
   },
   {
    "duration": 11,
    "start_time": "2024-07-24T21:28:24.840Z"
   },
   {
    "duration": 13,
    "start_time": "2024-07-24T21:28:36.388Z"
   },
   {
    "duration": 10,
    "start_time": "2024-07-24T21:29:41.349Z"
   },
   {
    "duration": 10,
    "start_time": "2024-07-24T21:29:51.806Z"
   },
   {
    "duration": 74,
    "start_time": "2024-07-24T21:30:33.143Z"
   },
   {
    "duration": 18,
    "start_time": "2024-07-24T21:30:51.651Z"
   },
   {
    "duration": 11,
    "start_time": "2024-07-24T21:40:00.418Z"
   },
   {
    "duration": 20,
    "start_time": "2024-07-24T21:40:07.772Z"
   },
   {
    "duration": 22,
    "start_time": "2024-07-24T21:40:38.067Z"
   },
   {
    "duration": 16,
    "start_time": "2024-07-24T21:42:24.738Z"
   },
   {
    "duration": 26,
    "start_time": "2024-07-24T21:42:39.923Z"
   },
   {
    "duration": 17,
    "start_time": "2024-07-24T21:44:37.746Z"
   },
   {
    "duration": 23,
    "start_time": "2024-07-24T21:46:38.062Z"
   },
   {
    "duration": 27,
    "start_time": "2024-07-24T21:48:09.849Z"
   },
   {
    "duration": 30,
    "start_time": "2024-07-24T21:48:14.980Z"
   },
   {
    "duration": 17,
    "start_time": "2024-07-24T21:53:01.516Z"
   },
   {
    "duration": 18,
    "start_time": "2024-07-24T21:53:33.890Z"
   },
   {
    "duration": 30,
    "start_time": "2024-07-24T21:56:42.984Z"
   },
   {
    "duration": 19,
    "start_time": "2024-07-24T21:56:51.353Z"
   },
   {
    "duration": 85,
    "start_time": "2024-07-24T22:09:22.947Z"
   },
   {
    "duration": 744,
    "start_time": "2024-07-24T22:09:34.518Z"
   },
   {
    "duration": 14,
    "start_time": "2024-07-24T22:09:58.674Z"
   },
   {
    "duration": 21,
    "start_time": "2024-07-24T22:10:09.232Z"
   },
   {
    "duration": 13,
    "start_time": "2024-07-24T22:13:24.847Z"
   },
   {
    "duration": 36,
    "start_time": "2024-07-24T22:13:37.632Z"
   },
   {
    "duration": 23,
    "start_time": "2024-07-24T22:13:43.642Z"
   },
   {
    "duration": 24,
    "start_time": "2024-07-24T22:14:00.422Z"
   },
   {
    "duration": 23,
    "start_time": "2024-07-24T22:14:14.362Z"
   },
   {
    "duration": 24,
    "start_time": "2024-07-24T22:20:49.639Z"
   },
   {
    "duration": 91,
    "start_time": "2024-07-24T22:24:38.216Z"
   },
   {
    "duration": 95,
    "start_time": "2024-07-24T22:24:43.661Z"
   },
   {
    "duration": 45,
    "start_time": "2024-07-24T22:24:49.375Z"
   },
   {
    "duration": 7,
    "start_time": "2024-07-24T22:26:53.188Z"
   },
   {
    "duration": 19,
    "start_time": "2024-07-24T22:27:02.419Z"
   },
   {
    "duration": 86,
    "start_time": "2024-07-24T22:28:06.551Z"
   },
   {
    "duration": 20,
    "start_time": "2024-07-24T22:28:44.662Z"
   },
   {
    "duration": 29,
    "start_time": "2024-07-24T22:36:29.002Z"
   },
   {
    "duration": 19,
    "start_time": "2024-07-24T22:36:40.034Z"
   },
   {
    "duration": 15,
    "start_time": "2024-07-24T22:37:39.186Z"
   },
   {
    "duration": 15,
    "start_time": "2024-07-24T22:37:48.201Z"
   },
   {
    "duration": 6,
    "start_time": "2024-07-24T22:37:55.944Z"
   },
   {
    "duration": 5,
    "start_time": "2024-07-24T22:38:19.197Z"
   },
   {
    "duration": 94,
    "start_time": "2024-07-24T22:38:35.324Z"
   },
   {
    "duration": 12,
    "start_time": "2024-07-24T22:38:43.430Z"
   },
   {
    "duration": 4,
    "start_time": "2024-07-24T22:39:03.325Z"
   },
   {
    "duration": 11,
    "start_time": "2024-07-24T22:39:08.543Z"
   },
   {
    "duration": 9,
    "start_time": "2024-07-24T22:39:27.395Z"
   },
   {
    "duration": 11,
    "start_time": "2024-07-24T22:39:33.932Z"
   },
   {
    "duration": 7,
    "start_time": "2024-07-24T22:40:36.321Z"
   },
   {
    "duration": 13,
    "start_time": "2024-07-24T22:40:50.233Z"
   },
   {
    "duration": 22,
    "start_time": "2024-07-24T22:41:21.883Z"
   },
   {
    "duration": 11,
    "start_time": "2024-07-24T22:44:53.999Z"
   },
   {
    "duration": 17,
    "start_time": "2024-07-24T22:45:06.696Z"
   },
   {
    "duration": 21,
    "start_time": "2024-07-24T22:45:22.071Z"
   },
   {
    "duration": 27,
    "start_time": "2024-07-24T22:46:37.512Z"
   },
   {
    "duration": 38,
    "start_time": "2024-07-24T22:46:48.187Z"
   },
   {
    "duration": 26,
    "start_time": "2024-07-24T22:46:51.109Z"
   },
   {
    "duration": 15,
    "start_time": "2024-07-24T22:48:04.200Z"
   },
   {
    "duration": 24,
    "start_time": "2024-07-24T22:48:11.841Z"
   },
   {
    "duration": 21,
    "start_time": "2024-07-24T22:48:30.427Z"
   },
   {
    "duration": 404,
    "start_time": "2024-07-24T22:50:12.546Z"
   },
   {
    "duration": 120,
    "start_time": "2024-07-24T22:50:27.642Z"
   },
   {
    "duration": 120,
    "start_time": "2024-07-24T22:50:33.175Z"
   },
   {
    "duration": 17,
    "start_time": "2024-07-24T22:53:48.628Z"
   },
   {
    "duration": 26,
    "start_time": "2024-07-24T22:53:56.588Z"
   },
   {
    "duration": 17,
    "start_time": "2024-07-24T22:55:20.197Z"
   },
   {
    "duration": 25,
    "start_time": "2024-07-24T22:55:28.473Z"
   },
   {
    "duration": 6,
    "start_time": "2024-07-24T23:01:58.621Z"
   },
   {
    "duration": 29,
    "start_time": "2024-07-24T23:02:07.541Z"
   },
   {
    "duration": 14,
    "start_time": "2024-07-24T23:05:38.697Z"
   },
   {
    "duration": 27,
    "start_time": "2024-07-24T23:05:50.583Z"
   },
   {
    "duration": 27,
    "start_time": "2024-07-24T23:07:02.011Z"
   },
   {
    "duration": 26,
    "start_time": "2024-07-24T23:07:02.530Z"
   },
   {
    "duration": 7,
    "start_time": "2024-07-24T23:08:13.940Z"
   },
   {
    "duration": 29,
    "start_time": "2024-07-24T23:09:09.637Z"
   },
   {
    "duration": 17,
    "start_time": "2024-07-24T23:09:19.009Z"
   },
   {
    "duration": 26,
    "start_time": "2024-07-24T23:09:22.196Z"
   },
   {
    "duration": 14,
    "start_time": "2024-07-24T23:10:43.479Z"
   },
   {
    "duration": 23,
    "start_time": "2024-07-24T23:18:06.622Z"
   },
   {
    "duration": 33,
    "start_time": "2024-07-24T23:30:55.174Z"
   },
   {
    "duration": 22,
    "start_time": "2024-07-24T23:31:51.160Z"
   },
   {
    "duration": 24,
    "start_time": "2024-07-24T23:32:35.547Z"
   },
   {
    "duration": 114,
    "start_time": "2024-07-24T23:33:48.579Z"
   },
   {
    "duration": 106,
    "start_time": "2024-07-24T23:34:37.406Z"
   },
   {
    "duration": 21,
    "start_time": "2024-07-24T23:34:47.557Z"
   },
   {
    "duration": 35,
    "start_time": "2024-07-24T23:34:54.446Z"
   },
   {
    "duration": 35,
    "start_time": "2024-07-24T23:35:19.191Z"
   },
   {
    "duration": 34,
    "start_time": "2024-07-24T23:35:28.960Z"
   },
   {
    "duration": 23,
    "start_time": "2024-07-24T23:35:39.295Z"
   },
   {
    "duration": 36,
    "start_time": "2024-07-24T23:35:43.440Z"
   },
   {
    "duration": 38,
    "start_time": "2024-07-24T23:38:09.611Z"
   },
   {
    "duration": 34,
    "start_time": "2024-07-24T23:45:30.330Z"
   },
   {
    "duration": 50,
    "start_time": "2024-07-24T23:49:23.590Z"
   },
   {
    "duration": 259,
    "start_time": "2024-07-24T23:51:06.000Z"
   },
   {
    "duration": 47,
    "start_time": "2024-07-24T23:51:28.394Z"
   },
   {
    "duration": 561,
    "start_time": "2024-07-24T23:52:00.198Z"
   },
   {
    "duration": 42,
    "start_time": "2024-07-24T23:53:20.513Z"
   },
   {
    "duration": 42,
    "start_time": "2024-07-24T23:53:45.728Z"
   },
   {
    "duration": 5019,
    "start_time": "2024-07-25T02:49:52.593Z"
   },
   {
    "duration": 57,
    "start_time": "2024-07-25T02:49:57.622Z"
   },
   {
    "duration": 22,
    "start_time": "2024-07-25T02:49:57.683Z"
   },
   {
    "duration": 31,
    "start_time": "2024-07-25T02:49:57.710Z"
   },
   {
    "duration": 9,
    "start_time": "2024-07-25T02:49:57.743Z"
   },
   {
    "duration": 37,
    "start_time": "2024-07-25T02:49:57.755Z"
   },
   {
    "duration": 25,
    "start_time": "2024-07-25T02:49:57.824Z"
   },
   {
    "duration": 4,
    "start_time": "2024-07-25T02:50:05.944Z"
   },
   {
    "duration": 37,
    "start_time": "2024-07-25T02:50:06.131Z"
   },
   {
    "duration": 19,
    "start_time": "2024-07-25T02:50:06.312Z"
   },
   {
    "duration": 19,
    "start_time": "2024-07-25T02:50:06.820Z"
   },
   {
    "duration": 7,
    "start_time": "2024-07-25T02:50:07.433Z"
   },
   {
    "duration": 28,
    "start_time": "2024-07-25T02:50:08.037Z"
   },
   {
    "duration": 24,
    "start_time": "2024-07-25T02:50:08.943Z"
   },
   {
    "duration": 18,
    "start_time": "2024-07-25T02:50:09.432Z"
   },
   {
    "duration": 15,
    "start_time": "2024-07-25T02:50:09.602Z"
   },
   {
    "duration": 17,
    "start_time": "2024-07-25T02:50:09.970Z"
   },
   {
    "duration": 513,
    "start_time": "2024-07-25T02:50:10.261Z"
   },
   {
    "duration": 19,
    "start_time": "2024-07-25T02:50:10.824Z"
   },
   {
    "duration": 8,
    "start_time": "2024-07-25T02:50:11.190Z"
   },
   {
    "duration": 529,
    "start_time": "2024-07-25T02:50:11.662Z"
   },
   {
    "duration": 12,
    "start_time": "2024-07-25T02:50:12.195Z"
   },
   {
    "duration": 41,
    "start_time": "2024-07-25T02:50:13.640Z"
   },
   {
    "duration": 42,
    "start_time": "2024-07-25T02:50:14.068Z"
   },
   {
    "duration": 24,
    "start_time": "2024-07-25T02:51:17.116Z"
   },
   {
    "duration": 21,
    "start_time": "2024-07-25T02:51:37.104Z"
   },
   {
    "duration": 10,
    "start_time": "2024-07-25T02:52:10.200Z"
   },
   {
    "duration": 21,
    "start_time": "2024-07-25T02:54:40.160Z"
   },
   {
    "duration": 9,
    "start_time": "2024-07-25T02:55:15.360Z"
   },
   {
    "duration": 7,
    "start_time": "2024-07-25T02:55:29.889Z"
   },
   {
    "duration": 8,
    "start_time": "2024-07-25T02:55:37.473Z"
   },
   {
    "duration": 7,
    "start_time": "2024-07-25T02:55:47.594Z"
   },
   {
    "duration": 8,
    "start_time": "2024-07-25T02:56:08.444Z"
   },
   {
    "duration": 20,
    "start_time": "2024-07-25T02:57:19.090Z"
   },
   {
    "duration": 26,
    "start_time": "2024-07-25T02:57:33.713Z"
   },
   {
    "duration": 65,
    "start_time": "2024-07-25T03:43:42.932Z"
   },
   {
    "duration": 6,
    "start_time": "2024-07-25T03:49:02.242Z"
   },
   {
    "duration": 31,
    "start_time": "2024-07-25T03:49:18.440Z"
   },
   {
    "duration": 1117,
    "start_time": "2024-07-25T04:12:04.084Z"
   },
   {
    "duration": 33,
    "start_time": "2024-07-25T04:12:15.972Z"
   },
   {
    "duration": 32,
    "start_time": "2024-07-25T04:12:30.899Z"
   },
   {
    "duration": 4,
    "start_time": "2024-07-25T04:12:53.642Z"
   },
   {
    "duration": 9,
    "start_time": "2024-07-25T04:13:30.625Z"
   },
   {
    "duration": 10,
    "start_time": "2024-07-25T04:15:24.462Z"
   },
   {
    "duration": 367,
    "start_time": "2024-07-25T04:17:37.224Z"
   },
   {
    "duration": 434,
    "start_time": "2024-07-25T04:17:58.480Z"
   },
   {
    "duration": 424,
    "start_time": "2024-07-25T04:18:33.634Z"
   },
   {
    "duration": 410,
    "start_time": "2024-07-25T04:18:41.239Z"
   },
   {
    "duration": 692,
    "start_time": "2024-07-25T04:18:53.175Z"
   },
   {
    "duration": 675,
    "start_time": "2024-07-25T04:18:57.417Z"
   },
   {
    "duration": 7,
    "start_time": "2024-07-25T04:29:21.998Z"
   },
   {
    "duration": 7,
    "start_time": "2024-07-25T04:29:28.463Z"
   },
   {
    "duration": 6,
    "start_time": "2024-07-25T04:29:44.823Z"
   },
   {
    "duration": 6,
    "start_time": "2024-07-25T04:29:50.859Z"
   },
   {
    "duration": 6,
    "start_time": "2024-07-25T04:29:59.093Z"
   },
   {
    "duration": 7,
    "start_time": "2024-07-25T04:30:23.277Z"
   },
   {
    "duration": 7,
    "start_time": "2024-07-25T04:31:00.060Z"
   },
   {
    "duration": 846,
    "start_time": "2024-07-25T04:31:05.956Z"
   },
   {
    "duration": 563,
    "start_time": "2024-07-25T04:33:47.052Z"
   },
   {
    "duration": 735,
    "start_time": "2024-07-25T04:42:22.066Z"
   },
   {
    "duration": 762,
    "start_time": "2024-07-25T04:51:09.984Z"
   },
   {
    "duration": 659,
    "start_time": "2024-07-25T04:51:31.370Z"
   },
   {
    "duration": 995,
    "start_time": "2024-07-25T04:51:49.405Z"
   },
   {
    "duration": 541,
    "start_time": "2024-07-25T04:51:56.926Z"
   },
   {
    "duration": 345,
    "start_time": "2024-07-29T14:33:56.042Z"
   },
   {
    "duration": 5145,
    "start_time": "2024-07-29T14:34:10.391Z"
   },
   {
    "duration": 61,
    "start_time": "2024-07-29T14:34:15.539Z"
   },
   {
    "duration": 21,
    "start_time": "2024-07-29T14:34:15.603Z"
   },
   {
    "duration": 24,
    "start_time": "2024-07-29T14:34:15.628Z"
   },
   {
    "duration": 7,
    "start_time": "2024-07-29T14:34:28.542Z"
   },
   {
    "duration": 29,
    "start_time": "2024-07-29T14:34:30.974Z"
   },
   {
    "duration": 31,
    "start_time": "2024-07-29T14:34:32.000Z"
   },
   {
    "duration": 20,
    "start_time": "2024-07-29T14:34:32.642Z"
   },
   {
    "duration": 14,
    "start_time": "2024-07-29T14:34:32.841Z"
   },
   {
    "duration": 16,
    "start_time": "2024-07-29T14:34:33.268Z"
   },
   {
    "duration": 512,
    "start_time": "2024-07-29T14:34:33.460Z"
   },
   {
    "duration": 20,
    "start_time": "2024-07-29T14:34:34.017Z"
   },
   {
    "duration": 8,
    "start_time": "2024-07-29T14:34:34.265Z"
   },
   {
    "duration": 78,
    "start_time": "2024-07-29T14:34:34.678Z"
   },
   {
    "duration": 11,
    "start_time": "2024-07-29T14:34:34.978Z"
   },
   {
    "duration": 38,
    "start_time": "2024-07-29T14:34:35.449Z"
   },
   {
    "duration": 24,
    "start_time": "2024-07-29T14:34:35.843Z"
   },
   {
    "duration": 647,
    "start_time": "2024-07-29T14:34:36.230Z"
   },
   {
    "duration": 710,
    "start_time": "2024-07-29T14:34:37.335Z"
   },
   {
    "duration": 898,
    "start_time": "2024-07-29T14:34:38.610Z"
   },
   {
    "duration": 837,
    "start_time": "2024-07-29T14:35:34.239Z"
   },
   {
    "duration": 798,
    "start_time": "2024-07-29T14:35:41.322Z"
   },
   {
    "duration": 1172,
    "start_time": "2024-07-29T14:36:24.046Z"
   },
   {
    "duration": 658,
    "start_time": "2024-07-29T14:46:29.766Z"
   },
   {
    "duration": 25,
    "start_time": "2024-07-29T15:04:19.024Z"
   },
   {
    "duration": 10,
    "start_time": "2024-07-29T15:04:33.209Z"
   },
   {
    "duration": 12,
    "start_time": "2024-07-29T15:04:38.571Z"
   },
   {
    "duration": 30,
    "start_time": "2024-07-29T15:05:07.286Z"
   },
   {
    "duration": 27,
    "start_time": "2024-07-29T15:05:12.042Z"
   },
   {
    "duration": 29,
    "start_time": "2024-07-29T15:05:18.125Z"
   },
   {
    "duration": 23,
    "start_time": "2024-07-29T15:05:32.008Z"
   },
   {
    "duration": 12,
    "start_time": "2024-07-29T15:05:55.206Z"
   },
   {
    "duration": 28,
    "start_time": "2024-07-29T15:06:10.842Z"
   },
   {
    "duration": 12,
    "start_time": "2024-07-29T15:06:18.030Z"
   },
   {
    "duration": 8,
    "start_time": "2024-07-29T15:19:50.734Z"
   },
   {
    "duration": 385,
    "start_time": "2024-07-29T15:23:47.297Z"
   },
   {
    "duration": 427,
    "start_time": "2024-07-29T15:24:16.610Z"
   },
   {
    "duration": 426,
    "start_time": "2024-07-29T15:24:30.307Z"
   },
   {
    "duration": 131,
    "start_time": "2024-07-29T15:28:47.123Z"
   },
   {
    "duration": 9,
    "start_time": "2024-07-29T15:28:55.299Z"
   },
   {
    "duration": 319,
    "start_time": "2024-07-29T15:47:33.958Z"
   },
   {
    "duration": 304,
    "start_time": "2024-07-29T15:48:12.967Z"
   },
   {
    "duration": 31,
    "start_time": "2024-07-29T17:05:19.691Z"
   },
   {
    "duration": 25,
    "start_time": "2024-07-29T17:39:47.939Z"
   },
   {
    "duration": 24,
    "start_time": "2024-07-29T17:39:53.228Z"
   },
   {
    "duration": 25,
    "start_time": "2024-07-29T17:40:14.339Z"
   },
   {
    "duration": 798,
    "start_time": "2024-07-29T17:40:26.939Z"
   },
   {
    "duration": 85,
    "start_time": "2024-07-29T17:42:20.183Z"
   },
   {
    "duration": 265,
    "start_time": "2024-07-29T17:42:27.912Z"
   },
   {
    "duration": 47,
    "start_time": "2024-07-29T17:42:34.803Z"
   },
   {
    "duration": 44,
    "start_time": "2024-07-29T17:42:41.067Z"
   },
   {
    "duration": 10,
    "start_time": "2024-07-29T17:42:44.468Z"
   },
   {
    "duration": 18,
    "start_time": "2024-07-29T17:42:53.536Z"
   },
   {
    "duration": 33,
    "start_time": "2024-07-29T17:44:41.713Z"
   },
   {
    "duration": 396,
    "start_time": "2024-07-29T17:44:51.607Z"
   },
   {
    "duration": 386,
    "start_time": "2024-07-29T17:45:04.289Z"
   },
   {
    "duration": 392,
    "start_time": "2024-07-29T17:45:12.988Z"
   },
   {
    "duration": 32,
    "start_time": "2024-07-29T17:46:11.179Z"
   },
   {
    "duration": 35,
    "start_time": "2024-07-29T17:46:16.500Z"
   },
   {
    "duration": 29,
    "start_time": "2024-07-29T17:46:28.999Z"
   },
   {
    "duration": 971,
    "start_time": "2024-07-29T17:48:48.147Z"
   },
   {
    "duration": 413,
    "start_time": "2024-07-29T17:48:55.739Z"
   },
   {
    "duration": 397,
    "start_time": "2024-07-29T17:49:12.029Z"
   },
   {
    "duration": 39,
    "start_time": "2024-07-29T17:53:36.578Z"
   },
   {
    "duration": 34,
    "start_time": "2024-07-29T17:54:01.879Z"
   },
   {
    "duration": 28,
    "start_time": "2024-07-29T17:54:12.836Z"
   },
   {
    "duration": 33,
    "start_time": "2024-07-29T20:18:03.481Z"
   },
   {
    "duration": 35,
    "start_time": "2024-07-29T20:18:16.975Z"
   },
   {
    "duration": 26,
    "start_time": "2024-07-29T20:18:30.377Z"
   },
   {
    "duration": 22,
    "start_time": "2024-07-29T20:18:57.852Z"
   },
   {
    "duration": 23,
    "start_time": "2024-07-29T20:20:53.705Z"
   },
   {
    "duration": 7,
    "start_time": "2024-07-29T20:20:58.700Z"
   },
   {
    "duration": 23,
    "start_time": "2024-07-29T20:21:13.045Z"
   },
   {
    "duration": 22,
    "start_time": "2024-07-29T20:32:13.356Z"
   },
   {
    "duration": 1277,
    "start_time": "2024-07-29T20:57:11.520Z"
   },
   {
    "duration": 45,
    "start_time": "2024-07-29T20:57:12.801Z"
   },
   {
    "duration": 18,
    "start_time": "2024-07-29T20:57:12.850Z"
   },
   {
    "duration": 21,
    "start_time": "2024-07-29T20:57:12.871Z"
   },
   {
    "duration": 37,
    "start_time": "2024-07-29T20:57:12.896Z"
   },
   {
    "duration": 26,
    "start_time": "2024-07-29T20:57:12.936Z"
   },
   {
    "duration": 24,
    "start_time": "2024-07-29T20:57:12.966Z"
   },
   {
    "duration": 50,
    "start_time": "2024-07-29T20:57:12.994Z"
   },
   {
    "duration": 14,
    "start_time": "2024-07-29T20:57:13.047Z"
   },
   {
    "duration": 15,
    "start_time": "2024-07-29T20:57:13.064Z"
   },
   {
    "duration": 533,
    "start_time": "2024-07-29T20:57:13.082Z"
   },
   {
    "duration": 22,
    "start_time": "2024-07-29T20:57:13.618Z"
   },
   {
    "duration": 8,
    "start_time": "2024-07-29T20:57:13.643Z"
   },
   {
    "duration": 94,
    "start_time": "2024-07-29T20:57:13.657Z"
   },
   {
    "duration": 11,
    "start_time": "2024-07-29T20:57:13.754Z"
   },
   {
    "duration": 121,
    "start_time": "2024-07-29T20:57:13.768Z"
   },
   {
    "duration": 21,
    "start_time": "2024-07-29T20:57:13.892Z"
   },
   {
    "duration": 641,
    "start_time": "2024-07-29T20:57:13.916Z"
   },
   {
    "duration": 682,
    "start_time": "2024-07-29T20:57:14.560Z"
   },
   {
    "duration": 669,
    "start_time": "2024-07-29T20:57:15.245Z"
   },
   {
    "duration": 20,
    "start_time": "2024-07-29T20:57:15.917Z"
   },
   {
    "duration": 426,
    "start_time": "2024-07-29T20:57:15.939Z"
   },
   {
    "duration": 9,
    "start_time": "2024-07-29T20:57:16.368Z"
   },
   {
    "duration": 316,
    "start_time": "2024-07-29T20:57:16.381Z"
   },
   {
    "duration": 41,
    "start_time": "2024-07-29T20:57:16.701Z"
   },
   {
    "duration": 388,
    "start_time": "2024-07-29T20:57:16.746Z"
   },
   {
    "duration": 23,
    "start_time": "2024-07-29T20:57:17.137Z"
   },
   {
    "duration": 4873,
    "start_time": "2024-07-30T13:14:41.266Z"
   },
   {
    "duration": 53,
    "start_time": "2024-07-30T13:14:46.143Z"
   },
   {
    "duration": 25,
    "start_time": "2024-07-30T13:14:46.200Z"
   },
   {
    "duration": 1229,
    "start_time": "2024-07-30T13:15:13.048Z"
   },
   {
    "duration": 37,
    "start_time": "2024-07-30T13:15:14.943Z"
   },
   {
    "duration": 18,
    "start_time": "2024-07-30T13:15:15.344Z"
   },
   {
    "duration": 21,
    "start_time": "2024-07-30T13:15:15.674Z"
   },
   {
    "duration": 6,
    "start_time": "2024-07-30T13:15:16.339Z"
   },
   {
    "duration": 30,
    "start_time": "2024-07-30T13:15:16.941Z"
   },
   {
    "duration": 194,
    "start_time": "2024-07-30T13:16:04.043Z"
   },
   {
    "duration": 20,
    "start_time": "2024-07-30T13:16:15.639Z"
   },
   {
    "duration": 20,
    "start_time": "2024-07-30T13:16:20.023Z"
   },
   {
    "duration": 305,
    "start_time": "2024-07-30T13:32:49.291Z"
   },
   {
    "duration": 23,
    "start_time": "2024-07-30T13:32:50.079Z"
   },
   {
    "duration": 24,
    "start_time": "2024-07-30T13:32:50.266Z"
   },
   {
    "duration": 1257,
    "start_time": "2024-07-30T13:33:18.927Z"
   },
   {
    "duration": 46,
    "start_time": "2024-07-30T13:33:20.187Z"
   },
   {
    "duration": 19,
    "start_time": "2024-07-30T13:33:21.120Z"
   },
   {
    "duration": 22,
    "start_time": "2024-07-30T13:33:21.354Z"
   },
   {
    "duration": 8,
    "start_time": "2024-07-30T13:33:21.770Z"
   },
   {
    "duration": 30,
    "start_time": "2024-07-30T13:33:22.328Z"
   },
   {
    "duration": 19,
    "start_time": "2024-07-30T13:33:22.766Z"
   },
   {
    "duration": 24,
    "start_time": "2024-07-30T13:33:25.443Z"
   },
   {
    "duration": 17,
    "start_time": "2024-07-30T13:33:26.736Z"
   },
   {
    "duration": 14,
    "start_time": "2024-07-30T13:33:26.985Z"
   },
   {
    "duration": 15,
    "start_time": "2024-07-30T13:33:28.462Z"
   },
   {
    "duration": 485,
    "start_time": "2024-07-30T13:33:29.329Z"
   },
   {
    "duration": 17,
    "start_time": "2024-07-30T13:33:33.256Z"
   },
   {
    "duration": 7,
    "start_time": "2024-07-30T13:33:33.559Z"
   },
   {
    "duration": 66,
    "start_time": "2024-07-30T13:33:34.109Z"
   },
   {
    "duration": 523,
    "start_time": "2024-07-30T14:24:11.296Z"
   },
   {
    "duration": 367,
    "start_time": "2024-07-30T14:24:32.114Z"
   },
   {
    "duration": 534,
    "start_time": "2024-07-30T14:24:57.625Z"
   },
   {
    "duration": 531,
    "start_time": "2024-07-30T14:25:02.600Z"
   },
   {
    "duration": 1190,
    "start_time": "2024-07-30T14:25:24.289Z"
   },
   {
    "duration": 38,
    "start_time": "2024-07-30T14:25:25.483Z"
   },
   {
    "duration": 18,
    "start_time": "2024-07-30T14:25:25.532Z"
   },
   {
    "duration": 22,
    "start_time": "2024-07-30T14:25:26.327Z"
   },
   {
    "duration": 7,
    "start_time": "2024-07-30T14:25:26.927Z"
   },
   {
    "duration": 26,
    "start_time": "2024-07-30T14:25:27.884Z"
   },
   {
    "duration": 18,
    "start_time": "2024-07-30T14:25:28.657Z"
   },
   {
    "duration": 24,
    "start_time": "2024-07-30T14:25:32.404Z"
   },
   {
    "duration": 17,
    "start_time": "2024-07-30T14:25:33.341Z"
   },
   {
    "duration": 13,
    "start_time": "2024-07-30T14:25:33.759Z"
   },
   {
    "duration": 15,
    "start_time": "2024-07-30T14:25:35.580Z"
   },
   {
    "duration": 476,
    "start_time": "2024-07-30T14:25:36.096Z"
   },
   {
    "duration": 16,
    "start_time": "2024-07-30T14:25:38.616Z"
   },
   {
    "duration": 7,
    "start_time": "2024-07-30T14:25:39.701Z"
   },
   {
    "duration": 66,
    "start_time": "2024-07-30T14:25:40.178Z"
   },
   {
    "duration": 11,
    "start_time": "2024-07-30T14:25:41.165Z"
   },
   {
    "duration": 34,
    "start_time": "2024-07-30T14:25:41.639Z"
   },
   {
    "duration": 26,
    "start_time": "2024-07-30T14:25:42.220Z"
   },
   {
    "duration": 351,
    "start_time": "2024-07-30T14:25:42.701Z"
   },
   {
    "duration": 582,
    "start_time": "2024-07-30T14:25:45.830Z"
   },
   {
    "duration": 6,
    "start_time": "2024-07-30T14:26:11.191Z"
   },
   {
    "duration": 392,
    "start_time": "2024-07-30T14:26:20.437Z"
   },
   {
    "duration": 25,
    "start_time": "2024-07-30T14:26:26.667Z"
   },
   {
    "duration": 32,
    "start_time": "2024-07-30T14:26:30.721Z"
   },
   {
    "duration": 523,
    "start_time": "2024-07-30T14:26:44.688Z"
   },
   {
    "duration": 446,
    "start_time": "2024-07-30T14:37:33.450Z"
   },
   {
    "duration": 520,
    "start_time": "2024-07-30T14:38:11.132Z"
   },
   {
    "duration": 430,
    "start_time": "2024-07-30T14:38:19.067Z"
   },
   {
    "duration": 312,
    "start_time": "2024-07-30T14:39:36.303Z"
   },
   {
    "duration": 26,
    "start_time": "2024-07-30T14:39:36.638Z"
   },
   {
    "duration": 22,
    "start_time": "2024-07-30T14:39:36.809Z"
   },
   {
    "duration": 1261,
    "start_time": "2024-07-30T14:39:50.850Z"
   },
   {
    "duration": 52,
    "start_time": "2024-07-30T14:39:52.114Z"
   },
   {
    "duration": 21,
    "start_time": "2024-07-30T14:39:53.040Z"
   },
   {
    "duration": 22,
    "start_time": "2024-07-30T14:39:53.241Z"
   },
   {
    "duration": 6,
    "start_time": "2024-07-30T14:39:53.663Z"
   },
   {
    "duration": 25,
    "start_time": "2024-07-30T14:39:54.095Z"
   },
   {
    "duration": 21,
    "start_time": "2024-07-30T14:39:54.262Z"
   },
   {
    "duration": 27,
    "start_time": "2024-07-30T14:39:55.905Z"
   },
   {
    "duration": 17,
    "start_time": "2024-07-30T14:39:56.830Z"
   },
   {
    "duration": 14,
    "start_time": "2024-07-30T14:39:57.460Z"
   },
   {
    "duration": 19,
    "start_time": "2024-07-30T14:39:59.465Z"
   },
   {
    "duration": 475,
    "start_time": "2024-07-30T14:40:03.909Z"
   },
   {
    "duration": 18,
    "start_time": "2024-07-30T14:40:10.329Z"
   },
   {
    "duration": 8,
    "start_time": "2024-07-30T14:40:10.544Z"
   },
   {
    "duration": 69,
    "start_time": "2024-07-30T14:40:10.811Z"
   },
   {
    "duration": 11,
    "start_time": "2024-07-30T14:40:11.021Z"
   },
   {
    "duration": 34,
    "start_time": "2024-07-30T14:40:11.244Z"
   },
   {
    "duration": 24,
    "start_time": "2024-07-30T14:40:11.724Z"
   },
   {
    "duration": 35,
    "start_time": "2024-07-30T14:40:11.955Z"
   },
   {
    "duration": 707,
    "start_time": "2024-07-30T14:40:12.796Z"
   },
   {
    "duration": 439,
    "start_time": "2024-07-30T14:40:15.567Z"
   },
   {
    "duration": 12,
    "start_time": "2024-07-30T14:40:18.584Z"
   },
   {
    "duration": 413,
    "start_time": "2024-07-30T14:40:21.574Z"
   },
   {
    "duration": 9,
    "start_time": "2024-07-30T14:40:25.310Z"
   },
   {
    "duration": 8,
    "start_time": "2024-07-30T14:53:05.619Z"
   },
   {
    "duration": 476,
    "start_time": "2024-07-30T15:05:36.557Z"
   },
   {
    "duration": 495,
    "start_time": "2024-07-30T15:06:04.205Z"
   },
   {
    "duration": 524,
    "start_time": "2024-07-30T15:24:05.350Z"
   },
   {
    "duration": 614,
    "start_time": "2024-07-30T15:25:02.119Z"
   },
   {
    "duration": 556,
    "start_time": "2024-07-30T15:25:27.654Z"
   },
   {
    "duration": 521,
    "start_time": "2024-07-30T15:25:41.001Z"
   },
   {
    "duration": 767,
    "start_time": "2024-07-30T15:26:21.804Z"
   },
   {
    "duration": 522,
    "start_time": "2024-07-30T15:26:32.683Z"
   },
   {
    "duration": 514,
    "start_time": "2024-07-30T15:26:46.585Z"
   },
   {
    "duration": 550,
    "start_time": "2024-07-30T15:27:12.321Z"
   },
   {
    "duration": 39,
    "start_time": "2024-07-30T16:08:49.275Z"
   },
   {
    "duration": 567,
    "start_time": "2024-07-30T16:09:30.686Z"
   },
   {
    "duration": 52,
    "start_time": "2024-07-30T16:09:39.421Z"
   },
   {
    "duration": 113,
    "start_time": "2024-07-30T16:09:48.999Z"
   },
   {
    "duration": 383,
    "start_time": "2024-07-30T16:09:52.530Z"
   },
   {
    "duration": 28,
    "start_time": "2024-07-30T16:10:01.125Z"
   },
   {
    "duration": 53,
    "start_time": "2024-07-30T16:10:48.444Z"
   },
   {
    "duration": 51,
    "start_time": "2024-07-30T16:10:56.300Z"
   },
   {
    "duration": 198,
    "start_time": "2024-07-30T16:11:57.900Z"
   },
   {
    "duration": 11,
    "start_time": "2024-07-30T16:13:00.242Z"
   },
   {
    "duration": 236,
    "start_time": "2024-07-30T16:13:06.594Z"
   },
   {
    "duration": 219,
    "start_time": "2024-07-30T16:13:37.916Z"
   },
   {
    "duration": 32,
    "start_time": "2024-07-30T16:14:42.320Z"
   },
   {
    "duration": 31,
    "start_time": "2024-07-30T16:14:54.233Z"
   },
   {
    "duration": 25,
    "start_time": "2024-07-30T16:15:01.189Z"
   },
   {
    "duration": 15,
    "start_time": "2024-07-30T16:15:26.373Z"
   },
   {
    "duration": 31,
    "start_time": "2024-07-30T16:15:30.001Z"
   },
   {
    "duration": 59,
    "start_time": "2024-07-30T16:15:37.310Z"
   },
   {
    "duration": 593,
    "start_time": "2024-07-30T16:16:22.498Z"
   },
   {
    "duration": 584,
    "start_time": "2024-07-30T16:16:42.877Z"
   },
   {
    "duration": 1710,
    "start_time": "2024-07-30T16:17:59.103Z"
   },
   {
    "duration": 1738,
    "start_time": "2024-07-30T16:19:06.915Z"
   },
   {
    "duration": 13,
    "start_time": "2024-07-30T16:19:19.406Z"
   },
   {
    "duration": 1650,
    "start_time": "2024-07-30T16:19:21.789Z"
   },
   {
    "duration": 417,
    "start_time": "2024-07-30T16:22:21.156Z"
   },
   {
    "duration": 1645,
    "start_time": "2024-07-30T16:22:54.677Z"
   },
   {
    "duration": 4891,
    "start_time": "2024-07-30T18:02:30.322Z"
   },
   {
    "duration": 56,
    "start_time": "2024-07-30T18:02:35.216Z"
   },
   {
    "duration": 19,
    "start_time": "2024-07-30T18:02:36.114Z"
   },
   {
    "duration": 23,
    "start_time": "2024-07-30T18:02:36.604Z"
   },
   {
    "duration": 7,
    "start_time": "2024-07-30T18:02:36.942Z"
   },
   {
    "duration": 27,
    "start_time": "2024-07-30T18:02:37.244Z"
   },
   {
    "duration": 18,
    "start_time": "2024-07-30T18:02:37.406Z"
   },
   {
    "duration": 27,
    "start_time": "2024-07-30T18:02:38.797Z"
   },
   {
    "duration": 18,
    "start_time": "2024-07-30T18:02:39.385Z"
   },
   {
    "duration": 16,
    "start_time": "2024-07-30T18:02:39.505Z"
   },
   {
    "duration": 14,
    "start_time": "2024-07-30T18:02:40.421Z"
   },
   {
    "duration": 500,
    "start_time": "2024-07-30T18:02:40.501Z"
   },
   {
    "duration": 19,
    "start_time": "2024-07-30T18:02:41.004Z"
   },
   {
    "duration": 8,
    "start_time": "2024-07-30T18:02:41.026Z"
   },
   {
    "duration": 104,
    "start_time": "2024-07-30T18:02:41.038Z"
   },
   {
    "duration": 10,
    "start_time": "2024-07-30T18:02:41.755Z"
   },
   {
    "duration": 72,
    "start_time": "2024-07-30T18:02:41.950Z"
   },
   {
    "duration": 23,
    "start_time": "2024-07-30T18:02:42.108Z"
   },
   {
    "duration": 41,
    "start_time": "2024-07-30T18:02:42.270Z"
   },
   {
    "duration": 563,
    "start_time": "2024-07-30T18:02:42.635Z"
   },
   {
    "duration": 488,
    "start_time": "2024-07-30T18:02:44.118Z"
   },
   {
    "duration": 10,
    "start_time": "2024-07-30T18:02:46.013Z"
   },
   {
    "duration": 410,
    "start_time": "2024-07-30T18:02:46.573Z"
   },
   {
    "duration": 11,
    "start_time": "2024-07-30T18:02:46.987Z"
   },
   {
    "duration": 619,
    "start_time": "2024-07-30T18:02:48.602Z"
   },
   {
    "duration": 1642,
    "start_time": "2024-07-30T18:02:51.164Z"
   },
   {
    "duration": 363,
    "start_time": "2024-07-30T18:02:53.722Z"
   },
   {
    "duration": 20,
    "start_time": "2024-07-30T18:03:36.206Z"
   },
   {
    "duration": 541,
    "start_time": "2024-07-30T18:26:15.200Z"
   },
   {
    "duration": 840,
    "start_time": "2024-07-30T18:31:13.188Z"
   },
   {
    "duration": 552,
    "start_time": "2024-07-30T18:31:59.915Z"
   },
   {
    "duration": 27,
    "start_time": "2024-07-30T18:32:45.460Z"
   },
   {
    "duration": 541,
    "start_time": "2024-07-30T18:32:51.097Z"
   },
   {
    "duration": 7,
    "start_time": "2024-07-30T18:33:20.735Z"
   },
   {
    "duration": 550,
    "start_time": "2024-07-30T18:33:39.639Z"
   },
   {
    "duration": 625,
    "start_time": "2024-07-30T18:34:04.014Z"
   },
   {
    "duration": 545,
    "start_time": "2024-07-30T18:34:11.050Z"
   },
   {
    "duration": 1418,
    "start_time": "2024-07-30T18:49:02.088Z"
   },
   {
    "duration": 39,
    "start_time": "2024-07-30T18:49:04.133Z"
   },
   {
    "duration": 19,
    "start_time": "2024-07-30T18:49:04.383Z"
   },
   {
    "duration": 23,
    "start_time": "2024-07-30T18:49:04.582Z"
   },
   {
    "duration": 7,
    "start_time": "2024-07-30T18:49:04.969Z"
   },
   {
    "duration": 27,
    "start_time": "2024-07-30T18:49:05.549Z"
   },
   {
    "duration": 18,
    "start_time": "2024-07-30T18:49:05.633Z"
   },
   {
    "duration": 22,
    "start_time": "2024-07-30T18:49:06.229Z"
   },
   {
    "duration": 19,
    "start_time": "2024-07-30T18:49:06.567Z"
   },
   {
    "duration": 14,
    "start_time": "2024-07-30T18:49:06.632Z"
   },
   {
    "duration": 14,
    "start_time": "2024-07-30T18:49:07.867Z"
   },
   {
    "duration": 502,
    "start_time": "2024-07-30T18:49:08.102Z"
   },
   {
    "duration": 17,
    "start_time": "2024-07-30T18:49:10.749Z"
   },
   {
    "duration": 8,
    "start_time": "2024-07-30T18:49:11.116Z"
   },
   {
    "duration": 67,
    "start_time": "2024-07-30T18:49:11.603Z"
   },
   {
    "duration": 11,
    "start_time": "2024-07-30T18:49:11.867Z"
   },
   {
    "duration": 34,
    "start_time": "2024-07-30T18:49:12.372Z"
   },
   {
    "duration": 22,
    "start_time": "2024-07-30T18:49:12.676Z"
   },
   {
    "duration": 31,
    "start_time": "2024-07-30T18:49:13.281Z"
   },
   {
    "duration": 615,
    "start_time": "2024-07-30T18:49:14.046Z"
   },
   {
    "duration": 553,
    "start_time": "2024-07-30T18:49:16.475Z"
   },
   {
    "duration": 11,
    "start_time": "2024-07-30T18:49:44.133Z"
   },
   {
    "duration": 418,
    "start_time": "2024-07-30T18:49:44.757Z"
   },
   {
    "duration": 11,
    "start_time": "2024-07-30T18:49:45.178Z"
   },
   {
    "duration": 542,
    "start_time": "2024-07-30T18:49:46.728Z"
   },
   {
    "duration": 1677,
    "start_time": "2024-07-30T18:49:47.957Z"
   },
   {
    "duration": 376,
    "start_time": "2024-07-30T18:49:49.637Z"
   },
   {
    "duration": 21,
    "start_time": "2024-07-30T18:49:53.723Z"
   },
   {
    "duration": 7,
    "start_time": "2024-07-30T18:52:00.903Z"
   },
   {
    "duration": 826,
    "start_time": "2024-07-30T18:52:04.381Z"
   },
   {
    "duration": 811,
    "start_time": "2024-07-30T18:52:15.308Z"
   },
   {
    "duration": 939,
    "start_time": "2024-07-30T18:52:28.002Z"
   },
   {
    "duration": 816,
    "start_time": "2024-07-30T18:52:50.368Z"
   },
   {
    "duration": 542,
    "start_time": "2024-07-30T18:53:23.286Z"
   },
   {
    "duration": 5161,
    "start_time": "2024-07-30T19:49:03.575Z"
   },
   {
    "duration": 57,
    "start_time": "2024-07-30T19:49:08.740Z"
   },
   {
    "duration": 21,
    "start_time": "2024-07-30T19:49:08.800Z"
   },
   {
    "duration": 44,
    "start_time": "2024-07-30T19:49:08.825Z"
   },
   {
    "duration": 9,
    "start_time": "2024-07-30T19:49:08.875Z"
   },
   {
    "duration": 31,
    "start_time": "2024-07-30T19:49:08.887Z"
   },
   {
    "duration": 51,
    "start_time": "2024-07-30T19:49:08.921Z"
   },
   {
    "duration": 24,
    "start_time": "2024-07-30T19:49:08.975Z"
   },
   {
    "duration": 18,
    "start_time": "2024-07-30T19:49:09.003Z"
   },
   {
    "duration": 50,
    "start_time": "2024-07-30T19:49:09.024Z"
   },
   {
    "duration": 17,
    "start_time": "2024-07-30T19:49:09.076Z"
   },
   {
    "duration": 513,
    "start_time": "2024-07-30T19:49:09.096Z"
   },
   {
    "duration": 18,
    "start_time": "2024-07-30T19:49:09.612Z"
   },
   {
    "duration": 31,
    "start_time": "2024-07-30T19:49:09.637Z"
   },
   {
    "duration": 69,
    "start_time": "2024-07-30T19:49:09.671Z"
   },
   {
    "duration": 32,
    "start_time": "2024-07-30T19:49:09.743Z"
   },
   {
    "duration": 35,
    "start_time": "2024-07-30T19:49:09.777Z"
   },
   {
    "duration": 54,
    "start_time": "2024-07-30T19:49:09.815Z"
   },
   {
    "duration": 35,
    "start_time": "2024-07-30T19:49:09.872Z"
   },
   {
    "duration": 561,
    "start_time": "2024-07-30T19:49:09.910Z"
   },
   {
    "duration": 687,
    "start_time": "2024-07-30T19:49:10.481Z"
   },
   {
    "duration": 16,
    "start_time": "2024-07-30T19:49:11.171Z"
   },
   {
    "duration": 438,
    "start_time": "2024-07-30T19:49:11.190Z"
   },
   {
    "duration": 9,
    "start_time": "2024-07-30T19:49:11.632Z"
   },
   {
    "duration": 548,
    "start_time": "2024-07-30T19:49:11.645Z"
   },
   {
    "duration": 1669,
    "start_time": "2024-07-30T19:49:12.195Z"
   },
   {
    "duration": 389,
    "start_time": "2024-07-30T19:49:13.869Z"
   },
   {
    "duration": 22,
    "start_time": "2024-07-30T19:49:14.267Z"
   },
   {
    "duration": 1274,
    "start_time": "2024-07-30T19:51:43.596Z"
   },
   {
    "duration": 38,
    "start_time": "2024-07-30T19:51:44.873Z"
   },
   {
    "duration": 19,
    "start_time": "2024-07-30T19:51:44.913Z"
   },
   {
    "duration": 49,
    "start_time": "2024-07-30T19:51:44.935Z"
   },
   {
    "duration": 7,
    "start_time": "2024-07-30T19:51:44.991Z"
   },
   {
    "duration": 35,
    "start_time": "2024-07-30T19:51:45.002Z"
   },
   {
    "duration": 21,
    "start_time": "2024-07-30T19:51:45.069Z"
   },
   {
    "duration": 24,
    "start_time": "2024-07-30T19:51:45.093Z"
   },
   {
    "duration": 54,
    "start_time": "2024-07-30T19:51:45.120Z"
   },
   {
    "duration": 16,
    "start_time": "2024-07-30T19:51:45.177Z"
   },
   {
    "duration": 14,
    "start_time": "2024-07-30T19:51:45.196Z"
   },
   {
    "duration": 535,
    "start_time": "2024-07-30T19:51:45.213Z"
   },
   {
    "duration": 31,
    "start_time": "2024-07-30T19:51:45.752Z"
   },
   {
    "duration": 8,
    "start_time": "2024-07-30T19:51:45.790Z"
   },
   {
    "duration": 95,
    "start_time": "2024-07-30T19:51:45.801Z"
   },
   {
    "duration": 13,
    "start_time": "2024-07-30T19:51:45.899Z"
   },
   {
    "duration": 127,
    "start_time": "2024-07-30T19:51:45.916Z"
   },
   {
    "duration": 37,
    "start_time": "2024-07-30T19:51:46.046Z"
   },
   {
    "duration": 33,
    "start_time": "2024-07-30T19:51:46.086Z"
   },
   {
    "duration": 581,
    "start_time": "2024-07-30T19:51:46.122Z"
   },
   {
    "duration": 579,
    "start_time": "2024-07-30T19:51:46.707Z"
   },
   {
    "duration": 10,
    "start_time": "2024-07-30T19:51:47.292Z"
   },
   {
    "duration": 460,
    "start_time": "2024-07-30T19:51:47.305Z"
   },
   {
    "duration": 11,
    "start_time": "2024-07-30T19:51:47.769Z"
   },
   {
    "duration": 571,
    "start_time": "2024-07-30T19:51:47.785Z"
   },
   {
    "duration": 1710,
    "start_time": "2024-07-30T19:51:48.360Z"
   },
   {
    "duration": 380,
    "start_time": "2024-07-30T19:51:50.074Z"
   },
   {
    "duration": 26,
    "start_time": "2024-07-30T19:51:50.458Z"
   }
  ],
  "kernelspec": {
   "display_name": "Python 3 (ipykernel)",
   "language": "python",
   "name": "python3"
  },
  "language_info": {
   "codemirror_mode": {
    "name": "ipython",
    "version": 3
   },
   "file_extension": ".py",
   "mimetype": "text/x-python",
   "name": "python",
   "nbconvert_exporter": "python",
   "pygments_lexer": "ipython3",
   "version": "3.9.19"
  },
  "toc": {
   "base_numbering": 1,
   "nav_menu": {},
   "number_sections": true,
   "sideBar": true,
   "skip_h1_title": true,
   "title_cell": "Table of Contents",
   "title_sidebar": "Contents",
   "toc_cell": false,
   "toc_position": {
    "height": "calc(100% - 180px)",
    "left": "10px",
    "top": "150px",
    "width": "321px"
   },
   "toc_section_display": true,
   "toc_window_display": true
  }
 },
 "nbformat": 4,
 "nbformat_minor": 2
}
